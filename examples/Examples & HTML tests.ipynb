{
 "cells": [
  {
   "cell_type": "markdown",
   "metadata": {},
   "source": [
    "# Example of HTML capabilities of project inside IPython / Jupyter notebook"
   ]
  },
  {
   "cell_type": "markdown",
   "metadata": {},
   "source": [
    "Note, this file used in tests, so it may contain additional test related logic."
   ]
  },
  {
   "cell_type": "markdown",
   "metadata": {},
   "source": [
    "## Initializing Environment"
   ]
  },
  {
   "cell_type": "code",
   "execution_count": 1,
   "metadata": {
    "collapsed": false
   },
   "outputs": [],
   "source": [
    "# import extensions first (they modify Session and Client classes)\n",
    "from openerp_proxy.ext.all import HField\n",
    "\n",
    "# Enable module_utils plugin\n",
    "import openerp_proxy.plugins.module_utils\n",
    "\n",
    "# Import Client and Session classes\n",
    "from openerp_proxy import (Client,\n",
    "                           Session)"
   ]
  },
  {
   "cell_type": "markdown",
   "metadata": {},
   "source": [
    "## Connect to odoo database"
   ]
  },
  {
   "cell_type": "markdown",
   "metadata": {},
   "source": [
    "For connection to Odoo ```Client``` class is used. Below is example of it's usage."
   ]
  },
  {
   "cell_type": "code",
   "execution_count": 2,
   "metadata": {
    "collapsed": false
   },
   "outputs": [
    {
     "data": {
      "text/html": [
       "\n",
       "<div class=\"container-fluid\">\n",
       "    <div class=\"row\">\n",
       "        <div class=\"panel panel-default col-md-7 col-lg-7\">\n",
       "            <div class=\"panel-heading\">RPC Client</div>\n",
       "            <div class=\"panel-body\">\n",
       "<table class=\"table table-bordered table-condensed \" style=\"margin-left:0;\">\n",
       "<tr><th>login</th><td>None</td></tr><tr><th>Host</th><td>localhost</td></tr><tr><th>Protocol</th><td>xml-rpc</td></tr><tr><th>Port</th><td>8069</td></tr><tr><th>Database</th><td>None</td></tr>\n",
       "</table>\n",
       "</div>\n",
       "        </div>\n",
       "        <div style=\"display:inline-block\" class=\"panel panel-default col-md-5 col-lg-5\">\n",
       "            <div class=\"panel-heading\">Info</div>\n",
       "            <div class=\"panel-body\">To get list of registered objects for thist database<br/>access <i>registered_objects</i> property:<br/>&nbsp;<i>.registered_objects</i><br/>To get Object instance just call <i>get_obj</i> method<br/>&nbsp;<i>.get_obj(name)</i><br/>where <i>name</i> is name of Object You want to get<br/>or use get item syntax instead:</br>&nbsp;<i>[name]</i></div>\n",
       "        </div>\n",
       "    </div>\n",
       "</div>\n"
      ],
      "text/plain": [
       "Client: xml-rpc://None@localhost:8069/None"
      ]
     },
     "execution_count": 2,
     "metadata": {},
     "output_type": "execute_result"
    }
   ],
   "source": [
    "cl = Client('localhost')  # connect to local instance of server\n",
    "cl"
   ]
  },
  {
   "cell_type": "markdown",
   "metadata": {},
   "source": [
    "Next we should check if database we would like to connect to is present on server.\n",
    "For this purpose we should use Odoo's database service, which could be accessed via ```Client.services.db```.\n",
    "And if database does not exists, we can create it."
   ]
  },
  {
   "cell_type": "code",
   "execution_count": 3,
   "metadata": {
    "collapsed": true
   },
   "outputs": [],
   "source": [
    "# check if our demo database exists\n",
    "if 'openerp_proxy_test_db' not in cl.services.db:\n",
    "    # create demo database\n",
    "    cl.services.db.create_db('admin', 'openerp_proxy_test_db', demo=True, lang='en_US')"
   ]
  },
  {
   "cell_type": "markdown",
   "metadata": {},
   "source": [
    "And now we can login to our database."
   ]
  },
  {
   "cell_type": "code",
   "execution_count": 4,
   "metadata": {
    "collapsed": false
   },
   "outputs": [
    {
     "data": {
      "text/html": [
       "\n",
       "<div class=\"container-fluid\">\n",
       "    <div class=\"row\">\n",
       "        <div class=\"panel panel-default col-md-7 col-lg-7\">\n",
       "            <div class=\"panel-heading\">RPC Client</div>\n",
       "            <div class=\"panel-body\">\n",
       "<table class=\"table table-bordered table-condensed \" style=\"margin-left:0;\">\n",
       "<tr><th>login</th><td>admin</td></tr><tr><th>Host</th><td>localhost</td></tr><tr><th>Protocol</th><td>xml-rpc</td></tr><tr><th>Port</th><td>8069</td></tr><tr><th>Database</th><td>openerp_proxy_test_db</td></tr>\n",
       "</table>\n",
       "</div>\n",
       "        </div>\n",
       "        <div style=\"display:inline-block\" class=\"panel panel-default col-md-5 col-lg-5\">\n",
       "            <div class=\"panel-heading\">Info</div>\n",
       "            <div class=\"panel-body\">To get list of registered objects for thist database<br/>access <i>registered_objects</i> property:<br/>&nbsp;<i>.registered_objects</i><br/>To get Object instance just call <i>get_obj</i> method<br/>&nbsp;<i>.get_obj(name)</i><br/>where <i>name</i> is name of Object You want to get<br/>or use get item syntax instead:</br>&nbsp;<i>[name]</i></div>\n",
       "        </div>\n",
       "    </div>\n",
       "</div>\n"
      ],
      "text/plain": [
       "Client: xml-rpc://admin@localhost:8069/openerp_proxy_test_db"
      ]
     },
     "execution_count": 4,
     "metadata": {},
     "output_type": "execute_result"
    }
   ],
   "source": [
    "# login to created database\n",
    "ldb = cl.login('openerp_proxy_test_db', 'admin', 'admin')  # all this arguments could be passed directly to Client constructor.\n",
    "\n",
    "# and let's look how it is displayed in IPython\n",
    "ldb"
   ]
  },
  {
   "cell_type": "markdown",
   "metadata": {},
   "source": [
    "*Note*, that ```ldb``` is new instance of ```Client``` class, but with login credential. it can be used to interact with object service (models, documents, logic, ...)"
   ]
  },
  {
   "cell_type": "markdown",
   "metadata": {},
   "source": [
    "## Session class"
   ]
  },
  {
   "cell_type": "markdown",
   "metadata": {},
   "source": [
    "If You often need to connect to same databases, there are a ```openerp_proxy.Session``` class,\n",
    "which automaticaly save, most of your connections, made via ```Session.connect``` method in specified file."
   ]
  },
  {
   "cell_type": "code",
   "execution_count": 5,
   "metadata": {
    "collapsed": false
   },
   "outputs": [],
   "source": [
    "# create session instance\n",
    "session = Session('~/.openerp_proxy.local.json')  # default file path is '~/.openerp_proxy.json'"
   ]
  },
  {
   "cell_type": "markdown",
   "metadata": {},
   "source": [
    "And there are option You may be interested in. It is 'store_passwords', which automaticaly saves password You have used for connection."
   ]
  },
  {
   "cell_type": "code",
   "execution_count": 6,
   "metadata": {
    "collapsed": false
   },
   "outputs": [
    {
     "data": {
      "text/plain": [
       "True"
      ]
     },
     "execution_count": 6,
     "metadata": {},
     "output_type": "execute_result"
    }
   ],
   "source": [
    "session.option('store_passwords', True)"
   ]
  },
  {
   "cell_type": "markdown",
   "metadata": {},
   "source": [
    "We used ```openerp_proxy.Client``` class to create connection to database, so our session does not know anything about it. Let's add our connection to our session:"
   ]
  },
  {
   "cell_type": "code",
   "execution_count": 7,
   "metadata": {
    "collapsed": false
   },
   "outputs": [
    {
     "data": {
      "text/html": [
       "\n",
       "<div class=\"container-fluid\">\n",
       "    <div class=\"row\">\n",
       "        <div class=\"panel panel-default col-md-7 col-lg-7\">\n",
       "            <div class=\"panel-heading\">Previous connections</div>\n",
       "            <div class=\"panel-body\">\n",
       "<table class=\"table table-bordered table-condensed table-striped\" style=\"margin-left:0;\">\n",
       "<tr><th>DB URL</th><th>DB Index</th><th>DB Aliases</th></tr><tr><td>xml-rpc://admin@localhost:8069/openerp_proxy_test_db</td><td>1</td><td></td></tr>\n",
       "</table>\n",
       "</div>\n",
       "        </div>\n",
       "        <div style=\"display:inline-block\" class=\"panel panel-default col-md-5 col-lg-5\">\n",
       "            <div class=\"panel-heading\">Info</div>\n",
       "            <div class=\"panel-body\">To get connection just call<br/> <ul><li>session.<b>aliase</b></li><li>session[<b>index</b>]</li><li>session[<b>aliase</b>]</li> <li>session[<b>url</b>]</li><li>session.get_db(<b>url</b>|<b>index</b>|<b>aliase</b>)</li></ul></div>\n",
       "        </div>\n",
       "    </div>\n",
       "</div>\n"
      ],
      "text/plain": [
       "<extend_me.Session at 0x31ed450>"
      ]
     },
     "execution_count": 7,
     "metadata": {},
     "output_type": "execute_result"
    }
   ],
   "source": [
    "session.add_db(ldb)\n",
    "session"
   ]
  },
  {
   "cell_type": "markdown",
   "metadata": {},
   "source": [
    "And now we can get this connection from session by index, or by URL (look at the table above). But to simplify next connections, we may add aliase to this connection"
   ]
  },
  {
   "cell_type": "code",
   "execution_count": 8,
   "metadata": {
    "collapsed": false
   },
   "outputs": [
    {
     "data": {
      "text/html": [
       "\n",
       "<div class=\"container-fluid\">\n",
       "    <div class=\"row\">\n",
       "        <div class=\"panel panel-default col-md-7 col-lg-7\">\n",
       "            <div class=\"panel-heading\">Previous connections</div>\n",
       "            <div class=\"panel-body\">\n",
       "<table class=\"table table-bordered table-condensed table-striped\" style=\"margin-left:0;\">\n",
       "<tr><th>DB URL</th><th>DB Index</th><th>DB Aliases</th></tr><tr><td>xml-rpc://admin@localhost:8069/openerp_proxy_test_db</td><td>1</td><td>ldb</td></tr>\n",
       "</table>\n",
       "</div>\n",
       "        </div>\n",
       "        <div style=\"display:inline-block\" class=\"panel panel-default col-md-5 col-lg-5\">\n",
       "            <div class=\"panel-heading\">Info</div>\n",
       "            <div class=\"panel-body\">To get connection just call<br/> <ul><li>session.<b>aliase</b></li><li>session[<b>index</b>]</li><li>session[<b>aliase</b>]</li> <li>session[<b>url</b>]</li><li>session.get_db(<b>url</b>|<b>index</b>|<b>aliase</b>)</li></ul></div>\n",
       "        </div>\n",
       "    </div>\n",
       "</div>\n"
      ],
      "text/plain": [
       "<extend_me.Session at 0x31ed450>"
      ]
     },
     "execution_count": 8,
     "metadata": {},
     "output_type": "execute_result"
    }
   ],
   "source": [
    "session.aliase('ldb', ldb)\n",
    "session"
   ]
  },
  {
   "cell_type": "markdown",
   "metadata": {},
   "source": [
    "So, now, to get connection again we could just type ```session.ldb```.\n",
    "\n",
    "Ok. initialization is done, and now we could save it."
   ]
  },
  {
   "cell_type": "code",
   "execution_count": 9,
   "metadata": {
    "collapsed": true
   },
   "outputs": [],
   "source": [
    "session.save()"
   ]
  },
  {
   "cell_type": "markdown",
   "metadata": {},
   "source": [
    "## Connect to odoo database  (via session)"
   ]
  },
  {
   "cell_type": "markdown",
   "metadata": {},
   "source": [
    "Let's now create new instance of session, and connect to created above database"
   ]
  },
  {
   "cell_type": "code",
   "execution_count": 10,
   "metadata": {
    "collapsed": false
   },
   "outputs": [
    {
     "data": {
      "text/html": [
       "\n",
       "<div class=\"container-fluid\">\n",
       "    <div class=\"row\">\n",
       "        <div class=\"panel panel-default col-md-7 col-lg-7\">\n",
       "            <div class=\"panel-heading\">RPC Client</div>\n",
       "            <div class=\"panel-body\">\n",
       "<table class=\"table table-bordered table-condensed \" style=\"margin-left:0;\">\n",
       "<tr><th>login</th><td>admin</td></tr><tr><th>Host</th><td>localhost</td></tr><tr><th>Protocol</th><td>xml-rpc</td></tr><tr><th>Port</th><td>8069</td></tr><tr><th>Database</th><td>openerp_proxy_test_db</td></tr>\n",
       "</table>\n",
       "</div>\n",
       "        </div>\n",
       "        <div style=\"display:inline-block\" class=\"panel panel-default col-md-5 col-lg-5\">\n",
       "            <div class=\"panel-heading\">Info</div>\n",
       "            <div class=\"panel-body\">To get list of registered objects for thist database<br/>access <i>registered_objects</i> property:<br/>&nbsp;<i>.registered_objects</i><br/>To get Object instance just call <i>get_obj</i> method<br/>&nbsp;<i>.get_obj(name)</i><br/>where <i>name</i> is name of Object You want to get<br/>or use get item syntax instead:</br>&nbsp;<i>[name]</i></div>\n",
       "        </div>\n",
       "    </div>\n",
       "</div>\n"
      ],
      "text/plain": [
       "Client: xml-rpc://admin@localhost:8069/openerp_proxy_test_db"
      ]
     },
     "execution_count": 10,
     "metadata": {},
     "output_type": "execute_result"
    }
   ],
   "source": [
    "session = Session('~/.openerp_proxy.local.json')  # default file path is '~/.openerp_proxy.json'\n",
    "ldb = session.ldb\n",
    "ldb"
   ]
  },
  {
   "cell_type": "markdown",
   "metadata": {},
   "source": [
    "## Module Utils plugin"
   ]
  },
  {
   "cell_type": "markdown",
   "metadata": {},
   "source": [
    "Our database is clean, for next code, we need to install ```sale``` addon. For this, we have ```module_utils``` plugin, out-of-the box, which simplyfies work with modules. To enable this plugin, we just need to import it, and then we will have it in ```ldb.plugins``` property. This plugin was imported above.\n",
    "This plugin extends ```ir.module.module``` model from client side, adding simple methods: ```install``` and ```upgrade``` to it for shorter syntax. If You're interested for code, look [here](https://github.com/katyukha/openerp-proxy/blob/master/openerp_proxy/plugins/module_utils.py), it is very simple!\n",
    "\n",
    "So now, let's install ```sale``` module.  (Note that in most cases, **IPython autocompletition** work's fine)"
   ]
  },
  {
   "cell_type": "code",
   "execution_count": 11,
   "metadata": {
    "collapsed": false
   },
   "outputs": [
    {
     "data": {
      "text/plain": [
       "{'tag': 'reload', 'type': 'ir.actions.client'}"
      ]
     },
     "execution_count": 11,
     "metadata": {},
     "output_type": "execute_result"
    }
   ],
   "source": [
    "ldb.plugins.module_utils.m_sale.install()"
   ]
  },
  {
   "cell_type": "markdown",
   "metadata": {},
   "source": [
    "Congratulation! module was installed! Now we need only to refresh caches, to see new models in database."
   ]
  },
  {
   "cell_type": "code",
   "execution_count": 12,
   "metadata": {
    "collapsed": true
   },
   "outputs": [],
   "source": [
    "ldb.clean_caches()"
   ]
  },
  {
   "cell_type": "markdown",
   "metadata": {},
   "source": [
    "## Get list of all registered objects (models)"
   ]
  },
  {
   "cell_type": "markdown",
   "metadata": {},
   "source": [
    "To get list of registered models, just use *registered_objects* proerty of *Client* instance.\n",
    "It returns list of all registered models in database. For example:"
   ]
  },
  {
   "cell_type": "code",
   "execution_count": 13,
   "metadata": {
    "collapsed": false,
    "scrolled": false
   },
   "outputs": [
    {
     "data": {
      "text/html": [
       "<div class='panel panel-default'><div class='panel-heading'>Registered models</div><div class='panel-body'>Note, that You may use <i>.to_csv()</i> method of this table to export it to CSV format</div><table class='table table-bordered table-condensed table-striped'><tr style='border: none'><th>Name</th><th>System Name</th><th>Description</th></tr><tr style='border:none'><td>Account</td><td>account.account</td><td>False</td></tr><tr style='border:none'><td>Templates for Accounts</td><td>account.account.template</td><td>False</td></tr><tr style='border:none'><td>Account Type</td><td>account.account.type</td><td>False</td></tr><tr style='border:none'><td>account.addtmpl.wizard</td><td>account.addtmpl.wizard</td><td>Add one more account from the template.\n",
       "\n",
       "    With the 'nocreate' option, some accounts may not be created. Use this to add them later.</td></tr><tr style='border:none'><td>Account Aged Trial balance Report</td><td>account.aged.trial.balance</td><td>False</td></tr><tr style='border:none'><td>Analytic Account</td><td>account.analytic.account</td><td>False</td></tr><tr style='border:none'><td>Account Analytic Balance</td><td>account.analytic.balance</td><td>False</td></tr><tr style='border:none'><td>Account Analytic Chart</td><td>account.analytic.chart</td><td>False</td></tr><tr style='border:none'><td>Account Analytic Cost Ledger</td><td>account.analytic.cost.ledger</td><td>False</td></tr><tr style='border:none'><td>Account Analytic Cost Ledger For Journal Report</td><td>account.analytic.cost.ledger.journal.report</td><td>False</td></tr><tr style='border:none'><td>Account Analytic Inverted Balance</td><td>account.analytic.inverted.balance</td><td>False</td></tr><tr style='border:none'><td>Analytic Journal</td><td>account.analytic.journal</td><td>False</td></tr><tr style='border:none'><td>Account Analytic Journal</td><td>account.analytic.journal.report</td><td>False</td></tr><tr style='border:none'><td>Analytic Line</td><td>account.analytic.line</td><td>False</td></tr><tr style='border:none'><td>Automatic Reconcile</td><td>account.automatic.reconcile</td><td>False</td></tr><tr style='border:none'><td>Trial Balance Report</td><td>account.balance.report</td><td>False</td></tr><tr style='border:none'><td>account.bank.accounts.wizard</td><td>account.bank.accounts.wizard</td><td>False</td></tr><tr style='border:none'><td>Bank Statement</td><td>account.bank.statement</td><td>False</td></tr><tr style='border:none'><td>Bank Statement Line</td><td>account.bank.statement.line</td><td>False</td></tr><tr style='border:none'><td>CashBox Line</td><td>account.cashbox.line</td><td> Cash Box Details </td></tr><tr style='border:none'><td>Account Central Journal</td><td>account.central.journal</td><td>False</td></tr><tr style='border:none'><td>Change Currency</td><td>account.change.currency</td><td>False</td></tr><tr style='border:none'><td>Account chart</td><td>account.chart</td><td>\n",
       "    For Chart of Accounts\n",
       "    </td></tr><tr style='border:none'><td>Templates for Account Chart</td><td>account.chart.template</td><td>False</td></tr><tr style='border:none'><td>Account Common Account Report</td><td>account.common.account.report</td><td>False</td></tr><tr style='border:none'><td>Account Common Journal Report</td><td>account.common.journal.report</td><td>False</td></tr><tr style='border:none'><td>Account Common Partner Report</td><td>account.common.partner.report</td><td>False</td></tr><tr style='border:none'><td>Account Common Report</td><td>account.common.report</td><td>False</td></tr><tr style='border:none'><td>account.config.settings</td><td>account.config.settings</td><td>False</td></tr><tr style='border:none'><td>Journal Items Analysis</td><td>account.entries.report</td><td>False</td></tr><tr style='border:none'><td>Account Report</td><td>account.financial.report</td><td>False</td></tr><tr style='border:none'><td>Fiscal Position</td><td>account.fiscal.position</td><td>False</td></tr><tr style='border:none'><td>Accounts Fiscal Position</td><td>account.fiscal.position.account</td><td>False</td></tr><tr style='border:none'><td>Template Account Fiscal Mapping</td><td>account.fiscal.position.account.template</td><td>False</td></tr><tr style='border:none'><td>Taxes Fiscal Position</td><td>account.fiscal.position.tax</td><td>False</td></tr><tr style='border:none'><td>Template Tax Fiscal Position</td><td>account.fiscal.position.tax.template</td><td>False</td></tr><tr style='border:none'><td>Template for Fiscal Position</td><td>account.fiscal.position.template</td><td>False</td></tr><tr style='border:none'><td>Fiscal Year</td><td>account.fiscalyear</td><td>False</td></tr><tr style='border:none'><td>Fiscalyear Close</td><td>account.fiscalyear.close</td><td>\n",
       "    Closes Account Fiscalyear and Generate Opening entries for New Fiscalyear\n",
       "    </td></tr><tr style='border:none'><td>Fiscalyear Close state</td><td>account.fiscalyear.close.state</td><td>\n",
       "    Closes  Account Fiscalyear\n",
       "    </td></tr><tr style='border:none'><td>Account General Journal</td><td>account.general.journal</td><td>False</td></tr><tr style='border:none'><td>Accounting Report</td><td>accounting.report</td><td>False</td></tr><tr style='border:none'><td>account.installer</td><td>account.installer</td><td>False</td></tr><tr style='border:none'><td>Invoice</td><td>account.invoice</td><td>False</td></tr><tr style='border:none'><td>Cancel the Selected Invoices</td><td>account.invoice.cancel</td><td>\n",
       "    This wizard will cancel the all the selected invoices.\n",
       "    If in the journal, the option allow cancelling entry is not selected then it will give warning message.\n",
       "    </td></tr><tr style='border:none'><td>Confirm the selected invoices</td><td>account.invoice.confirm</td><td>\n",
       "    This wizard will confirm the all the selected draft invoices\n",
       "    </td></tr><tr style='border:none'><td>Invoice Line</td><td>account.invoice.line</td><td>False</td></tr><tr style='border:none'><td>Invoice Refund</td><td>account.invoice.refund</td><td>Refunds invoice</td></tr><tr style='border:none'><td>Invoices Statistics</td><td>account.invoice.report</td><td>False</td></tr><tr style='border:none'><td>Invoice Tax</td><td>account.invoice.tax</td><td>False</td></tr><tr style='border:none'><td>Journal</td><td>account.journal</td><td>False</td></tr><tr style='border:none'><td>account.journal.cashbox.line</td><td>account.journal.cashbox.line</td><td>False</td></tr><tr style='border:none'><td>Journal Period</td><td>account.journal.period</td><td>False</td></tr><tr style='border:none'><td>Account Journal Select</td><td>account.journal.select</td><td>\n",
       "        Account Journal Select\n",
       "    </td></tr><tr style='border:none'><td>Account Model</td><td>account.model</td><td>False</td></tr><tr style='border:none'><td>Account Model Entries</td><td>account.model.line</td><td>False</td></tr><tr style='border:none'><td>Account Entry</td><td>account.move</td><td>False</td></tr><tr style='border:none'><td>Move bank reconcile</td><td>account.move.bank.reconcile</td><td>\n",
       "        Bank Reconciliation\n",
       "    </td></tr><tr style='border:none'><td>Journal Items</td><td>account.move.line</td><td>False</td></tr><tr style='border:none'><td>Account move line reconcile</td><td>account.move.line.reconcile</td><td>\n",
       "    Account move line reconcile wizard, it checks for the write off the reconcile entry or directly reconcile.\n",
       "    </td></tr><tr style='border:none'><td>Move line reconcile select</td><td>account.move.line.reconcile.select</td><td>False</td></tr><tr style='border:none'><td>Account move line reconcile (writeoff)</td><td>account.move.line.reconcile.writeoff</td><td>\n",
       "    It opens the write off wizard form, in that user can define the journal, account, analytic account for reconcile\n",
       "    </td></tr><tr style='border:none'><td>Unreconciliation</td><td>account.move.line.unreconcile.select</td><td>False</td></tr><tr style='border:none'><td>Account Reconciliation</td><td>account.move.reconcile</td><td>False</td></tr><tr style='border:none'><td>Choose Fiscal Year</td><td>account.open.closed.fiscalyear</td><td>False</td></tr><tr style='border:none'><td>Print Account Partner Balance</td><td>account.partner.balance</td><td>False</td></tr><tr style='border:none'><td>Account Partner Ledger</td><td>account.partner.ledger</td><td>False</td></tr><tr style='border:none'><td>Reconcilation Process partner by partner</td><td>account.partner.reconcile.process</td><td>False</td></tr><tr style='border:none'><td>Payment Term</td><td>account.payment.term</td><td>False</td></tr><tr style='border:none'><td>Payment Term Line</td><td>account.payment.term.line</td><td>False</td></tr><tr style='border:none'><td>Account period</td><td>account.period</td><td>False</td></tr><tr style='border:none'><td>period close</td><td>account.period.close</td><td>\n",
       "        close period\n",
       "    </td></tr><tr style='border:none'><td>Account Print Journal</td><td>account.print.journal</td><td>False</td></tr><tr style='border:none'><td>General Ledger Report</td><td>account.report.general.ledger</td><td>False</td></tr><tr style='border:none'><td>account.sequence.fiscalyear</td><td>account.sequence.fiscalyear</td><td>False</td></tr><tr style='border:none'><td>Entries by Statement from Invoices</td><td>account.statement.from.invoice.lines</td><td>\n",
       "    Generate Entries by Statement from Invoices\n",
       "    </td></tr><tr style='border:none'><td>Account State Open</td><td>account.state.open</td><td>False</td></tr><tr style='border:none'><td>Account Subscription</td><td>account.subscription</td><td>False</td></tr><tr style='border:none'><td>Subscription Compute</td><td>account.subscription.generate</td><td>False</td></tr><tr style='border:none'><td>Account Subscription Line</td><td>account.subscription.line</td><td>False</td></tr><tr style='border:none'><td>Tax</td><td>account.tax</td><td>\n",
       "    A tax object.\n",
       "\n",
       "    Type: percent, fixed, none, code\n",
       "        PERCENT: tax = price * amount\n",
       "        FIXED: tax = price + amount\n",
       "        NONE: no tax line\n",
       "        CODE: execute python code. localcontext = {'price_unit':pu}\n",
       "            return result in the context\n",
       "            Ex: result=round(price_unit*0.21,4)\n",
       "    </td></tr><tr style='border:none'><td>Account tax chart</td><td>account.tax.chart</td><td>\n",
       "    For Chart of taxes\n",
       "    </td></tr><tr style='border:none'><td>Tax Code</td><td>account.tax.code</td><td>\n",
       "    A code for the tax object.\n",
       "\n",
       "    This code is used for some tax declarations.\n",
       "    </td></tr><tr style='border:none'><td>Tax Code Template</td><td>account.tax.code.template</td><td>False</td></tr><tr style='border:none'><td>Templates for Taxes</td><td>account.tax.template</td><td>False</td></tr><tr style='border:none'><td>Treasury Analysis</td><td>account.treasury.report</td><td>False</td></tr><tr style='border:none'><td>Account Unreconcile</td><td>account.unreconcile</td><td>False</td></tr><tr style='border:none'><td>Account Unreconcile Reconcile</td><td>account.unreconcile.reconcile</td><td>False</td></tr><tr style='border:none'><td>Use model</td><td>account.use.model</td><td>False</td></tr><tr style='border:none'><td>Account Vat Declaration</td><td>account.vat.declaration</td><td>False</td></tr><tr style='border:none'><td>Accounting Voucher</td><td>account.voucher</td><td>False</td></tr><tr style='border:none'><td>Voucher Lines</td><td>account.voucher.line</td><td>False</td></tr><tr style='border:none'><td>Analytic Entries Statistics</td><td>analytic.entries.report</td><td>False</td></tr><tr style='border:none'><td>base.config.settings</td><td>base.config.settings</td><td>False</td></tr><tr style='border:none'><td>base_import.import</td><td>base_import.import</td><td>False</td></tr><tr style='border:none'><td>base_import.tests.models.char</td><td>base_import.tests.models.char</td><td>False</td></tr><tr style='border:none'><td>base_import.tests.models.char.noreadonly</td><td>base_import.tests.models.char.noreadonly</td><td>False</td></tr><tr style='border:none'><td>base_import.tests.models.char.readonly</td><td>base_import.tests.models.char.readonly</td><td>False</td></tr><tr style='border:none'><td>base_import.tests.models.char.required</td><td>base_import.tests.models.char.required</td><td>False</td></tr><tr style='border:none'><td>base_import.tests.models.char.states</td><td>base_import.tests.models.char.states</td><td>False</td></tr><tr style='border:none'><td>base_import.tests.models.char.stillreadonly</td><td>base_import.tests.models.char.stillreadonly</td><td>False</td></tr><tr style='border:none'><td>base_import.tests.models.m2o</td><td>base_import.tests.models.m2o</td><td>False</td></tr><tr style='border:none'><td>base_import.tests.models.m2o.related</td><td>base_import.tests.models.m2o.related</td><td>False</td></tr><tr style='border:none'><td>base_import.tests.models.m2o.required</td><td>base_import.tests.models.m2o.required</td><td>False</td></tr><tr style='border:none'><td>base_import.tests.models.m2o.required.related</td><td>base_import.tests.models.m2o.required.related</td><td>False</td></tr><tr style='border:none'><td>base_import.tests.models.o2m</td><td>base_import.tests.models.o2m</td><td>False</td></tr><tr style='border:none'><td>base_import.tests.models.o2m.child</td><td>base_import.tests.models.o2m.child</td><td>False</td></tr><tr style='border:none'><td>base_import.tests.models.preview</td><td>base_import.tests.models.preview</td><td>False</td></tr><tr style='border:none'><td>base.language.export</td><td>base.language.export</td><td>False</td></tr><tr style='border:none'><td>Language Import</td><td>base.language.import</td><td> Language Import </td></tr><tr style='border:none'><td>Install Language</td><td>base.language.install</td><td> Install Language</td></tr><tr style='border:none'><td>base.module.configuration</td><td>base.module.configuration</td><td>False</td></tr><tr style='border:none'><td>Import Module</td><td>base.module.import</td><td> Import Module </td></tr><tr style='border:none'><td>Update Module</td><td>base.module.update</td><td> Update Module </td></tr><tr style='border:none'><td>Module Upgrade</td><td>base.module.upgrade</td><td> Module Upgrade </td></tr><tr style='border:none'><td>base.setup.terminology</td><td>base.setup.terminology</td><td>False</td></tr><tr style='border:none'><td>base.update.translations</td><td>base.update.translations</td><td>False</td></tr><tr style='border:none'><td>Board</td><td>board.board</td><td>False</td></tr><tr style='border:none'><td>Board Creation</td><td>board.create</td><td>False</td></tr><tr style='border:none'><td>cash.box.in</td><td>cash.box.in</td><td>False</td></tr><tr style='border:none'><td>cash.box.out</td><td>cash.box.out</td><td>False</td></tr><tr style='border:none'><td>Change Password Wizard User</td><td>change.password.user</td><td>\n",
       "        A model to configure users in the change password wizard\n",
       "    </td></tr><tr style='border:none'><td>Change Password Wizard</td><td>change.password.wizard</td><td>\n",
       "        A wizard to manage the change of users' passwords\n",
       "    </td></tr><tr style='border:none'><td>decimal.precision</td><td>decimal.precision</td><td>False</td></tr><tr style='border:none'><td>EDI Subsystem</td><td>edi.edi</td><td>False</td></tr><tr style='border:none'><td>Email Templates</td><td>email.template</td><td>Templates for sending email</td></tr><tr style='border:none'><td>Email Template Preview</td><td>email_template.preview</td><td>False</td></tr><tr style='border:none'><td>fetchmail.config.settings</td><td>fetchmail.config.settings</td><td> This wizard can be inherited in conjunction with 'res.config.settings', in order to\n",
       "        define fields that configure a fetchmail server.\n",
       "\n",
       "        It relies on the following convention on the object::\n",
       "\n",
       "            class my_config_settings(osv.osv_memory):\n",
       "                _name = 'my.settings'\n",
       "                _inherit = ['res.config.settings', 'fetchmail.config.settings']\n",
       "\n",
       "                _columns = {\n",
       "                    'fetchmail_stuff': fields.boolean(...,\n",
       "                        fetchmail_model='my.stuff', fetchmail_name='Incoming Stuff'),\n",
       "                }\n",
       "\n",
       "                def configure_fetchmail_stuff(self, cr, uid, ids, context=None):\n",
       "                    return self.configure_fetchmail(cr, uid, 'fetchmail_stuff', context)\n",
       "\n",
       "        and in the form view::\n",
       "\n",
       "            <field name=\"fetchmail_stuff\"/>\n",
       "            <button type=\"object\" name=\"configure_fetchmail_stuff\"/>\n",
       "\n",
       "        The method ``get_default_fetchmail`` determines the value of all fields that start\n",
       "        with 'fetchmail_'.  It looks up fetchmail server configurations that match the given\n",
       "        model name (``fetchmail_model``) and are active.\n",
       "\n",
       "        The button action ``configure_fetchmail_stuff`` is caught by the object, and calls\n",
       "        automatically the method ``configure_fetchmail``; it opens the fetchmail server\n",
       "        configuration form for the corresponding field.\n",
       "    </td></tr><tr style='border:none'><td>POP/IMAP Server</td><td>fetchmail.server</td><td>Incoming POP/IMAP mail server account</td></tr><tr style='border:none'><td>ir.actions.actions</td><td>ir.actions.actions</td><td>False</td></tr><tr style='border:none'><td>ir.actions.act_url</td><td>ir.actions.act_url</td><td>False</td></tr><tr style='border:none'><td>ir.actions.act_window</td><td>ir.actions.act_window</td><td>False</td></tr><tr style='border:none'><td>ir.actions.act_window_close</td><td>ir.actions.act_window_close</td><td>False</td></tr><tr style='border:none'><td>ir.actions.act_window.view</td><td>ir.actions.act_window.view</td><td>False</td></tr><tr style='border:none'><td>ir.actions.client</td><td>ir.actions.client</td><td>False</td></tr><tr style='border:none'><td>ir.actions.configuration.wizard</td><td>ir.actions.configuration.wizard</td><td>False</td></tr><tr style='border:none'><td>ir.actions.report.xml</td><td>ir.actions.report.xml</td><td>False</td></tr><tr style='border:none'><td>ir.actions.server</td><td>ir.actions.server</td><td>False</td></tr><tr style='border:none'><td>Configuration Wizards</td><td>ir.actions.todo</td><td>\n",
       "    Configuration Wizards\n",
       "    </td></tr><tr style='border:none'><td>ir.actions.wizard</td><td>ir.actions.wizard</td><td>False</td></tr><tr style='border:none'><td>ir.attachment</td><td>ir.attachment</td><td>Attachments are used to link binary files or url to any openerp document.\n",
       "\n",
       "    External attachment storage\n",
       "    ---------------------------\n",
       "    \n",
       "    The 'data' function field (_data_get,data_set) is implemented using\n",
       "    _file_read, _file_write and _file_delete which can be overridden to\n",
       "    implement other storage engines, shuch methods should check for other\n",
       "    location pseudo uri (example: hdfs://hadoppserver)\n",
       "    \n",
       "    The default implementation is the file:dirname location that stores files\n",
       "    on the local filesystem using name based on their sha1 hash\n",
       "    </td></tr><tr style='border:none'><td>ir.config_parameter</td><td>ir.config_parameter</td><td>Per-database storage of configuration key-value pairs.</td></tr><tr style='border:none'><td>ir.cron</td><td>ir.cron</td><td> Model describing cron jobs (also called actions or tasks).\n",
       "    </td></tr><tr style='border:none'><td>ir.default</td><td>ir.default</td><td>False</td></tr><tr style='border:none'><td>ir.exports</td><td>ir.exports</td><td>False</td></tr><tr style='border:none'><td>ir.exports.line</td><td>ir.exports.line</td><td>False</td></tr><tr style='border:none'><td>ir.fields.converter</td><td>ir.fields.converter</td><td>False</td></tr><tr style='border:none'><td>Filters</td><td>ir.filters</td><td>False</td></tr><tr style='border:none'><td>ir.mail_server</td><td>ir.mail_server</td><td>Represents an SMTP server, able to send outgoing emails, with SSL and TLS capabilities.</td></tr><tr style='border:none'><td>Models</td><td>ir.model</td><td>False</td></tr><tr style='border:none'><td>ir.model.access</td><td>ir.model.access</td><td>False</td></tr><tr style='border:none'><td>ir.model.constraint</td><td>ir.model.constraint</td><td>\n",
       "    This model tracks PostgreSQL foreign keys and constraints used by OpenERP\n",
       "    models.\n",
       "    </td></tr><tr style='border:none'><td>ir.model.data</td><td>ir.model.data</td><td>Holds external identifier keys for records in the database.\n",
       "       This has two main uses:\n",
       "\n",
       "           * allows easy data integration with third-party systems,\n",
       "             making import/export/sync of data possible, as records\n",
       "             can be uniquely identified across multiple systems\n",
       "           * allows tracking the origin of data installed by OpenERP\n",
       "             modules themselves, thus making it possible to later\n",
       "             update them seamlessly.\n",
       "    </td></tr><tr style='border:none'><td>Fields</td><td>ir.model.fields</td><td>False</td></tr><tr style='border:none'><td>ir.model.relation</td><td>ir.model.relation</td><td>\n",
       "    This model tracks PostgreSQL tables used to implement OpenERP many2many\n",
       "    relations.\n",
       "    </td></tr><tr style='border:none'><td>Application</td><td>ir.module.category</td><td>False</td></tr><tr style='border:none'><td>Module</td><td>ir.module.module</td><td>False</td></tr><tr style='border:none'><td>Module dependency</td><td>ir.module.module.dependency</td><td>False</td></tr><tr style='border:none'><td>ir.needaction_mixin</td><td>ir.needaction_mixin</td><td>Mixin class for objects using the need action feature.\n",
       "\n",
       "    Need action feature can be used by models that have to be able to\n",
       "    signal that an action is required on a particular record. If in\n",
       "    the business logic an action must be performed by somebody, for\n",
       "    instance validation by a manager, this mechanism allows to set a\n",
       "    list of users asked to perform an action.\n",
       "\n",
       "    Models using the 'need_action' feature should override the\n",
       "    ``_needaction_domain_get`` method. This method returns a\n",
       "    domain to filter records requiring an action for a specific user.\n",
       "\n",
       "    This class also offers several global services:\n",
       "    - ``_needaction_count``: returns the number of actions uid has to perform\n",
       "    </td></tr><tr style='border:none'><td>ir.property</td><td>ir.property</td><td>False</td></tr><tr style='border:none'><td>ir.rule</td><td>ir.rule</td><td>False</td></tr><tr style='border:none'><td>ir.sequence</td><td>ir.sequence</td><td> Sequence model.\n",
       "\n",
       "    The sequence model allows to define and use so-called sequence objects.\n",
       "    Such objects are used to generate unique identifiers in a transaction-safe\n",
       "    way.\n",
       "\n",
       "    </td></tr><tr style='border:none'><td>ir.sequence.type</td><td>ir.sequence.type</td><td>False</td></tr><tr style='border:none'><td>ir.server.object.lines</td><td>ir.server.object.lines</td><td>False</td></tr><tr style='border:none'><td>ir.translation</td><td>ir.translation</td><td>False</td></tr><tr style='border:none'><td>ir.ui.menu</td><td>ir.ui.menu</td><td>False</td></tr><tr style='border:none'><td>ir.ui.view</td><td>ir.ui.view</td><td>False</td></tr><tr style='border:none'><td>ir.ui.view.custom</td><td>ir.ui.view.custom</td><td>False</td></tr><tr style='border:none'><td>ir.ui.view_sc</td><td>ir.ui.view_sc</td><td>False</td></tr><tr style='border:none'><td>ir.values</td><td>ir.values</td><td>Holds internal model-specific action bindings and user-defined default\n",
       "       field values. definitions. This is a legacy internal model, mixing\n",
       "       two different concepts, and will likely be updated or replaced in a\n",
       "       future version by cleaner, separate models. You should not depend\n",
       "       explicitly on it.\n",
       "\n",
       "       The purpose of each ``ir.values`` entry depends on its type, defined\n",
       "       by the ``key`` column:\n",
       "\n",
       "        * 'default': user-defined default values, used when creating new\n",
       "          records of this model:\n",
       "        * 'action': binding of an action to a particular *action slot* of\n",
       "          this model, making the action easily available in the user\n",
       "          interface for this model.\n",
       "\n",
       "       The ``key2`` column acts as a qualifier, further refining the type\n",
       "       of the entry. The possible values are:\n",
       "\n",
       "        * for 'default' entries: an optional condition restricting the\n",
       "          cases where this particular default value will be applicable,\n",
       "          or ``False`` for no condition\n",
       "        * for 'action' entries: the ``key2`` qualifier is one of the available\n",
       "          action slots, defining how this action can be invoked:\n",
       "\n",
       "            * ``'client_print_multi'`` for report printing actions that will\n",
       "              be available on views displaying items from this model\n",
       "            * ``'client_action_multi'`` for assistants (wizards) actions\n",
       "              that will be available in views displaying objects of this model\n",
       "            * ``'client_action_relate'`` for links towards related documents\n",
       "              that should be available in views displaying objects of this model\n",
       "            * ``'tree_but_open'`` for actions that will be triggered when\n",
       "              double-clicking an item from this model in a hierarchical tree view\n",
       "\n",
       "       Each entry is specific to a model (``model`` column), and for ``'actions'``\n",
       "       type, may even be made specific to a given record of that model when the\n",
       "       ``res_id`` column contains a record ID (``False`` means it's global for\n",
       "       all records).\n",
       "\n",
       "       The content of the entry is defined by the ``value`` column, which may either\n",
       "       contain an arbitrary value, or a reference string defining the action that\n",
       "       should be executed.\n",
       "\n",
       "       .. rubric:: Usage: default values\n",
       "       \n",
       "       The ``'default'`` entries are usually defined manually by the\n",
       "       users, and set by their UI clients calling :meth:`~.set_default`.\n",
       "       These default values are then automatically used by the\n",
       "       ORM every time a new record is about to be created, i.e. when\n",
       "       :meth:`~openerp.osv.osv.osv.default_get`\n",
       "       or :meth:`~openerp.osv.osv.osv.create` are called.\n",
       "\n",
       "       .. rubric:: Usage: action bindings\n",
       "\n",
       "       Business applications will usually bind their actions during\n",
       "       installation, and OpenERP UI clients will apply them as defined,\n",
       "       based on the list of actions included in the result of\n",
       "       :meth:`~openerp.osv.osv.osv.fields_view_get`,\n",
       "       or directly returned by explicit calls to :meth:`~.get_actions`.\n",
       "    </td></tr><tr style='border:none'><td>Email Aliases</td><td>mail.alias</td><td>A Mail Alias is a mapping of an email address with a given OpenERP Document\n",
       "       model. It is used by OpenERP's mail gateway when processing incoming emails\n",
       "       sent to the system. If the recipient address (To) of the message matches\n",
       "       a Mail Alias, the message will be either processed following the rules\n",
       "       of that alias. If the message is a reply it will be attached to the\n",
       "       existing discussion on the corresponding record, otherwise a new\n",
       "       record of the corresponding model will be created.\n",
       "       \n",
       "       This is meant to be used in combination with a catch-all email configuration\n",
       "       on the company's mail server, so that as soon as a new mail.alias is\n",
       "       created, it becomes immediately usable and OpenERP will accept email for it.\n",
       "     </td></tr><tr style='border:none'><td>Email composition wizard</td><td>mail.compose.message</td><td>False</td></tr><tr style='border:none'><td>Document Followers</td><td>mail.followers</td><td> mail_followers holds the data related to the follow mechanism inside\n",
       "        OpenERP. Partners can choose to follow documents (records) of any kind\n",
       "        that inherits from mail.thread. Following documents allow to receive\n",
       "        notifications for new messages.\n",
       "        A subscription is characterized by:\n",
       "            :param: res_model: model of the followed objects\n",
       "            :param: res_id: ID of resource (may be 0 for every objects)\n",
       "    </td></tr><tr style='border:none'><td>Discussion group</td><td>mail.group</td><td>False</td></tr><tr style='border:none'><td>Outgoing Mails</td><td>mail.mail</td><td> Model holding RFC2822 email messages to send. This model also provides\n",
       "        facilities to queue and send new email messages.  </td></tr><tr style='border:none'><td>Message</td><td>mail.message</td><td>False</td></tr><tr style='border:none'><td>Message subtypes</td><td>mail.message.subtype</td><td> Class holding subtype definition for messages. Subtypes allow to tune\n",
       "        the follower subscription, allowing only some subtypes to be pushed\n",
       "        on the Wall. </td></tr><tr style='border:none'><td>Notifications</td><td>mail.notification</td><td> Class holding notifications pushed to partners. Followers and partners\n",
       "        added in 'contacts to notify' receive notifications. </td></tr><tr style='border:none'><td>Email Thread</td><td>mail.thread</td><td> mail_thread model is meant to be inherited by any model that needs to\n",
       "        act as a discussion topic on which messages can be attached. Public\n",
       "        methods are prefixed with ``message_`` in order to avoid name\n",
       "        collisions with methods of the models that will inherit from this class.\n",
       "\n",
       "        ``mail.thread`` defines fields used to handle and display the\n",
       "        communication history. ``mail.thread`` also manages followers of\n",
       "        inheriting classes. All features and expected behavior are managed\n",
       "        by mail.thread. Widgets has been designed for the 7.0 and following\n",
       "        versions of OpenERP.\n",
       "\n",
       "        Inheriting classes are not required to implement any method, as the\n",
       "        default implementation will work for any model. However it is common\n",
       "        to override at least the ``message_new`` and ``message_update``\n",
       "        methods (calling ``super``) to add model-specific behavior at\n",
       "        creation and update of a thread when processing incoming emails.\n",
       "\n",
       "        Options:\n",
       "            - _mail_flat_thread: if set to True, all messages without parent_id\n",
       "                are automatically attached to the first message posted on the\n",
       "                ressource. If set to False, the display of Chatter is done using\n",
       "                threads, and no parent_id is automatically set.\n",
       "    </td></tr><tr style='border:none'><td>Invite wizard</td><td>mail.wizard.invite</td><td> Wizard to invite partners and make them followers. </td></tr><tr style='border:none'><td>Default multi company</td><td>multi_company.default</td><td>\n",
       "    Manage multi company default value\n",
       "    </td></tr><tr style='border:none'><td>osv_memory.autovacuum</td><td>osv_memory.autovacuum</td><td> Expose the osv_memory.vacuum() method to the cron jobs mechanism. </td></tr><tr style='border:none'><td>Online Payment Acquirer</td><td>portal.payment.acquirer</td><td>False</td></tr><tr style='border:none'><td>Portal Access Management</td><td>portal.wizard</td><td>\n",
       "        A wizard to manage the creation/removal of portal users.\n",
       "    </td></tr><tr style='border:none'><td>Portal User Config</td><td>portal.wizard.user</td><td>\n",
       "        A model to configure users in the portal wizard.\n",
       "    </td></tr><tr style='border:none'><td>pricelist.partnerinfo</td><td>pricelist.partnerinfo</td><td>False</td></tr><tr style='border:none'><td>Condition</td><td>process.condition</td><td>False</td></tr><tr style='border:none'><td>Process Node</td><td>process.node</td><td>False</td></tr><tr style='border:none'><td>Process</td><td>process.process</td><td>False</td></tr><tr style='border:none'><td>Process Transition</td><td>process.transition</td><td>False</td></tr><tr style='border:none'><td>Process Transitions Actions</td><td>process.transition.action</td><td>False</td></tr><tr style='border:none'><td>Product Category</td><td>product.category</td><td>False</td></tr><tr style='border:none'><td>Packaging</td><td>product.packaging</td><td>False</td></tr><tr style='border:none'><td>Pricelist</td><td>product.pricelist</td><td>False</td></tr><tr style='border:none'><td>Price List</td><td>product.price_list</td><td>False</td></tr><tr style='border:none'><td>Pricelist item</td><td>product.pricelist.item</td><td>False</td></tr><tr style='border:none'><td>Pricelist Type</td><td>product.pricelist.type</td><td>False</td></tr><tr style='border:none'><td>Pricelist Version</td><td>product.pricelist.version</td><td>False</td></tr><tr style='border:none'><td>Price Type</td><td>product.price.type</td><td>\n",
       "        The price type is used to points which field in the product form\n",
       "        is a price and in which currency is this price expressed.\n",
       "        When a field is a price, you can use it in pricelists to base\n",
       "        sale and purchase prices based on some fields of the product.\n",
       "    </td></tr><tr style='border:none'><td>Product</td><td>product.product</td><td>False</td></tr><tr style='border:none'><td>Information about a product supplier</td><td>product.supplierinfo</td><td>False</td></tr><tr style='border:none'><td>Product Template</td><td>product.template</td><td>False</td></tr><tr style='border:none'><td>Shipping Unit</td><td>product.ul</td><td>False</td></tr><tr style='border:none'><td>Product Unit of Measure</td><td>product.uom</td><td>False</td></tr><tr style='border:none'><td>Product uom categ</td><td>product.uom.categ</td><td>False</td></tr><tr style='border:none'><td>Analytic Entries by line</td><td>project.account.analytic.line</td><td>False</td></tr><tr style='border:none'><td>publisher_warranty.contract</td><td>publisher_warranty.contract</td><td>False</td></tr><tr style='border:none'><td>Receivable accounts</td><td>report.account.receivable</td><td>False</td></tr><tr style='border:none'><td>Report of the Sales by Account</td><td>report.account.sales</td><td>False</td></tr><tr style='border:none'><td>Report of the Sales by Account Type</td><td>report.account_type.sales</td><td>False</td></tr><tr style='border:none'><td>Aged Receivable Till Today</td><td>report.aged.receivable</td><td>False</td></tr><tr style='border:none'><td>Report of Invoices Created within Last 15 days</td><td>report.invoice.created</td><td>False</td></tr><tr style='border:none'><td>Bank</td><td>res.bank</td><td>False</td></tr><tr style='border:none'><td>Companies</td><td>res.company</td><td>False</td></tr><tr style='border:none'><td>res.config</td><td>res.config</td><td> Base classes for new-style configuration items\n",
       "\n",
       "    Configuration items should inherit from this class, implement\n",
       "    the execute method (and optionally the cancel one) and have\n",
       "    their view inherit from the related res_config_view_base view.\n",
       "    </td></tr><tr style='border:none'><td>res.config.installer</td><td>res.config.installer</td><td>False</td></tr><tr style='border:none'><td>res.config.settings</td><td>res.config.settings</td><td> Base configuration wizard for application settings.  It provides support for setting\n",
       "        default values, assigning groups to employee users, and installing modules.\n",
       "        To make such a 'settings' wizard, define a model like::\n",
       "\n",
       "            class my_config_wizard(osv.osv_memory):\n",
       "                _name = 'my.settings'\n",
       "                _inherit = 'res.config.settings'\n",
       "                _columns = {\n",
       "                    'default_foo': fields.type(..., default_model='my.model'),\n",
       "                    'group_bar': fields.boolean(..., group='base.group_user', implied_group='my.group'),\n",
       "                    'module_baz': fields.boolean(...),\n",
       "                    'other_field': fields.type(...),\n",
       "                }\n",
       "\n",
       "        The method ``execute`` provides some support based on a naming convention:\n",
       "\n",
       "        *   For a field like 'default_XXX', ``execute`` sets the (global) default value of\n",
       "            the field 'XXX' in the model named by ``default_model`` to the field's value.\n",
       "\n",
       "        *   For a boolean field like 'group_XXX', ``execute`` adds/removes 'implied_group'\n",
       "            to/from the implied groups of 'group', depending on the field's value.\n",
       "            By default 'group' is the group Employee.  Groups are given by their xml id.\n",
       "\n",
       "        *   For a boolean field like 'module_XXX', ``execute`` triggers the immediate\n",
       "            installation of the module named 'XXX' if the field has value ``True``.\n",
       "\n",
       "        *   For the other fields, the method ``execute`` invokes all methods with a name\n",
       "            that starts with 'set_'; such methods can be defined to implement the effect\n",
       "            of those fields.\n",
       "\n",
       "        The method ``default_get`` retrieves values that reflect the current status of the\n",
       "        fields like 'default_XXX', 'group_XXX' and 'module_XXX'.  It also invokes all methods\n",
       "        with a name that starts with 'get_default_'; such methods can be defined to provide\n",
       "        current values for other fields.\n",
       "    </td></tr><tr style='border:none'><td>Country</td><td>res.country</td><td>False</td></tr><tr style='border:none'><td>Country state</td><td>res.country.state</td><td>False</td></tr><tr style='border:none'><td>Currency</td><td>res.currency</td><td>False</td></tr><tr style='border:none'><td>Currency Rate</td><td>res.currency.rate</td><td>False</td></tr><tr style='border:none'><td>Currency Rate Type</td><td>res.currency.rate.type</td><td>False</td></tr><tr style='border:none'><td>Access Groups</td><td>res.groups</td><td>False</td></tr><tr style='border:none'><td>Languages</td><td>res.lang</td><td>False</td></tr><tr style='border:none'><td>Partner</td><td>res.partner</td><td>False</td></tr><tr style='border:none'><td>Bank Accounts</td><td>res.partner.bank</td><td>Bank Accounts</td></tr><tr style='border:none'><td>Bank Account Type</td><td>res.partner.bank.type</td><td>False</td></tr><tr style='border:none'><td>Bank type fields</td><td>res.partner.bank.type.field</td><td>False</td></tr><tr style='border:none'><td>Partner Categories</td><td>res.partner.category</td><td>False</td></tr><tr style='border:none'><td>res.partner.title</td><td>res.partner.title</td><td>False</td></tr><tr style='border:none'><td>res.request</td><td>res.request</td><td>False</td></tr><tr style='border:none'><td>res.request.history</td><td>res.request.history</td><td>False</td></tr><tr style='border:none'><td>res.request.link</td><td>res.request.link</td><td>False</td></tr><tr style='border:none'><td>Users</td><td>res.users</td><td>False</td></tr><tr style='border:none'><td>Sales Advance Payment Invoice</td><td>sale.advance.payment.inv</td><td>False</td></tr><tr style='border:none'><td>sale.config.settings</td><td>sale.config.settings</td><td>False</td></tr><tr style='border:none'><td>Sales Make Invoice</td><td>sale.make.invoice</td><td>False</td></tr><tr style='border:none'><td>Sales Order</td><td>sale.order</td><td>False</td></tr><tr style='border:none'><td>Sales Order Line</td><td>sale.order.line</td><td>False</td></tr><tr style='border:none'><td>Sale OrderLine Make_invoice</td><td>sale.order.line.make.invoice</td><td>False</td></tr><tr style='border:none'><td>Sales Receipt Statistics</td><td>sale.receipt.report</td><td>False</td></tr><tr style='border:none'><td>Sales Orders Statistics</td><td>sale.report</td><td>False</td></tr><tr style='border:none'><td>Sales Shop</td><td>sale.shop</td><td>False</td></tr><tr style='border:none'><td>Share Wizard</td><td>share.wizard</td><td>False</td></tr><tr style='border:none'><td>share.wizard.result.line</td><td>share.wizard.result.line</td><td>False</td></tr><tr style='border:none'><td>A Temporary table used for Dashboard view</td><td>temp.range</td><td>False</td></tr><tr style='border:none'><td>Validate Account Move</td><td>validate.account.move</td><td>False</td></tr><tr style='border:none'><td>Validate Account Move Lines</td><td>validate.account.move.lines</td><td>False</td></tr><tr style='border:none'><td>wizard.ir.model.menu.create</td><td>wizard.ir.model.menu.create</td><td>False</td></tr><tr style='border:none'><td>wizard.multi.charts.accounts</td><td>wizard.multi.charts.accounts</td><td>False</td></tr><tr style='border:none'><td>workflow</td><td>workflow</td><td>False</td></tr><tr style='border:none'><td>workflow.activity</td><td>workflow.activity</td><td>False</td></tr><tr style='border:none'><td>workflow.instance</td><td>workflow.instance</td><td>False</td></tr><tr style='border:none'><td>workflow.transition</td><td>workflow.transition</td><td>False</td></tr><tr style='border:none'><td>workflow.triggers</td><td>workflow.triggers</td><td>False</td></tr><tr style='border:none'><td>workflow.workitem</td><td>workflow.workitem</td><td>False</td></tr></table><div class='panel-footer'>Total lines: 256</div><div>"
      ],
      "text/plain": [
       "['account.account',\n",
       " 'account.account.template',\n",
       " 'account.account.type',\n",
       " 'account.addtmpl.wizard',\n",
       " 'account.aged.trial.balance',\n",
       " 'account.analytic.account',\n",
       " 'account.analytic.balance',\n",
       " 'account.analytic.chart',\n",
       " 'account.analytic.cost.ledger',\n",
       " 'account.analytic.cost.ledger.journal.report',\n",
       " 'account.analytic.inverted.balance',\n",
       " 'account.analytic.journal',\n",
       " 'account.analytic.journal.report',\n",
       " 'account.analytic.line',\n",
       " 'account.automatic.reconcile',\n",
       " 'account.balance.report',\n",
       " 'account.bank.accounts.wizard',\n",
       " 'account.bank.statement',\n",
       " 'account.bank.statement.line',\n",
       " 'account.cashbox.line',\n",
       " 'account.central.journal',\n",
       " 'account.change.currency',\n",
       " 'account.chart',\n",
       " 'account.chart.template',\n",
       " 'account.common.account.report',\n",
       " 'account.common.journal.report',\n",
       " 'account.common.partner.report',\n",
       " 'account.common.report',\n",
       " 'account.config.settings',\n",
       " 'account.entries.report',\n",
       " 'account.financial.report',\n",
       " 'account.fiscal.position',\n",
       " 'account.fiscal.position.account',\n",
       " 'account.fiscal.position.account.template',\n",
       " 'account.fiscal.position.tax',\n",
       " 'account.fiscal.position.tax.template',\n",
       " 'account.fiscal.position.template',\n",
       " 'account.fiscalyear',\n",
       " 'account.fiscalyear.close',\n",
       " 'account.fiscalyear.close.state',\n",
       " 'account.general.journal',\n",
       " 'accounting.report',\n",
       " 'account.installer',\n",
       " 'account.invoice',\n",
       " 'account.invoice.cancel',\n",
       " 'account.invoice.confirm',\n",
       " 'account.invoice.line',\n",
       " 'account.invoice.refund',\n",
       " 'account.invoice.report',\n",
       " 'account.invoice.tax',\n",
       " 'account.journal',\n",
       " 'account.journal.cashbox.line',\n",
       " 'account.journal.period',\n",
       " 'account.journal.select',\n",
       " 'account.model',\n",
       " 'account.model.line',\n",
       " 'account.move',\n",
       " 'account.move.bank.reconcile',\n",
       " 'account.move.line',\n",
       " 'account.move.line.reconcile',\n",
       " 'account.move.line.reconcile.select',\n",
       " 'account.move.line.reconcile.writeoff',\n",
       " 'account.move.line.unreconcile.select',\n",
       " 'account.move.reconcile',\n",
       " 'account.open.closed.fiscalyear',\n",
       " 'account.partner.balance',\n",
       " 'account.partner.ledger',\n",
       " 'account.partner.reconcile.process',\n",
       " 'account.payment.term',\n",
       " 'account.payment.term.line',\n",
       " 'account.period',\n",
       " 'account.period.close',\n",
       " 'account.print.journal',\n",
       " 'account.report.general.ledger',\n",
       " 'account.sequence.fiscalyear',\n",
       " 'account.statement.from.invoice.lines',\n",
       " 'account.state.open',\n",
       " 'account.subscription',\n",
       " 'account.subscription.generate',\n",
       " 'account.subscription.line',\n",
       " 'account.tax',\n",
       " 'account.tax.chart',\n",
       " 'account.tax.code',\n",
       " 'account.tax.code.template',\n",
       " 'account.tax.template',\n",
       " 'account.treasury.report',\n",
       " 'account.unreconcile',\n",
       " 'account.unreconcile.reconcile',\n",
       " 'account.use.model',\n",
       " 'account.vat.declaration',\n",
       " 'account.voucher',\n",
       " 'account.voucher.line',\n",
       " 'analytic.entries.report',\n",
       " 'base.config.settings',\n",
       " 'base_import.import',\n",
       " 'base_import.tests.models.char',\n",
       " 'base_import.tests.models.char.noreadonly',\n",
       " 'base_import.tests.models.char.readonly',\n",
       " 'base_import.tests.models.char.required',\n",
       " 'base_import.tests.models.char.states',\n",
       " 'base_import.tests.models.char.stillreadonly',\n",
       " 'base_import.tests.models.m2o',\n",
       " 'base_import.tests.models.m2o.related',\n",
       " 'base_import.tests.models.m2o.required',\n",
       " 'base_import.tests.models.m2o.required.related',\n",
       " 'base_import.tests.models.o2m',\n",
       " 'base_import.tests.models.o2m.child',\n",
       " 'base_import.tests.models.preview',\n",
       " 'base.language.export',\n",
       " 'base.language.import',\n",
       " 'base.language.install',\n",
       " 'base.module.configuration',\n",
       " 'base.module.import',\n",
       " 'base.module.update',\n",
       " 'base.module.upgrade',\n",
       " 'base.setup.terminology',\n",
       " 'base.update.translations',\n",
       " 'board.board',\n",
       " 'board.create',\n",
       " 'cash.box.in',\n",
       " 'cash.box.out',\n",
       " 'change.password.user',\n",
       " 'change.password.wizard',\n",
       " 'decimal.precision',\n",
       " 'edi.edi',\n",
       " 'email.template',\n",
       " 'email_template.preview',\n",
       " 'fetchmail.config.settings',\n",
       " 'fetchmail.server',\n",
       " 'ir.actions.actions',\n",
       " 'ir.actions.act_url',\n",
       " 'ir.actions.act_window',\n",
       " 'ir.actions.act_window_close',\n",
       " 'ir.actions.act_window.view',\n",
       " 'ir.actions.client',\n",
       " 'ir.actions.configuration.wizard',\n",
       " 'ir.actions.report.xml',\n",
       " 'ir.actions.server',\n",
       " 'ir.actions.todo',\n",
       " 'ir.actions.wizard',\n",
       " 'ir.attachment',\n",
       " 'ir.config_parameter',\n",
       " 'ir.cron',\n",
       " 'ir.default',\n",
       " 'ir.exports',\n",
       " 'ir.exports.line',\n",
       " 'ir.fields.converter',\n",
       " 'ir.filters',\n",
       " 'ir.mail_server',\n",
       " 'ir.model',\n",
       " 'ir.model.access',\n",
       " 'ir.model.constraint',\n",
       " 'ir.model.data',\n",
       " 'ir.model.fields',\n",
       " 'ir.model.relation',\n",
       " 'ir.module.category',\n",
       " 'ir.module.module',\n",
       " 'ir.module.module.dependency',\n",
       " 'ir.needaction_mixin',\n",
       " 'ir.property',\n",
       " 'ir.rule',\n",
       " 'ir.sequence',\n",
       " 'ir.sequence.type',\n",
       " 'ir.server.object.lines',\n",
       " 'ir.translation',\n",
       " 'ir.ui.menu',\n",
       " 'ir.ui.view',\n",
       " 'ir.ui.view.custom',\n",
       " 'ir.ui.view_sc',\n",
       " 'ir.values',\n",
       " 'mail.alias',\n",
       " 'mail.compose.message',\n",
       " 'mail.followers',\n",
       " 'mail.group',\n",
       " 'mail.mail',\n",
       " 'mail.message',\n",
       " 'mail.message.subtype',\n",
       " 'mail.notification',\n",
       " 'mail.thread',\n",
       " 'mail.wizard.invite',\n",
       " 'multi_company.default',\n",
       " 'osv_memory.autovacuum',\n",
       " 'portal.payment.acquirer',\n",
       " 'portal.wizard',\n",
       " 'portal.wizard.user',\n",
       " 'pricelist.partnerinfo',\n",
       " 'process.condition',\n",
       " 'process.node',\n",
       " 'process.process',\n",
       " 'process.transition',\n",
       " 'process.transition.action',\n",
       " 'product.category',\n",
       " 'product.packaging',\n",
       " 'product.pricelist',\n",
       " 'product.price_list',\n",
       " 'product.pricelist.item',\n",
       " 'product.pricelist.type',\n",
       " 'product.pricelist.version',\n",
       " 'product.price.type',\n",
       " 'product.product',\n",
       " 'product.supplierinfo',\n",
       " 'product.template',\n",
       " 'product.ul',\n",
       " 'product.uom',\n",
       " 'product.uom.categ',\n",
       " 'project.account.analytic.line',\n",
       " 'publisher_warranty.contract',\n",
       " 'report.account.receivable',\n",
       " 'report.account.sales',\n",
       " 'report.account_type.sales',\n",
       " 'report.aged.receivable',\n",
       " 'report.invoice.created',\n",
       " 'res.bank',\n",
       " 'res.company',\n",
       " 'res.config',\n",
       " 'res.config.installer',\n",
       " 'res.config.settings',\n",
       " 'res.country',\n",
       " 'res.country.state',\n",
       " 'res.currency',\n",
       " 'res.currency.rate',\n",
       " 'res.currency.rate.type',\n",
       " 'res.groups',\n",
       " 'res.lang',\n",
       " 'res.partner',\n",
       " 'res.partner.bank',\n",
       " 'res.partner.bank.type',\n",
       " 'res.partner.bank.type.field',\n",
       " 'res.partner.category',\n",
       " 'res.partner.title',\n",
       " 'res.request',\n",
       " 'res.request.history',\n",
       " 'res.request.link',\n",
       " 'res.users',\n",
       " 'sale.advance.payment.inv',\n",
       " 'sale.config.settings',\n",
       " 'sale.make.invoice',\n",
       " 'sale.order',\n",
       " 'sale.order.line',\n",
       " 'sale.order.line.make.invoice',\n",
       " 'sale.receipt.report',\n",
       " 'sale.report',\n",
       " 'sale.shop',\n",
       " 'share.wizard',\n",
       " 'share.wizard.result.line',\n",
       " 'temp.range',\n",
       " 'validate.account.move',\n",
       " 'validate.account.move.lines',\n",
       " 'wizard.ir.model.menu.create',\n",
       " 'wizard.multi.charts.accounts',\n",
       " 'workflow',\n",
       " 'workflow.activity',\n",
       " 'workflow.instance',\n",
       " 'workflow.transition',\n",
       " 'workflow.triggers',\n",
       " 'workflow.workitem']"
      ]
     },
     "execution_count": 13,
     "metadata": {},
     "output_type": "execute_result"
    }
   ],
   "source": [
    "ldb.registered_objects"
   ]
  },
  {
   "cell_type": "markdown",
   "metadata": {},
   "source": [
    "## Get object / model"
   ]
  },
  {
   "cell_type": "markdown",
   "metadata": {},
   "source": [
    "*ldb* here represents database connection (*Client* class instance)\n",
    "As told in help message above *.get_obj* method allows to get instance of specified\n",
    "*Object* proxy, where Object means *model*, *document*."
   ]
  },
  {
   "cell_type": "code",
   "execution_count": 14,
   "metadata": {
    "collapsed": false
   },
   "outputs": [
    {
     "data": {
      "text/html": [
       "\n",
       "<div class=\"container-fluid\">\n",
       "    <div class=\"row\">\n",
       "        <div class=\"panel panel-default col-md-7 col-lg-7\">\n",
       "            <div class=\"panel-heading\">Sales Order</div>\n",
       "            <div class=\"panel-body\">\n",
       "<table class=\"table table-bordered table-condensed \" style=\"margin-left:0;\">\n",
       "<tr><th>Model</th><td>sale.order</td></tr><tr><th>Client</th><td>xml-rpc://admin@localhost:8069/openerp_proxy_test_db</td></tr><tr><th>Name</th><td>Sales Order</td></tr><tr><th>Record count</th><td>8</td></tr>\n",
       "</table>\n",
       "</div>\n",
       "        </div>\n",
       "        <div style=\"display:inline-block\" class=\"panel panel-default col-md-5 col-lg-5\">\n",
       "            <div class=\"panel-heading\">Info</div>\n",
       "            <div class=\"panel-body\">To get information about columns access property<br/>&nbsp;<i>.columns_info</i><br/>Also there are available standard server-side methods:<br/>&nbsp;<i>search</i>, <i>read</i>, <i>write</i>, <i>unlink</i></br>And special methods provided <i>openerp_proxy's orm</i>:<ul style='margin-top:1px'><li><i>search_records</i> - same as <i>search</i> but returns <i>RecordList</i> instance</li><li><i>read_records</i> - same as <i>read</i> but returns <i>Record</i> or <i>RecordList</i> instance</li><ul><br/></div>\n",
       "        </div>\n",
       "    </div>\n",
       "</div>\n"
      ],
      "text/plain": [
       "Object ('sale.order')"
      ]
     },
     "execution_count": 14,
     "metadata": {},
     "output_type": "execute_result"
    }
   ],
   "source": [
    "so = ldb.get_obj('sale.order')\n",
    "so"
   ]
  },
  {
   "cell_type": "markdown",
   "metadata": {},
   "source": [
    "Also it is posible to use shorter (dictionary style) syntax:"
   ]
  },
  {
   "cell_type": "code",
   "execution_count": 15,
   "metadata": {
    "collapsed": false
   },
   "outputs": [
    {
     "data": {
      "text/html": [
       "\n",
       "<div class=\"container-fluid\">\n",
       "    <div class=\"row\">\n",
       "        <div class=\"panel panel-default col-md-7 col-lg-7\">\n",
       "            <div class=\"panel-heading\">Sales Order</div>\n",
       "            <div class=\"panel-body\">\n",
       "<table class=\"table table-bordered table-condensed \" style=\"margin-left:0;\">\n",
       "<tr><th>Model</th><td>sale.order</td></tr><tr><th>Client</th><td>xml-rpc://admin@localhost:8069/openerp_proxy_test_db</td></tr><tr><th>Name</th><td>Sales Order</td></tr><tr><th>Record count</th><td>8</td></tr>\n",
       "</table>\n",
       "</div>\n",
       "        </div>\n",
       "        <div style=\"display:inline-block\" class=\"panel panel-default col-md-5 col-lg-5\">\n",
       "            <div class=\"panel-heading\">Info</div>\n",
       "            <div class=\"panel-body\">To get information about columns access property<br/>&nbsp;<i>.columns_info</i><br/>Also there are available standard server-side methods:<br/>&nbsp;<i>search</i>, <i>read</i>, <i>write</i>, <i>unlink</i></br>And special methods provided <i>openerp_proxy's orm</i>:<ul style='margin-top:1px'><li><i>search_records</i> - same as <i>search</i> but returns <i>RecordList</i> instance</li><li><i>read_records</i> - same as <i>read</i> but returns <i>Record</i> or <i>RecordList</i> instance</li><ul><br/></div>\n",
       "        </div>\n",
       "    </div>\n",
       "</div>\n"
      ],
      "text/plain": [
       "Object ('sale.order')"
      ]
     },
     "execution_count": 15,
     "metadata": {},
     "output_type": "execute_result"
    }
   ],
   "source": [
    "so = ldb['sale.order']\n",
    "so"
   ]
  },
  {
   "cell_type": "markdown",
   "metadata": {},
   "source": [
    "And as result of using [*openerp_proxy.ext.sugar*](http://pythonhosted.org/openerp_proxy/module_ref/openerp_proxy.ext.html#module-openerp_proxy.ext.sugar) extension\n",
    "(which is automaticaly imported in 'openerp_proxy.ext.all')\n",
    "there are attribute-style access (which also support's IPython auto-completition):"
   ]
  },
  {
   "cell_type": "code",
   "execution_count": 16,
   "metadata": {
    "collapsed": false
   },
   "outputs": [
    {
     "data": {
      "text/html": [
       "\n",
       "<div class=\"container-fluid\">\n",
       "    <div class=\"row\">\n",
       "        <div class=\"panel panel-default col-md-7 col-lg-7\">\n",
       "            <div class=\"panel-heading\">Sales Order</div>\n",
       "            <div class=\"panel-body\">\n",
       "<table class=\"table table-bordered table-condensed \" style=\"margin-left:0;\">\n",
       "<tr><th>Model</th><td>sale.order</td></tr><tr><th>Client</th><td>xml-rpc://admin@localhost:8069/openerp_proxy_test_db</td></tr><tr><th>Name</th><td>Sales Order</td></tr><tr><th>Record count</th><td>8</td></tr>\n",
       "</table>\n",
       "</div>\n",
       "        </div>\n",
       "        <div style=\"display:inline-block\" class=\"panel panel-default col-md-5 col-lg-5\">\n",
       "            <div class=\"panel-heading\">Info</div>\n",
       "            <div class=\"panel-body\">To get information about columns access property<br/>&nbsp;<i>.columns_info</i><br/>Also there are available standard server-side methods:<br/>&nbsp;<i>search</i>, <i>read</i>, <i>write</i>, <i>unlink</i></br>And special methods provided <i>openerp_proxy's orm</i>:<ul style='margin-top:1px'><li><i>search_records</i> - same as <i>search</i> but returns <i>RecordList</i> instance</li><li><i>read_records</i> - same as <i>read</i> but returns <i>Record</i> or <i>RecordList</i> instance</li><ul><br/></div>\n",
       "        </div>\n",
       "    </div>\n",
       "</div>\n"
      ],
      "text/plain": [
       "Object ('sale.order')"
      ]
     },
     "execution_count": 16,
     "metadata": {},
     "output_type": "execute_result"
    }
   ],
   "source": [
    "so = ldb._sale_order\n",
    "so"
   ]
  },
  {
   "cell_type": "markdown",
   "metadata": {},
   "source": [
    "## Getting information about available columns for Object"
   ]
  },
  {
   "cell_type": "code",
   "execution_count": 17,
   "metadata": {
    "collapsed": false,
    "scrolled": false
   },
   "outputs": [
    {
     "data": {
      "text/html": [
       "<div class='panel panel-default'><div class='panel-heading'>Fields for sale.order</div><div class='panel-body'>Note, that You may use <i>.to_csv()</i> method of this table to export it to CSV format</div><table class='table table-bordered table-condensed table-striped'><tr style='border: none'><th>Name</th><th>Disp. Name</th><th>Type</th><th>Required</th><th>Help</th></tr><tr style='border:none'><td>amount_tax</td><td>Taxes</td><td>float</td><td>None</td><td>The tax amount.</td></tr><tr style='border:none'><td>amount_total</td><td>Total</td><td>float</td><td>None</td><td>The total amount.</td></tr><tr style='border:none'><td>amount_untaxed</td><td>Untaxed Amount</td><td>float</td><td>None</td><td>The amount without tax.</td></tr><tr style='border:none'><td>client_order_ref</td><td>Customer Reference</td><td>char</td><td>None</td><td>None</td></tr><tr style='border:none'><td>company_id</td><td>Company</td><td>many2one</td><td>None</td><td>None</td></tr><tr style='border:none'><td>create_date</td><td>Creation Date</td><td>datetime</td><td>None</td><td>Date on which sales order is created.</td></tr><tr style='border:none'><td>currency_id</td><td>Currency</td><td>many2one</td><td>True</td><td>None</td></tr><tr style='border:none'><td>date_confirm</td><td>Confirmation Date</td><td>date</td><td>None</td><td>Date on which sales order is confirmed.</td></tr><tr style='border:none'><td>date_order</td><td>Date</td><td>date</td><td>True</td><td>None</td></tr><tr style='border:none'><td>fiscal_position</td><td>Fiscal Position</td><td>many2one</td><td>None</td><td>None</td></tr><tr style='border:none'><td>invoice_exists</td><td>Invoiced</td><td>boolean</td><td>None</td><td>It indicates that sales order has at least one invoice.</td></tr><tr style='border:none'><td>invoice_ids</td><td>Invoices</td><td>many2many</td><td>None</td><td>This is the list of invoices that have been generated for this sales order. The same sales order may have been invoiced in several times (by line for example).</td></tr><tr style='border:none'><td>invoice_quantity</td><td>Invoice on</td><td>selection</td><td>True</td><td>The sales order will automatically create the invoice proposition (draft invoice).</td></tr><tr style='border:none'><td>invoiced</td><td>Paid</td><td>boolean</td><td>None</td><td>It indicates that an invoice has been paid.</td></tr><tr style='border:none'><td>invoiced_rate</td><td>Invoiced Ratio</td><td>float</td><td>None</td><td>None</td></tr><tr style='border:none'><td>message_follower_ids</td><td>Followers</td><td>many2many</td><td>None</td><td>None</td></tr><tr style='border:none'><td>message_ids</td><td>Messages</td><td>one2many</td><td>None</td><td>Messages and communication history</td></tr><tr style='border:none'><td>message_is_follower</td><td>Is a Follower</td><td>boolean</td><td>None</td><td>None</td></tr><tr style='border:none'><td>message_summary</td><td>Summary</td><td>text</td><td>None</td><td>Holds the Chatter summary (number of messages, ...). This summary is directly in html format in order to be inserted in kanban views.</td></tr><tr style='border:none'><td>message_unread</td><td>Unread Messages</td><td>boolean</td><td>None</td><td>If checked new messages require your attention.</td></tr><tr style='border:none'><td>name</td><td>Order Reference</td><td>char</td><td>True</td><td>None</td></tr><tr style='border:none'><td>note</td><td>Terms and conditions</td><td>text</td><td>None</td><td>None</td></tr><tr style='border:none'><td>order_line</td><td>Order Lines</td><td>one2many</td><td>None</td><td>None</td></tr><tr style='border:none'><td>order_policy</td><td>Create Invoice</td><td>selection</td><td>True</td><td>This field controls how invoice and delivery operations are synchronized.</td></tr><tr style='border:none'><td>origin</td><td>Source Document</td><td>char</td><td>None</td><td>Reference of the document that generated this sales order request.</td></tr><tr style='border:none'><td>partner_id</td><td>Customer</td><td>many2one</td><td>True</td><td>None</td></tr><tr style='border:none'><td>partner_invoice_id</td><td>Invoice Address</td><td>many2one</td><td>True</td><td>Invoice address for current sales order.</td></tr><tr style='border:none'><td>partner_shipping_id</td><td>Delivery Address</td><td>many2one</td><td>True</td><td>Delivery address for current sales order.</td></tr><tr style='border:none'><td>payment_term</td><td>Payment Term</td><td>many2one</td><td>None</td><td>None</td></tr><tr style='border:none'><td>paypal_url</td><td>Paypal Url</td><td>char</td><td>None</td><td>None</td></tr><tr style='border:none'><td>portal_payment_options</td><td>Portal Payment Options</td><td>html</td><td>None</td><td>None</td></tr><tr style='border:none'><td>pricelist_id</td><td>Pricelist</td><td>many2one</td><td>True</td><td>Pricelist for current sales order.</td></tr><tr style='border:none'><td>project_id</td><td>Contract / Analytic</td><td>many2one</td><td>None</td><td>The analytic account related to a sales order.</td></tr><tr style='border:none'><td>shop_id</td><td>Shop</td><td>many2one</td><td>True</td><td>None</td></tr><tr style='border:none'><td>state</td><td>Status</td><td>selection</td><td>None</td><td>Gives the status of the quotation or sales order. \n",
       "The exception status is automatically set when a cancel operation occurs in the processing of a document linked to the sales order. \n",
       "The 'Waiting Schedule' status is set when the invoice is confirmed but waiting for the scheduler to run on the order date.</td></tr><tr style='border:none'><td>user_id</td><td>Salesperson</td><td>many2one</td><td>None</td><td>None</td></tr></table><div class='panel-footer'>Total lines: 36</div><div>"
      ],
      "text/plain": [
       "Name                    Disp. Name              Type         Required  Help\n",
       "----------------------  ----------------------  ---------  ----------  ------------------------------------------------------------------------------------------------------------------------------------------------------------------------------------------------------------------------------------------------------------------------------------------------------------------\n",
       "amount_tax              Taxes                   float                  The tax amount.\n",
       "amount_total            Total                   float                  The total amount.\n",
       "amount_untaxed          Untaxed Amount          float                  The amount without tax.\n",
       "client_order_ref        Customer Reference      char\n",
       "company_id              Company                 many2one\n",
       "create_date             Creation Date           datetime               Date on which sales order is created.\n",
       "currency_id             Currency                many2one            1\n",
       "date_confirm            Confirmation Date       date                   Date on which sales order is confirmed.\n",
       "date_order              Date                    date                1\n",
       "fiscal_position         Fiscal Position         many2one\n",
       "invoice_exists          Invoiced                boolean                It indicates that sales order has at least one invoice.\n",
       "invoice_ids             Invoices                many2many              This is the list of invoices that have been generated for this sales order. The same sales order may have been invoiced in several times (by line for example).\n",
       "invoice_quantity        Invoice on              selection           1  The sales order will automatically create the invoice proposition (draft invoice).\n",
       "invoiced                Paid                    boolean                It indicates that an invoice has been paid.\n",
       "invoiced_rate           Invoiced Ratio          float\n",
       "message_follower_ids    Followers               many2many\n",
       "message_ids             Messages                one2many               Messages and communication history\n",
       "message_is_follower     Is a Follower           boolean\n",
       "message_summary         Summary                 text                   Holds the Chatter summary (number of messages, ...). This summary is directly in html format in order to be inserted in kanban views.\n",
       "message_unread          Unread Messages         boolean                If checked new messages require your attention.\n",
       "name                    Order Reference         char                1\n",
       "note                    Terms and conditions    text\n",
       "order_line              Order Lines             one2many\n",
       "order_policy            Create Invoice          selection           1  This field controls how invoice and delivery operations are synchronized.\n",
       "origin                  Source Document         char                   Reference of the document that generated this sales order request.\n",
       "partner_id              Customer                many2one            1\n",
       "partner_invoice_id      Invoice Address         many2one            1  Invoice address for current sales order.\n",
       "partner_shipping_id     Delivery Address        many2one            1  Delivery address for current sales order.\n",
       "payment_term            Payment Term            many2one\n",
       "paypal_url              Paypal Url              char\n",
       "portal_payment_options  Portal Payment Options  html\n",
       "pricelist_id            Pricelist               many2one            1  Pricelist for current sales order.\n",
       "project_id              Contract / Analytic     many2one               The analytic account related to a sales order.\n",
       "shop_id                 Shop                    many2one            1\n",
       "state                   Status                  selection              Gives the status of the quotation or sales order. \n",
       "The exception status is automatically set when a cancel operation occurs in the processing of a document linked to the sales order. \n",
       "The 'Waiting Schedule' status is set when the invoice is confirmed but waiting for the scheduler to run on the order date.\n",
       "user_id                 Salesperson             many2one"
      ]
     },
     "execution_count": 17,
     "metadata": {},
     "output_type": "execute_result"
    }
   ],
   "source": [
    "so.columns_info"
   ]
  },
  {
   "cell_type": "markdown",
   "metadata": {},
   "source": [
    "## Search for sale orders"
   ]
  },
  {
   "cell_type": "code",
   "execution_count": 18,
   "metadata": {
    "collapsed": false,
    "scrolled": true
   },
   "outputs": [
    {
     "data": {
      "text/html": [
       "\n",
       "<div class=\"container-fluid\">\n",
       "    <div class=\"row\">\n",
       "        <div class=\"panel panel-default col-md-7 col-lg-7\">\n",
       "            <div class=\"panel-heading\">RecordList(sale.order): length=8</div>\n",
       "            <div class=\"panel-body\">\n",
       "<table class=\"table table-bordered table-condensed \" style=\"margin-left:0;\">\n",
       "<tr><th>Client</th><td>xml-rpc://admin@localhost:8069/openerp_proxy_test_db</td></tr><tr><th>Object</th><td>Object ('sale.order')</td></tr><tr><th>Record count</th><td>8</td></tr>\n",
       "</table>\n",
       "</div>\n",
       "        </div>\n",
       "        <div style=\"display:inline-block\" class=\"panel panel-default col-md-5 col-lg-5\">\n",
       "            <div class=\"panel-heading\">Info</div>\n",
       "            <div class=\"panel-body\">To get table representation of data call method<br/>&nbsp;<i>.as_html_table</i><br/>passing as arguments fields You want to see in resulting table<br/>for better information get doc on as_html_table method:<br/>&nbsp;<i>.as_html_table?</i><br/>example of using this mehtod:<br/>&nbsp;<i>.as_html_table('id','name','_name')</i><br/>Here <i>_name</i> field is aliase for result of <i>name_get</i> methodcalled on record</div>\n",
       "        </div>\n",
       "    </div>\n",
       "</div>\n"
      ],
      "text/plain": [
       "RecordList(sale.order): length=8"
      ]
     },
     "execution_count": 18,
     "metadata": {},
     "output_type": "execute_result"
    }
   ],
   "source": [
    "# Standard search .search_records(domain)\n",
    "so_list = so.search_records([])\n",
    "so_list"
   ]
  },
  {
   "cell_type": "markdown",
   "metadata": {},
   "source": [
    "Also there are shorter syntax provided by [*openerp_proxy.ext.sugar*](http://pythonhosted.org/openerp_proxy/module_ref/openerp_proxy.ext.html#module-openerp_proxy.ext.sugar) extension:"
   ]
  },
  {
   "cell_type": "code",
   "execution_count": 19,
   "metadata": {
    "collapsed": false
   },
   "outputs": [
    {
     "data": {
      "text/html": [
       "\n",
       "<div class=\"container-fluid\">\n",
       "    <div class=\"row\">\n",
       "        <div class=\"panel panel-default col-md-7 col-lg-7\">\n",
       "            <div class=\"panel-heading\">RecordList(sale.order): length=8</div>\n",
       "            <div class=\"panel-body\">\n",
       "<table class=\"table table-bordered table-condensed \" style=\"margin-left:0;\">\n",
       "<tr><th>Client</th><td>xml-rpc://admin@localhost:8069/openerp_proxy_test_db</td></tr><tr><th>Object</th><td>Object ('sale.order')</td></tr><tr><th>Record count</th><td>8</td></tr>\n",
       "</table>\n",
       "</div>\n",
       "        </div>\n",
       "        <div style=\"display:inline-block\" class=\"panel panel-default col-md-5 col-lg-5\">\n",
       "            <div class=\"panel-heading\">Info</div>\n",
       "            <div class=\"panel-body\">To get table representation of data call method<br/>&nbsp;<i>.as_html_table</i><br/>passing as arguments fields You want to see in resulting table<br/>for better information get doc on as_html_table method:<br/>&nbsp;<i>.as_html_table?</i><br/>example of using this mehtod:<br/>&nbsp;<i>.as_html_table('id','name','_name')</i><br/>Here <i>_name</i> field is aliase for result of <i>name_get</i> methodcalled on record</div>\n",
       "        </div>\n",
       "    </div>\n",
       "</div>\n"
      ],
      "text/plain": [
       "RecordList(sale.order): length=8"
      ]
     },
     "execution_count": 19,
     "metadata": {},
     "output_type": "execute_result"
    }
   ],
   "source": [
    "so_list = so([])\n",
    "so_list"
   ]
  },
  {
   "cell_type": "markdown",
   "metadata": {},
   "source": [
    "## Display Sale orders as HTML table"
   ]
  },
  {
   "cell_type": "markdown",
   "metadata": {},
   "source": [
    "It is posible to represent RecordList as HTML table, with ability to highlight rows by specified conditions.\n",
    "Also, when building result table, it is posible to display values of related fields, and even method calls. This functionality is implemented in [*openerp_proxy.ext.repr*](http://pythonhosted.org/openerp_proxy/module_ref/openerp_proxy.ext.html#module-openerp_proxy.ext.repr) module"
   ]
  },
  {
   "cell_type": "code",
   "execution_count": 20,
   "metadata": {
    "collapsed": false
   },
   "outputs": [
    {
     "data": {
      "text/html": [
       "<div class='panel panel-default'><div class='panel-heading'>HTMLTable</div><div class='panel-body'>Note, that You may use <i>.to_csv()</i> method of this table to export it to CSV format</div><table class='table table-bordered table-condensed table-striped'><tr style='border: none'><th>id</th><th>name</th><th>Partner name</th><th>Partner email</th><th>Order lines</th><th>state</th></tr><tr style=\"border:none;background: #9999FF\"><td>8</td><td>SO008</td><td>Millennium Industries</td><td>False</td><td><IPython.core.display.HTML object></td><td>draft</td></tr><tr style='border:none'><td>7</td><td>SO007</td><td>Luminous Technologies</td><td>False</td><td><IPython.core.display.HTML object></td><td>manual</td></tr><tr style=\"border:none;background: #9999FF\"><td>6</td><td>SO006</td><td>Think Big Systems</td><td>info@thinkbig.com</td><td><IPython.core.display.HTML object></td><td>draft</td></tr><tr style=\"border:none;background: #9999FF\"><td>5</td><td>SO005</td><td>Agrolait</td><td>info@agrolait.com</td><td><IPython.core.display.HTML object></td><td>draft</td></tr><tr style=\"border:none;background: #9999FF\"><td>4</td><td>SO004</td><td>Millennium Industries</td><td>False</td><td><IPython.core.display.HTML object></td><td>draft</td></tr><tr style=\"border:none;background: #9999FF\"><td>3</td><td>SO003</td><td>Chamber Works</td><td>info@chamberworks.com</td><td><IPython.core.display.HTML object></td><td>draft</td></tr><tr style=\"border:none;background: #9999FF\"><td>2</td><td>SO002</td><td>Bank Wealthy and sons</td><td>email@wealthyandsons.com</td><td><IPython.core.display.HTML object></td><td>draft</td></tr><tr style='border:none'><td>1</td><td>SO001</td><td>Agrolait</td><td>info@agrolait.com</td><td><IPython.core.display.HTML object></td><td>sent</td></tr></table><div class='panel-footer'>Total lines: 8</div><div>"
      ],
      "text/plain": [
       "  id  name    Partner name           Partner email             Order lines                         state\n",
       "----  ------  ---------------------  ------------------------  ----------------------------------  -------\n",
       "   8  SO008   Millennium Industries  False                     <IPython.core.display.HTML object>  draft\n",
       "   7  SO007   Luminous Technologies  False                     <IPython.core.display.HTML object>  manual\n",
       "   6  SO006   Think Big Systems      info@thinkbig.com         <IPython.core.display.HTML object>  draft\n",
       "   5  SO005   Agrolait               info@agrolait.com         <IPython.core.display.HTML object>  draft\n",
       "   4  SO004   Millennium Industries  False                     <IPython.core.display.HTML object>  draft\n",
       "   3  SO003   Chamber Works          info@chamberworks.com     <IPython.core.display.HTML object>  draft\n",
       "   2  SO002   Bank Wealthy and sons  email@wealthyandsons.com  <IPython.core.display.HTML object>  draft\n",
       "   1  SO001   Agrolait               info@agrolait.com         <IPython.core.display.HTML object>  sent"
      ]
     },
     "execution_count": 20,
     "metadata": {},
     "output_type": "execute_result"
    }
   ],
   "source": [
    "# High light rows by condition\n",
    "highlighters = {\n",
    "    '#99FF99': lambda x: x.state == 'done',\n",
    "    '#9999FF': lambda x: x.state == 'draft',\n",
    "    '#FFFF99': lambda x: x.state == 'progress',\n",
    "}\n",
    "\n",
    "# Display as table.\n",
    "# Note that prefetch method is used to fetch some set of fields with less RPC call.\n",
    "# on big datasets it may speed up performance signifiantly.\n",
    "# Each RecordList instance have related cache, which reduce need of reading data on each field get.\n",
    "so_list.prefetch('id', 'name', 'partner_id', 'partner_id.email', 'state')\n",
    "so_table = so_list.as_html_table(\n",
    "    'id',\n",
    "    'name',\n",
    "    # _name attribute provides result of *name_search method:\n",
    "    HField('partner_id._name', name='Partner name'),\n",
    "    # silent=True means, if field cannot be found, not throw error\n",
    "    HField('partner_id.email', name='Partner email', silent=True),\n",
    "    # Also it is posible to display result of method calls\n",
    "    # 'as_html_list()' is method of RecordList.\n",
    "    ('order_line.as_html_list', 'Order lines'),\n",
    "    'state',\n",
    "    highlighters=highlighters,\n",
    ")\n",
    "so_table"
   ]
  },
  {
   "cell_type": "markdown",
   "metadata": {},
   "source": [
    "There also available to_csv method, which allow to represent table in csv format"
   ]
  },
  {
   "cell_type": "code",
   "execution_count": 21,
   "metadata": {
    "collapsed": false
   },
   "outputs": [
    {
     "data": {
      "text/html": [
       "<a href='tmp/csv/tmplSTZE4.csv' target='_blank'>tmp/csv/tmplSTZE4.csv</a><br>"
      ],
      "text/plain": [
       "/home/katyukha/projects/erp-proxy/examples/tmp/csv/tmplSTZE4.csv"
      ]
     },
     "execution_count": 21,
     "metadata": {},
     "output_type": "execute_result"
    }
   ],
   "source": [
    "so_table.to_csv()"
   ]
  },
  {
   "cell_type": "markdown",
   "metadata": {},
   "source": [
    "## Access one element of recordlist via index"
   ]
  },
  {
   "cell_type": "code",
   "execution_count": 22,
   "metadata": {
    "collapsed": false
   },
   "outputs": [
    {
     "data": {
      "text/html": [
       "\n",
       "<div class=\"container-fluid\">\n",
       "    <div class=\"row\">\n",
       "        <div class=\"panel panel-default col-md-7 col-lg-7\">\n",
       "            <div class=\"panel-heading\">SO008</div>\n",
       "            <div class=\"panel-body\">\n",
       "<table class=\"table table-bordered table-condensed \" style=\"margin-left:0;\">\n",
       "<tr><th>Client</th><td>xml-rpc://admin@localhost:8069/openerp_proxy_test_db</td></tr><tr><th>Object</th><td>Object ('sale.order')</td></tr><tr><th>ID</th><td>8</td></tr><tr><th>Name</th><td>SO008</td></tr>\n",
       "</table>\n",
       "</div>\n",
       "        </div>\n",
       "        <div style=\"display:inline-block\" class=\"panel panel-default col-md-5 col-lg-5\">\n",
       "            <div class=\"panel-heading\">Info</div>\n",
       "            <div class=\"panel-body\">To get HTML Table representation of this record call method:<br/>&nbsp;<i>.as_html()</i><br/>Optionaly You can pass list of fields You want to see:<br/>&nbsp;<i>.as_html('name', 'origin')</i><br/>for better information get doc on <i>as_html</i> method:<br/>&nbsp;<i>.as_html?</i><br/></div>\n",
       "        </div>\n",
       "    </div>\n",
       "</div>\n"
      ],
      "text/plain": [
       "R(sale.order, 8)[SO008]"
      ]
     },
     "execution_count": 22,
     "metadata": {},
     "output_type": "execute_result"
    }
   ],
   "source": [
    "so_list[0]\n"
   ]
  },
  {
   "cell_type": "markdown",
   "metadata": {},
   "source": [
    "## Display one sale order as HTML Table"
   ]
  },
  {
   "cell_type": "code",
   "execution_count": 23,
   "metadata": {
    "collapsed": false
   },
   "outputs": [
    {
     "data": {
      "text/html": [
       "\n",
       "<div class=\"container-fluid\">\n",
       "    <div class=\"row\">\n",
       "        <div class=\"panel panel-default col-md-7 col-lg-7\">\n",
       "            <div class=\"panel-heading\">Record: SO008</div>\n",
       "            <div class=\"panel-body\">\n",
       "<table class=\"table table-bordered table-condensed \" style=\"margin-left:0;\">\n",
       "<tr><th>origin</th><td>False</td></tr><tr><th>partner_id.sale_order_ids.length</th><td>2</td></tr><tr><th>name</th><td>SO008</td></tr><tr><th>partner_id._name</th><td>Millennium Industries</td></tr><tr><th>partner_id</th><td>R(res.partner, 19)[Millennium Industries]</td></tr>\n",
       "</table>\n",
       "</div>\n",
       "        </div>\n",
       "        <div style=\"display:inline-block\" class=\"panel panel-default col-md-5 col-lg-5\">\n",
       "            <div class=\"panel-heading\">Info</div>\n",
       "            <div class=\"panel-body\">Data for SO008</div>\n",
       "        </div>\n",
       "    </div>\n",
       "</div>\n"
      ],
      "text/plain": [
       "<IPython.core.display.HTML object>"
      ]
     },
     "execution_count": 23,
     "metadata": {},
     "output_type": "execute_result"
    }
   ],
   "source": [
    "so_list[0].as_html('name',\n",
    "                   'origin',\n",
    "                   'partner_id',        # Will display Reacord instance representing partner related to this sale order\n",
    "                   'partner_id._name',  # Will display result of 'name_get' called on partner\n",
    "                   'partner_id.sale_order_ids.length')  # Display how many sale orders have this partner"
   ]
  },
  {
   "cell_type": "code",
   "execution_count": 24,
   "metadata": {
    "collapsed": false
   },
   "outputs": [
    {
     "data": {
      "text/html": [
       "\n",
       "<div class=\"container-fluid\">\n",
       "    <div class=\"row\">\n",
       "        <div class=\"panel panel-default col-md-7 col-lg-7\">\n",
       "            <div class=\"panel-heading\">Record: SO008</div>\n",
       "            <div class=\"panel-body\">\n",
       "<table class=\"table table-bordered table-condensed \" style=\"margin-left:0;\">\n",
       "<tr><th>Pricelist</th><td>R(product.pricelist, 1)[Public Pricelist (EUR)]</td></tr><tr><th>Creation Date</th><td>2015-12-28 13:39:49</td></tr><tr><th>Status</th><td>draft</td></tr><tr><th>Order Lines</th><td>RecordList(sale.order.line): length=2</td></tr><tr><th>Source Document</th><td>False</td></tr><tr><th>Create Invoice</th><td>manual</td></tr><tr><th>Invoices</th><td>RecordList(account.invoice): length=0</td></tr><tr><th>Customer Reference</th><td>False</td></tr><tr><th>Confirmation Date</th><td>False</td></tr><tr><th>Salesperson</th><td>R(res.users, 3)[Demo User]</td></tr><tr><th>Invoice on</th><td>order</td></tr><tr><th>Delivery Address</th><td>R(res.partner, 52)[Millennium Industries, Jacob Taylor]</td></tr><tr><th>Shop</th><td>R(sale.shop, 1)[Your Company]</td></tr><tr><th>Date</th><td>2015-12-28</td></tr><tr><th>Payment Term</th><td>False</td></tr><tr><th>Messages</th><td>RecordList(mail.message): length=2</td></tr><tr><th>Fiscal Position</th><td>False</td></tr><tr><th>Customer</th><td>R(res.partner, 19)[Millennium Industries]</td></tr><tr><th>Contract / Analytic</th><td>False</td></tr><tr><th>Invoice Address</th><td>R(res.partner, 52)[Millennium Industries, Jacob Taylor]</td></tr><tr><th>Order Reference</th><td>SO008</td></tr><tr><th>Terms and conditions</th><td>False</td></tr>\n",
       "</table>\n",
       "</div>\n",
       "        </div>\n",
       "        <div style=\"display:inline-block\" class=\"panel panel-default col-md-5 col-lg-5\">\n",
       "            <div class=\"panel-heading\">Info</div>\n",
       "            <div class=\"panel-body\">Data for SO008</div>\n",
       "        </div>\n",
       "    </div>\n",
       "</div>\n"
      ],
      "text/plain": [
       "<IPython.core.display.HTML object>"
      ]
     },
     "execution_count": 24,
     "metadata": {},
     "output_type": "execute_result"
    }
   ],
   "source": [
    "so_list[0].as_html()  # Display all fields for firest sale order record"
   ]
  },
  {
   "cell_type": "markdown",
   "metadata": {},
   "source": [
    "## Report service"
   ]
  },
  {
   "cell_type": "markdown",
   "metadata": {},
   "source": [
    "There is ``reports`` service available in Odoo, which allows to print reports.\n",
    "Below example usage of it."
   ]
  },
  {
   "cell_type": "markdown",
   "metadata": {},
   "source": [
    "Access the service:"
   ]
  },
  {
   "cell_type": "code",
   "execution_count": 25,
   "metadata": {
    "collapsed": false
   },
   "outputs": [
    {
     "data": {
      "text/html": [
       "<div>This is report service. <br/>To get list of available reports<br/>You can access <i>available_reports</i><br/>property of this service: <pre>.available_reports</pre></div>"
      ],
      "text/plain": [
       "<extend_me.Service at 0x32dce90>"
      ]
     },
     "execution_count": 25,
     "metadata": {},
     "output_type": "execute_result"
    }
   ],
   "source": [
    "ldb.services.report"
   ]
  },
  {
   "cell_type": "markdown",
   "metadata": {},
   "source": [
    "Get list of available reports:"
   ]
  },
  {
   "cell_type": "code",
   "execution_count": 26,
   "metadata": {
    "collapsed": false
   },
   "outputs": [
    {
     "data": {
      "text/html": [
       "<div class='panel panel-default'><div class='panel-heading'>Available reports</div><div class='panel-body'>Note, that You may use <i>.to_csv()</i> method of this table to export it to CSV format</div><table class='table table-bordered table-condensed table-striped'><tr style='border: none'><th>report service name</th><th>report name</th><th>report model</th><th>report help info</th></tr><tr style='border:none'><td>account.account.balance</td><td>Trial Balance</td><td>account.account</td><td>False</td></tr><tr style='border:none'><td>account.analytic.account.balance</td><td>Analytic Balance</td><td>account.analytic.account</td><td>False</td></tr><tr style='border:none'><td>account.analytic.account.cost_ledger</td><td>Cost Ledger</td><td>account.analytic.account</td><td>False</td></tr><tr style='border:none'><td>account.analytic.account.inverted.balance</td><td>Inverted Analytic Balance</td><td>account.analytic.account</td><td>False</td></tr><tr style='border:none'><td>account.analytic.account.journal</td><td>Analytic Journal</td><td>account.analytic.journal</td><td>False</td></tr><tr style='border:none'><td>account.analytic.account.quantity_cost_ledger</td><td>Cost Ledger (Only quantities)</td><td>account.analytic.account</td><td>False</td></tr><tr style='border:none'><td>account.central.journal</td><td>Central Journal</td><td>account.journal.period</td><td>False</td></tr><tr style='border:none'><td>account.general.journal</td><td>General Journal</td><td>account.journal.period</td><td>False</td></tr><tr style='border:none'><td>account.general.ledger</td><td>General Ledger</td><td>account.account</td><td>False</td></tr><tr style='border:none'><td>account.general.ledger_landscape</td><td>General Ledger</td><td>account.account</td><td>False</td></tr><tr style='border:none'><td>account.intracom</td><td>IntraCom</td><td>account.move.line</td><td>False</td></tr><tr style='border:none'><td>account.invoice</td><td>Invoices</td><td>account.invoice</td><td>False</td></tr><tr style='border:none'><td>account.journal.period.print</td><td>Journal</td><td>account.journal.period</td><td>False</td></tr><tr style='border:none'><td>account.journal.period.print.sale.purchase</td><td>Sale/Purchase Journal</td><td>account.journal.period</td><td>False</td></tr><tr style='border:none'><td>account.overdue</td><td>Due Payments</td><td>res.partner</td><td>False</td></tr><tr style='border:none'><td>account.partner.balance</td><td>Partner Balance</td><td>account.account</td><td>False</td></tr><tr style='border:none'><td>account.third_party_ledger</td><td>Partner Ledger</td><td>res.partner</td><td>False</td></tr><tr style='border:none'><td>account.third_party_ledger_other</td><td>Partner Ledger</td><td>res.partner</td><td>False</td></tr><tr style='border:none'><td>account.transfer</td><td>Transfers</td><td>account.transfer</td><td>False</td></tr><tr style='border:none'><td>account.vat.declaration</td><td>Taxes Report</td><td>account.tax.code</td><td>False</td></tr><tr style='border:none'><td>ir.model.overview</td><td>Model Overview</td><td>ir.model</td><td>False</td></tr><tr style='border:none'><td>ir.module.reference</td><td>Technical guide</td><td>ir.module.module</td><td>False</td></tr><tr style='border:none'><td>preview.report</td><td>Preview Report</td><td>res.company</td><td>False</td></tr><tr style='border:none'><td>product.pricelist</td><td>Pricelist</td><td>product.product</td><td>False</td></tr><tr style='border:none'><td>product.product.label</td><td>Products Labels</td><td>product.product</td><td>False</td></tr><tr style='border:none'><td>res.partner</td><td>Labels</td><td>res.partner</td><td>False</td></tr><tr style='border:none'><td>sale.order</td><td>Quotation / Order</td><td>sale.order</td><td>False</td></tr></table><div class='panel-footer'>Total lines: 27</div><div>"
      ],
      "text/plain": [
       "report service name                            report name                    report model                report help info\n",
       "---------------------------------------------  -----------------------------  ------------------------  ------------------\n",
       "account.account.balance                        Trial Balance                  account.account                            0\n",
       "account.analytic.account.balance               Analytic Balance               account.analytic.account                   0\n",
       "account.analytic.account.cost_ledger           Cost Ledger                    account.analytic.account                   0\n",
       "account.analytic.account.inverted.balance      Inverted Analytic Balance      account.analytic.account                   0\n",
       "account.analytic.account.journal               Analytic Journal               account.analytic.journal                   0\n",
       "account.analytic.account.quantity_cost_ledger  Cost Ledger (Only quantities)  account.analytic.account                   0\n",
       "account.central.journal                        Central Journal                account.journal.period                     0\n",
       "account.general.journal                        General Journal                account.journal.period                     0\n",
       "account.general.ledger                         General Ledger                 account.account                            0\n",
       "account.general.ledger_landscape               General Ledger                 account.account                            0\n",
       "account.intracom                               IntraCom                       account.move.line                          0\n",
       "account.invoice                                Invoices                       account.invoice                            0\n",
       "account.journal.period.print                   Journal                        account.journal.period                     0\n",
       "account.journal.period.print.sale.purchase     Sale/Purchase Journal          account.journal.period                     0\n",
       "account.overdue                                Due Payments                   res.partner                                0\n",
       "account.partner.balance                        Partner Balance                account.account                            0\n",
       "account.third_party_ledger                     Partner Ledger                 res.partner                                0\n",
       "account.third_party_ledger_other               Partner Ledger                 res.partner                                0\n",
       "account.transfer                               Transfers                      account.transfer                           0\n",
       "account.vat.declaration                        Taxes Report                   account.tax.code                           0\n",
       "ir.model.overview                              Model Overview                 ir.model                                   0\n",
       "ir.module.reference                            Technical guide                ir.module.module                           0\n",
       "preview.report                                 Preview Report                 res.company                                0\n",
       "product.pricelist                              Pricelist                      product.product                            0\n",
       "product.product.label                          Products Labels                product.product                            0\n",
       "res.partner                                    Labels                         res.partner                                0\n",
       "sale.order                                     Quotation / Order              sale.order                                 0"
      ]
     },
     "execution_count": 26,
     "metadata": {},
     "output_type": "execute_result"
    }
   ],
   "source": [
    "ldb.services.report.available_reports"
   ]
  },
  {
   "cell_type": "markdown",
   "metadata": {},
   "source": [
    "Choose report name for current Odoo server version"
   ]
  },
  {
   "cell_type": "code",
   "execution_count": 27,
   "metadata": {
    "collapsed": false
   },
   "outputs": [
    {
     "data": {
      "text/plain": [
       "'sale.order'"
      ]
     },
     "execution_count": 27,
     "metadata": {},
     "output_type": "execute_result"
    }
   ],
   "source": [
    "from pkg_resources import parse_version as V\n",
    "if ldb.server_version >= V(\"8.0\"):\n",
    "    report_name = 'sale.report_saleorder'\n",
    "else:\n",
    "    report_name = 'sale.order'\n",
    "\n",
    "report_name"
   ]
  },
  {
   "cell_type": "markdown",
   "metadata": {},
   "source": [
    "Take a look on report object. It also has it's own HTML representation."
   ]
  },
  {
   "cell_type": "code",
   "execution_count": 28,
   "metadata": {
    "collapsed": false
   },
   "outputs": [
    {
     "data": {
      "text/html": [
       "\n",
       "<div class=\"container-fluid\">\n",
       "    <div class=\"row\">\n",
       "        <div class=\"panel panel-default col-md-7 col-lg-7\">\n",
       "            <div class=\"panel-heading\">Report Quotation / Order</div>\n",
       "            <div class=\"panel-body\">\n",
       "<table class=\"table table-bordered table-condensed \" style=\"margin-left:0;\">\n",
       "<tr><th>Model</th><td>sale.order</td></tr><tr><th>Service name</th><td>sale.order</td></tr><tr><th>Name</th><td>Quotation / Order</td></tr>\n",
       "</table>\n",
       "</div>\n",
       "        </div>\n",
       "        <div style=\"display:inline-block\" class=\"panel panel-default col-md-5 col-lg-5\">\n",
       "            <div class=\"panel-heading\">Info</div>\n",
       "            <div class=\"panel-body\">This is report representation.<br/>call <i>generate<i> method to generate new report<br/>&nbsp;<i>.generate([1, 2, 3])</i><br/>Also <i>generate</i> method can receive <br/>RecordList or Record instance as first argument.<br/>For more information look in <a href='http://pythonhosted.org/openerp_proxy/module_ref/openerp_proxy.service.html#module-openerp_proxy.service.report'>documentation</a></div>\n",
       "        </div>\n",
       "    </div>\n",
       "</div>\n"
      ],
      "text/plain": [
       "<extend_me.Report at 0x32ed810>"
      ]
     },
     "execution_count": 28,
     "metadata": {},
     "output_type": "execute_result"
    }
   ],
   "source": [
    "report = ldb.services.report[report_name]\n",
    "report"
   ]
  },
  {
   "cell_type": "markdown",
   "metadata": {},
   "source": [
    "And generate new report:"
   ]
  },
  {
   "cell_type": "code",
   "execution_count": 29,
   "metadata": {
    "collapsed": false
   },
   "outputs": [
    {
     "data": {
      "text/html": [
       "<a href='tmp/reports/Quotation - Orderb42b51f3e520c18d16db634735b130f4e87778e0b8be77585b2bbef65d56428c.pdf' target='_blank'>tmp/reports/Quotation - Orderb42b51f3e520c18d16db634735b130f4e87778e0b8be77585b2bbef65d56428c.pdf</a><br>"
      ],
      "text/plain": [
       "<extend_me.ReportResult at 0x32dcf10>"
      ]
     },
     "execution_count": 29,
     "metadata": {},
     "output_type": "execute_result"
    }
   ],
   "source": [
    "report_result = report.generate(so_list)\n",
    "report_result"
   ]
  }
 ],
 "metadata": {
  "kernelspec": {
   "display_name": "Python 2",
   "language": "python",
   "name": "python2"
  },
  "language_info": {
   "codemirror_mode": {
    "name": "ipython",
    "version": 2
   },
   "file_extension": ".py",
   "mimetype": "text/x-python",
   "name": "python",
   "nbconvert_exporter": "python",
   "pygments_lexer": "ipython2",
   "version": "2.7.3"
  }
 },
 "nbformat": 4,
 "nbformat_minor": 0
}
