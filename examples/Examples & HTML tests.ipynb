{
 "cells": [
  {
   "cell_type": "markdown",
   "metadata": {},
   "source": [
    "# Example of HTML capabilities of project inside IPython notebook"
   ]
  },
  {
   "cell_type": "markdown",
   "metadata": {},
   "source": [
    "## Initializing Environment"
   ]
  },
  {
   "cell_type": "code",
   "execution_count": 1,
   "metadata": {
    "collapsed": false
   },
   "outputs": [
    {
     "data": {
      "text/html": [
       "<div><table style='display:inline-block'><caption>Previous connections</caption><tr><th>DB URL</th><th>DB Index</th><th>DB Aliases</th></tr><tr><td>json-rpc://admin@localhost:8069/oev8-test1</td><td>1</td><td></td></tr><tr><td>xml-rpc://admin@localhost:8169/oev7-test4</td><td>2</td><td>ldb</td></tr></table> <div style='display:inline-block;vertical-align:top;margin-left:10px;'>To get connection just call<br/> <ul><li>session.<b>aliase</b></li><li>session[<b>index</b>]</li><li>session[<b>aliase</b>]</li> <li>session[<b>url</b>]</li><li>session.get_db(<b>url</b>|<b>index</b>|<b>aliase</b>)</li></ul></div></div>"
      ],
      "text/plain": [
       "<openerp_proxy.session.IPYSession at 0x382bd50>"
      ]
     },
     "execution_count": 1,
     "metadata": {},
     "output_type": "execute_result"
    }
   ],
   "source": [
    "from openerp_proxy.session import IPYSession as Session # Use IPython-itegrated session class\n",
    "from openerp_proxy.ext.all import HField\n",
    "import openerp_proxy.plugins.module_utils  # Enable module_utils plugin\n",
    "\n",
    "# Create session to use. \n",
    "# Usualy use `Session()` which will automaticaly use\n",
    "# '~/.openerp_proxy.json' session file\n",
    "session = Session('~/.openerp_proxy.local.json')\n",
    "session"
   ]
  },
  {
   "cell_type": "markdown",
   "metadata": {},
   "source": [
    "Table above describes list of connection settings stored in session file and what to do to connect to one\n",
    "of connections above"
   ]
  },
  {
   "cell_type": "markdown",
   "metadata": {},
   "source": [
    "## Connect to odoo database by aliase"
   ]
  },
  {
   "cell_type": "code",
   "execution_count": 2,
   "metadata": {
    "collapsed": false
   },
   "outputs": [
    {
     "data": {
      "text/html": [
       "<div><table style='display:inline-block'><caption style='white-space:nowrap;font-weight: bold;'>xml-rpc://admin@localhost:8169/oev7-test4</caption><tr><th>Host</th><td>localhost</td></tr><tr><th>Port</th><td>8169</td></tr><tr><th>Protocol</th><td>xml-rpc</td></tr><tr><th>Database</th><td>oev7-test4</td></tr><tr><th>login</th><td>admin</td></tr></table><div style='display:inline-block;vertical-align:top;margin-left:10px;'>To get list of registered objects for thist database<br/>access <i>registered_objects</i> property:<br/>&nbsp;<i>.registered_objects</i>To get Object instance just call <i>get_obj</i> method<br/>&nbsp;<i>.get_obj(name)</i><br/>where <i>name</i> is name of Object You want to get<br/>or use get item syntax instead:</br>&nbsp;<i>[name]</i></div></div>"
      ],
      "text/plain": [
       "Client: xml-rpc://admin@localhost:8169/oev7-test4"
      ]
     },
     "execution_count": 2,
     "metadata": {},
     "output_type": "execute_result"
    }
   ],
   "source": [
    "ldb = session.ldb\n",
    "ldb"
   ]
  },
  {
   "cell_type": "markdown",
   "metadata": {},
   "source": [
    "## Get object / model"
   ]
  },
  {
   "cell_type": "markdown",
   "metadata": {},
   "source": [
    "*ldb* here represents database connection (*ERP_Proxy* class instance)\n",
    "As told in help message above *.get_obj* method allows to get instance of specified\n",
    "*Object* proxy, where Object means *model*, *document*."
   ]
  },
  {
   "cell_type": "code",
   "execution_count": 3,
   "metadata": {
    "collapsed": false
   },
   "outputs": [
    {
     "data": {
      "text/html": [
       "<div><table style='display:inline-block'><caption>Object 'Sales Order'</caption><tr><th>Name</th><td>Sales Order</td></tr><tr><th>Proxy</th><td>xml-rpc://admin@localhost:8169/oev7-test4</td></tr><tr><th>Model</th><td>sale.order</td></tr><tr><th>Record count</th><td>11</td></tr></table><div style='display:inline-block;vertical-align:top;margin-left:10px;'>To get information about columns access property<br/>&nbsp;<i>.columns_info</i><br/>Also there are available standard server-side methods:<br/>&nbsp;<i>search</i>, <i>read</i>, <i>write</i>, <i>unlink</i></br>And special methods provided <i>openerp_proxy's orm</i>:<ul style='margin-top:1px'><li><i>search_records</i> - same as <i>search</i> but returns <i>RecordList</i> instance</li><li><i>read_records</i> - same as <i>read</i> but returns <i>Record</i> or <i>RecordList</i> instance</li><ul><br/></div></div>"
      ],
      "text/plain": [
       "Object ('sale.order')"
      ]
     },
     "execution_count": 3,
     "metadata": {},
     "output_type": "execute_result"
    }
   ],
   "source": [
    "so = ldb.get_obj('sale.order')\n",
    "so"
   ]
  },
  {
   "cell_type": "markdown",
   "metadata": {},
   "source": [
    "Also it is posible to use shorter (dictionary style) syntax:"
   ]
  },
  {
   "cell_type": "code",
   "execution_count": 4,
   "metadata": {
    "collapsed": false
   },
   "outputs": [
    {
     "data": {
      "text/html": [
       "<div><table style='display:inline-block'><caption>Object 'Sales Order'</caption><tr><th>Name</th><td>Sales Order</td></tr><tr><th>Proxy</th><td>xml-rpc://admin@localhost:8169/oev7-test4</td></tr><tr><th>Model</th><td>sale.order</td></tr><tr><th>Record count</th><td>11</td></tr></table><div style='display:inline-block;vertical-align:top;margin-left:10px;'>To get information about columns access property<br/>&nbsp;<i>.columns_info</i><br/>Also there are available standard server-side methods:<br/>&nbsp;<i>search</i>, <i>read</i>, <i>write</i>, <i>unlink</i></br>And special methods provided <i>openerp_proxy's orm</i>:<ul style='margin-top:1px'><li><i>search_records</i> - same as <i>search</i> but returns <i>RecordList</i> instance</li><li><i>read_records</i> - same as <i>read</i> but returns <i>Record</i> or <i>RecordList</i> instance</li><ul><br/></div></div>"
      ],
      "text/plain": [
       "Object ('sale.order')"
      ]
     },
     "execution_count": 4,
     "metadata": {},
     "output_type": "execute_result"
    }
   ],
   "source": [
    "so = ldb['sale.order']\n",
    "so"
   ]
  },
  {
   "cell_type": "markdown",
   "metadata": {},
   "source": [
    "And as result of using [*openerp_proxy.ext.sugar*](http://pythonhosted.org/openerp_proxy/module_ref/openerp_proxy.ext.html#module-openerp_proxy.ext.sugar) extension\n",
    "(which is automaticaly imported in 'openerp_proxy.ext.all')\n",
    "there are attribute-style access (which also support's IPython auto-completition):"
   ]
  },
  {
   "cell_type": "code",
   "execution_count": 5,
   "metadata": {
    "collapsed": false
   },
   "outputs": [
    {
     "data": {
      "text/html": [
       "<div><table style='display:inline-block'><caption>Object 'Sales Order'</caption><tr><th>Name</th><td>Sales Order</td></tr><tr><th>Proxy</th><td>xml-rpc://admin@localhost:8169/oev7-test4</td></tr><tr><th>Model</th><td>sale.order</td></tr><tr><th>Record count</th><td>11</td></tr></table><div style='display:inline-block;vertical-align:top;margin-left:10px;'>To get information about columns access property<br/>&nbsp;<i>.columns_info</i><br/>Also there are available standard server-side methods:<br/>&nbsp;<i>search</i>, <i>read</i>, <i>write</i>, <i>unlink</i></br>And special methods provided <i>openerp_proxy's orm</i>:<ul style='margin-top:1px'><li><i>search_records</i> - same as <i>search</i> but returns <i>RecordList</i> instance</li><li><i>read_records</i> - same as <i>read</i> but returns <i>Record</i> or <i>RecordList</i> instance</li><ul><br/></div></div>"
      ],
      "text/plain": [
       "Object ('sale.order')"
      ]
     },
     "execution_count": 5,
     "metadata": {},
     "output_type": "execute_result"
    }
   ],
   "source": [
    "so = ldb._sale_order\n",
    "so"
   ]
  },
  {
   "cell_type": "markdown",
   "metadata": {},
   "source": [
    "## Getting information about available columns for Object"
   ]
  },
  {
   "cell_type": "code",
   "execution_count": 6,
   "metadata": {
    "collapsed": false,
    "scrolled": false
   },
   "outputs": [
    {
     "data": {
      "text/html": [
       "<div><table><caption>Fields for sale.order</caption><tr><th>name</th><th>info.string</th><th>info.type</th><th>info.selection</th><th>info.help</th><th>info.readonly</th><th>info.required</th><th>info.relation_field</th><th>info.select</th></tr><tr><td>amount_tax</td><td>Taxes</td><td>float</td><td></td><td>The tax amount.</td><td>1</td><td>None</td><td>None</td><td>None</td></tr><tr><td>amount_total</td><td>Total</td><td>float</td><td></td><td>The total amount.</td><td>1</td><td>None</td><td>None</td><td>None</td></tr><tr><td>amount_untaxed</td><td>Untaxed Amount</td><td>float</td><td></td><td>The amount without tax.</td><td>1</td><td>None</td><td>None</td><td>None</td></tr><tr><td>carrier_id</td><td>Delivery Method</td><td>many2one</td><td></td><td>Complete this field if you plan to invoice the shipping based on picking.</td><td>None</td><td>None</td><td>None</td><td>None</td></tr><tr><td>categ_ids</td><td>Categories</td><td>many2many</td><td></td><td>None</td><td>None</td><td>None</td><td>None</td><td>None</td></tr><tr><td>client_order_ref</td><td>Customer Reference</td><td>char</td><td></td><td>None</td><td>None</td><td>None</td><td>None</td><td>None</td></tr><tr><td>company_id</td><td>Company</td><td>many2one</td><td></td><td>None</td><td>True</td><td>None</td><td>None</td><td>None</td></tr><tr><td>create_date</td><td>Creation Date</td><td>datetime</td><td></td><td>Date on which sales order is created.</td><td>True</td><td>None</td><td>None</td><td>True</td></tr><tr><td>currency_id</td><td>Currency</td><td>many2one</td><td></td><td>None</td><td>True</td><td>True</td><td>None</td><td>None</td></tr><tr><td>date_confirm</td><td>Confirmation Date</td><td>date</td><td></td><td>Date on which sales order is confirmed.</td><td>True</td><td>None</td><td>None</td><td>True</td></tr><tr><td>date_order</td><td>Date</td><td>date</td><td></td><td>None</td><td>True</td><td>True</td><td>None</td><td>True</td></tr><tr><td>delivered</td><td>Delivered</td><td>boolean</td><td></td><td>None</td><td>1</td><td>None</td><td>None</td><td>1</td></tr><tr><td>delivery_rate</td><td>Delivery Rate</td><td>float</td><td></td><td>None</td><td>1</td><td>None</td><td>None</td><td>1</td></tr><tr><td>fiscal_position</td><td>Fiscal Position</td><td>many2one</td><td></td><td>None</td><td>None</td><td>None</td><td>None</td><td>None</td></tr><tr><td>incoterm</td><td>Incoterm</td><td>many2one</td><td></td><td>International Commercial Terms are a series of predefined commercial terms used in international transactions.</td><td>None</td><td>None</td><td>None</td><td>None</td></tr><tr><td>invoice_exists</td><td>Invoiced</td><td>boolean</td><td></td><td>It indicates that sales order has at least one invoice.</td><td>1</td><td>None</td><td>None</td><td>None</td></tr><tr><td>invoice_ids</td><td>Invoices</td><td>many2many</td><td></td><td>This is the list of invoices that have been generated for this sales order. The same sales order may have been invoiced in several times (by line for example).</td><td>True</td><td>None</td><td>None</td><td>None</td></tr><tr><td>invoice_quantity</td><td>Invoice on</td><td>selection</td><td>'order' - Ordered Quantities<br/>\n",
       "'procurement' - Shipped Quantities</td><td>The sales order will automatically create the invoice proposition (draft invoice).                                              You have to choose  if you want your invoice based on ordered </td><td>True</td><td>True</td><td>None</td><td>None</td></tr><tr><td>invoiced</td><td>Paid</td><td>boolean</td><td></td><td>It indicates that an invoice has been paid.</td><td>1</td><td>None</td><td>None</td><td>None</td></tr><tr><td>invoiced_rate</td><td>Invoiced Ratio</td><td>float</td><td></td><td>None</td><td>1</td><td>None</td><td>None</td><td>None</td></tr><tr><td>message_follower_ids</td><td>Followers</td><td>many2many</td><td></td><td>None</td><td>None</td><td>None</td><td>None</td><td>None</td></tr><tr><td>message_ids</td><td>Messages</td><td>one2many</td><td></td><td>Messages and communication history</td><td>None</td><td>None</td><td>res_id</td><td>None</td></tr><tr><td>message_is_follower</td><td>Is a Follower</td><td>boolean</td><td></td><td>None</td><td>1</td><td>None</td><td>None</td><td>None</td></tr><tr><td>message_summary</td><td>Summary</td><td>text</td><td></td><td>Holds the Chatter summary (number of messages, ...). This summary is directly in html format in order to be inserted in kanban views.</td><td>1</td><td>None</td><td>None</td><td>None</td></tr><tr><td>message_unread</td><td>Unread Messages</td><td>boolean</td><td></td><td>If checked new messages require your attention.</td><td>1</td><td>None</td><td>None</td><td>None</td></tr><tr><td>name</td><td>Order Reference</td><td>char</td><td></td><td>None</td><td>True</td><td>True</td><td>None</td><td>True</td></tr><tr><td>note</td><td>Terms and conditions</td><td>text</td><td></td><td>None</td><td>None</td><td>None</td><td>None</td><td>None</td></tr><tr><td>order_line</td><td>Order Lines</td><td>one2many</td><td></td><td>None</td><td>True</td><td>None</td><td>order_id</td><td>None</td></tr><tr><td>order_policy</td><td>Create Invoice</td><td>selection</td><td>'manual' - On Demand<br/>\n",
       "'picking' - On Delivery Order<br/>\n",
       "'prepaid' - Before Delivery</td><td>On demand: A draft invoice can be created from the sales order when needed. \n",
       "On delivery order: A draft invoice can be created from the delivery order when the products have been delivered. \n",
       "Before delivery: A draft invoice is created from the sales order and must be paid before the products can be delivered.</td><td>True</td><td>True</td><td>None</td><td>None</td></tr><tr><td>origin</td><td>Source Document</td><td>char</td><td></td><td>Reference of the document that generated this sales order request.</td><td>None</td><td>None</td><td>None</td><td>None</td></tr><tr><td>partner_id</td><td>Customer</td><td>many2one</td><td></td><td>None</td><td>True</td><td>True</td><td>None</td><td>True</td></tr><tr><td>partner_invoice_id</td><td>Invoice Address</td><td>many2one</td><td></td><td>Invoice address for current sales order.</td><td>True</td><td>True</td><td>None</td><td>None</td></tr><tr><td>partner_shipping_id</td><td>Delivery Address</td><td>many2one</td><td></td><td>Delivery address for current sales order.</td><td>True</td><td>True</td><td>None</td><td>None</td></tr><tr><td>payment_term</td><td>Payment Term</td><td>many2one</td><td></td><td>None</td><td>None</td><td>None</td><td>None</td><td>None</td></tr><tr><td>paypal_url</td><td>Paypal Url</td><td>char</td><td></td><td>None</td><td>1</td><td>None</td><td>None</td><td>None</td></tr><tr><td>picked_rate</td><td>Picked</td><td>float</td><td></td><td>None</td><td>1</td><td>None</td><td>None</td><td>None</td></tr><tr><td>picking_ids</td><td>Related Picking</td><td>one2many</td><td></td><td>This is a list of delivery orders that has been generated for this sales order.</td><td>True</td><td>None</td><td>sale_id</td><td>None</td></tr><tr><td>picking_policy</td><td>Shipping Policy</td><td>selection</td><td>'direct' - Deliver each product when available<br/>\n",
       "'one' - Deliver all products at once</td><td>Pick 'Deliver each product when available' if you allow partial delivery.</td><td>True</td><td>True</td><td>None</td><td>None</td></tr><tr><td>portal_payment_options</td><td>Portal Payment Options</td><td>html</td><td></td><td>None</td><td>1</td><td>None</td><td>None</td><td>None</td></tr><tr><td>pricelist_id</td><td>Pricelist</td><td>many2one</td><td></td><td>Pricelist for current sales order.</td><td>True</td><td>True</td><td>None</td><td>None</td></tr><tr><td>project_id</td><td>Contract / Analytic</td><td>many2one</td><td></td><td>The analytic account related to a sales order.</td><td>True</td><td>None</td><td>None</td><td>None</td></tr><tr><td>section_id</td><td>Sales Team</td><td>many2one</td><td></td><td>None</td><td>None</td><td>None</td><td>None</td><td>None</td></tr><tr><td>shipped</td><td>Delivered</td><td>boolean</td><td></td><td>It indicates that the sales order has been delivered. This field is updated only after the scheduler(s) have been launched.</td><td>True</td><td>None</td><td>None</td><td>None</td></tr><tr><td>shop_id</td><td>Shop</td><td>many2one</td><td></td><td>None</td><td>True</td><td>True</td><td>None</td><td>None</td></tr><tr><td>state</td><td>Status</td><td>selection</td><td>'draft' - Draft Quotation<br/>\n",
       "'reserved' - Reserved<br/>\n",
       "'sent' - Quotation Sent<br/>\n",
       "'cancel' - Cancelled<br/>\n",
       "'waiting_date' - Waiting Schedule<br/>\n",
       "'progress' - Sales Order<br/>\n",
       "'manual' - Sale to Invoice<br/>\n",
       "'shipping_except' - Shipping Exception<br/>\n",
       "'invoice_except' - Invoice Exception<br/>\n",
       "'done' - Done</td><td>Gives the status of the quotation or sales order.\n",
       "The exception status is automatically set when a cancel operation occurs in the invoice validation (Invoice Exception) or in the picking list process (Shipping Exception).\n",
       "The 'Waiting Schedule' status is set when the invoice is confirmed but waiting for the scheduler to run on the order date.</td><td>True</td><td>None</td><td>None</td><td>True</td></tr><tr><td>user_id</td><td>Salesperson</td><td>many2one</td><td></td><td>None</td><td>None</td><td>None</td><td>None</td><td>True</td></tr></table><div>"
      ],
      "text/plain": [
       "{'amount_tax': {'digits': [16, 2],\n",
       "  'fnct_inv': False,\n",
       "  'fnct_inv_arg': False,\n",
       "  'fnct_search': False,\n",
       "  'function': '_amount_all',\n",
       "  'help': 'The tax amount.',\n",
       "  'readonly': 1,\n",
       "  'selectable': True,\n",
       "  'store': \"{'sale.order': (<function <lambda> at 0x783bf50>, ['order_line'], 10), 'sale.order.line': (<function _get_order at 0x783bb18>, ['price_unit', 'tax_id', 'discount', 'product_uom_qty'], 10)}\",\n",
       "  'string': 'Taxes',\n",
       "  'type': 'float'},\n",
       " 'amount_total': {'digits': [16, 2],\n",
       "  'fnct_inv': False,\n",
       "  'fnct_inv_arg': False,\n",
       "  'fnct_search': False,\n",
       "  'function': '_amount_all',\n",
       "  'help': 'The total amount.',\n",
       "  'readonly': 1,\n",
       "  'selectable': True,\n",
       "  'store': \"{'sale.order': (<function <lambda> at 0x78480c8>, ['order_line'], 10), 'sale.order.line': (<function _get_order at 0x783bb18>, ['price_unit', 'tax_id', 'discount', 'product_uom_qty'], 10)}\",\n",
       "  'string': 'Total',\n",
       "  'type': 'float'},\n",
       " 'amount_untaxed': {'digits': [16, 2],\n",
       "  'fnct_inv': False,\n",
       "  'fnct_inv_arg': False,\n",
       "  'fnct_search': False,\n",
       "  'function': '_amount_all',\n",
       "  'help': 'The amount without tax.',\n",
       "  'readonly': 1,\n",
       "  'selectable': True,\n",
       "  'store': \"{'sale.order': (<function <lambda> at 0x783be60>, ['order_line'], 10), 'sale.order.line': (<function _get_order at 0x783bb18>, ['price_unit', 'tax_id', 'discount', 'product_uom_qty'], 10)}\",\n",
       "  'string': 'Untaxed Amount',\n",
       "  'type': 'float'},\n",
       " 'carrier_id': {'context': {},\n",
       "  'domain': [],\n",
       "  'help': 'Complete this field if you plan to invoice the shipping based on picking.',\n",
       "  'relation': 'delivery.carrier',\n",
       "  'selectable': True,\n",
       "  'string': 'Delivery Method',\n",
       "  'type': 'many2one'},\n",
       " 'categ_ids': {'context': \"{'object_name': 'crm.lead'}\",\n",
       "  'domain': \"['|',('section_id','=',section_id),('section_id','=',False), ('object_id.model', '=', 'crm.lead')]\",\n",
       "  'm2m_join_columns': ['order_id', 'category_id'],\n",
       "  'm2m_join_table': 'sale_order_category_rel',\n",
       "  'relation': 'crm.case.categ',\n",
       "  'selectable': True,\n",
       "  'string': 'Categories',\n",
       "  'type': 'many2many'},\n",
       " 'client_order_ref': {'selectable': True,\n",
       "  'size': 64,\n",
       "  'string': 'Customer Reference',\n",
       "  'type': 'char'},\n",
       " 'company_id': {'context': {},\n",
       "  'digits': [16, 2],\n",
       "  'domain': [],\n",
       "  'fnct_inv': '_fnct_write',\n",
       "  'fnct_inv_arg': ['shop_id', 'company_id'],\n",
       "  'fnct_search': '_fnct_search',\n",
       "  'function': '_fnct_read',\n",
       "  'readonly': True,\n",
       "  'relation': 'res.company',\n",
       "  'selectable': True,\n",
       "  'store': True,\n",
       "  'string': 'Company',\n",
       "  'type': 'many2one'},\n",
       " 'create_date': {'help': 'Date on which sales order is created.',\n",
       "  'readonly': True,\n",
       "  'select': True,\n",
       "  'selectable': True,\n",
       "  'string': 'Creation Date',\n",
       "  'type': 'datetime'},\n",
       " 'currency_id': {'context': {},\n",
       "  'digits': [16, 2],\n",
       "  'domain': [],\n",
       "  'fnct_inv': '_fnct_write',\n",
       "  'fnct_inv_arg': ['pricelist_id', 'currency_id'],\n",
       "  'fnct_search': '_fnct_search',\n",
       "  'function': '_fnct_read',\n",
       "  'readonly': True,\n",
       "  'relation': 'res.currency',\n",
       "  'required': True,\n",
       "  'selectable': True,\n",
       "  'store': False,\n",
       "  'string': 'Currency',\n",
       "  'type': 'many2one'},\n",
       " 'date_confirm': {'help': 'Date on which sales order is confirmed.',\n",
       "  'readonly': True,\n",
       "  'select': True,\n",
       "  'selectable': True,\n",
       "  'string': 'Confirmation Date',\n",
       "  'type': 'date'},\n",
       " 'date_order': {'readonly': True,\n",
       "  'required': True,\n",
       "  'select': True,\n",
       "  'selectable': True,\n",
       "  'states': {'draft': [['readonly', False]], 'sent': [['readonly', False]]},\n",
       "  'string': 'Date',\n",
       "  'type': 'date'},\n",
       " 'delivered': {'digits': [16, 2],\n",
       "  'fnct_inv': False,\n",
       "  'fnct_inv_arg': False,\n",
       "  'fnct_search': False,\n",
       "  'function': '_get_delivered',\n",
       "  'readonly': 1,\n",
       "  'select': 1,\n",
       "  'selectable': True,\n",
       "  'store': \"{'sale.order': (<function <lambda> at 0x7f756d1480c8>, [], 10), 'logistic.cargo': (<function _get_logistic_cargo_changed at 0x7f756d148050>, ['state'], 10)}\",\n",
       "  'string': 'Delivered',\n",
       "  'type': 'boolean'},\n",
       " 'delivery_rate': {'digits': [16, 2],\n",
       "  'fnct_inv': False,\n",
       "  'fnct_inv_arg': False,\n",
       "  'fnct_search': False,\n",
       "  'function': '_get_delivered',\n",
       "  'readonly': 1,\n",
       "  'select': 1,\n",
       "  'selectable': True,\n",
       "  'store': \"{'sale.order': (<function <lambda> at 0x7f756d148140>, [], 10), 'logistic.cargo': (<function _get_logistic_cargo_changed at 0x7f756d148050>, ['state'], 10)}\",\n",
       "  'string': 'Delivery Rate',\n",
       "  'type': 'float'},\n",
       " 'fiscal_position': {'context': {},\n",
       "  'domain': [],\n",
       "  'relation': 'account.fiscal.position',\n",
       "  'selectable': True,\n",
       "  'string': 'Fiscal Position',\n",
       "  'type': 'many2one'},\n",
       " 'incoterm': {'context': {},\n",
       "  'domain': [],\n",
       "  'help': 'International Commercial Terms are a series of predefined commercial terms used in international transactions.',\n",
       "  'relation': 'stock.incoterms',\n",
       "  'selectable': True,\n",
       "  'string': 'Incoterm',\n",
       "  'type': 'many2one'},\n",
       " 'invoice_exists': {'digits': [16, 2],\n",
       "  'fnct_inv': False,\n",
       "  'fnct_inv_arg': False,\n",
       "  'fnct_search': '_invoiced_search',\n",
       "  'function': '_invoice_exists',\n",
       "  'help': 'It indicates that sales order has at least one invoice.',\n",
       "  'readonly': 1,\n",
       "  'selectable': True,\n",
       "  'store': False,\n",
       "  'string': 'Invoiced',\n",
       "  'type': 'boolean'},\n",
       " 'invoice_ids': {'context': {},\n",
       "  'domain': [],\n",
       "  'help': 'This is the list of invoices that have been generated for this sales order. The same sales order may have been invoiced in several times (by line for example).',\n",
       "  'm2m_join_columns': ['order_id', 'invoice_id'],\n",
       "  'm2m_join_table': 'sale_order_invoice_rel',\n",
       "  'readonly': True,\n",
       "  'relation': 'account.invoice',\n",
       "  'selectable': True,\n",
       "  'string': 'Invoices',\n",
       "  'type': 'many2many'},\n",
       " 'invoice_quantity': {'help': 'The sales order will automatically create the invoice proposition (draft invoice).                                              You have to choose  if you want your invoice based on ordered ',\n",
       "  'readonly': True,\n",
       "  'required': True,\n",
       "  'selectable': True,\n",
       "  'selection': [['order', 'Ordered Quantities'],\n",
       "   ['procurement', 'Shipped Quantities']],\n",
       "  'states': {'draft': [['readonly', False]]},\n",
       "  'string': 'Invoice on',\n",
       "  'type': 'selection'},\n",
       " 'invoiced': {'digits': [16, 2],\n",
       "  'fnct_inv': False,\n",
       "  'fnct_inv_arg': False,\n",
       "  'fnct_search': '_invoiced_search',\n",
       "  'function': '_invoiced',\n",
       "  'help': 'It indicates that an invoice has been paid.',\n",
       "  'readonly': 1,\n",
       "  'selectable': True,\n",
       "  'store': False,\n",
       "  'string': 'Paid',\n",
       "  'type': 'boolean'},\n",
       " 'invoiced_rate': {'digits': [16, 2],\n",
       "  'fnct_inv': False,\n",
       "  'fnct_inv_arg': False,\n",
       "  'fnct_search': False,\n",
       "  'function': '_invoiced_rate',\n",
       "  'readonly': 1,\n",
       "  'store': False,\n",
       "  'string': 'Invoiced Ratio',\n",
       "  'type': 'float'},\n",
       " 'message_follower_ids': {'context': {},\n",
       "  'digits': [16, 2],\n",
       "  'domain': [],\n",
       "  'fnct_inv': '_set_followers',\n",
       "  'fnct_inv_arg': False,\n",
       "  'fnct_search': '_search_followers',\n",
       "  'function': '_get_followers',\n",
       "  'relation': 'res.partner',\n",
       "  'selectable': True,\n",
       "  'store': False,\n",
       "  'string': 'Followers',\n",
       "  'type': 'many2many'},\n",
       " 'message_ids': {'context': {},\n",
       "  'domain': [['model', '=', 'sale.order']],\n",
       "  'help': 'Messages and communication history',\n",
       "  'relation': 'mail.message',\n",
       "  'relation_field': 'res_id',\n",
       "  'selectable': True,\n",
       "  'string': 'Messages',\n",
       "  'type': 'one2many'},\n",
       " 'message_is_follower': {'digits': [16, 2],\n",
       "  'fnct_inv': False,\n",
       "  'fnct_inv_arg': False,\n",
       "  'fnct_search': False,\n",
       "  'function': '_get_followers',\n",
       "  'readonly': 1,\n",
       "  'store': False,\n",
       "  'string': 'Is a Follower',\n",
       "  'type': 'boolean'},\n",
       " 'message_summary': {'digits': [16, 2],\n",
       "  'fnct_inv': False,\n",
       "  'fnct_inv_arg': False,\n",
       "  'fnct_search': False,\n",
       "  'function': '_get_message_data',\n",
       "  'help': 'Holds the Chatter summary (number of messages, ...). This summary is directly in html format in order to be inserted in kanban views.',\n",
       "  'readonly': 1,\n",
       "  'store': False,\n",
       "  'string': 'Summary',\n",
       "  'type': 'text'},\n",
       " 'message_unread': {'digits': [16, 2],\n",
       "  'fnct_inv': False,\n",
       "  'fnct_inv_arg': False,\n",
       "  'fnct_search': '_search_message_unread',\n",
       "  'function': '_get_message_data',\n",
       "  'help': 'If checked new messages require your attention.',\n",
       "  'readonly': 1,\n",
       "  'selectable': True,\n",
       "  'store': False,\n",
       "  'string': 'Unread Messages',\n",
       "  'type': 'boolean'},\n",
       " 'name': {'readonly': True,\n",
       "  'required': True,\n",
       "  'select': True,\n",
       "  'selectable': True,\n",
       "  'size': 64,\n",
       "  'states': {'draft': [['readonly', False]], 'sent': [['readonly', False]]},\n",
       "  'string': 'Order Reference',\n",
       "  'type': 'char'},\n",
       " 'note': {'selectable': True,\n",
       "  'string': 'Terms and conditions',\n",
       "  'type': 'text'},\n",
       " 'order_line': {'context': {},\n",
       "  'domain': [],\n",
       "  'readonly': True,\n",
       "  'relation': 'sale.order.line',\n",
       "  'relation_field': 'order_id',\n",
       "  'selectable': True,\n",
       "  'states': {'draft': [['readonly', False]], 'sent': [['readonly', False]]},\n",
       "  'string': 'Order Lines',\n",
       "  'type': 'one2many'},\n",
       " 'order_policy': {'help': 'On demand: A draft invoice can be created from the sales order when needed. \\nOn delivery order: A draft invoice can be created from the delivery order when the products have been delivered. \\nBefore delivery: A draft invoice is created from the sales order and must be paid before the products can be delivered.',\n",
       "  'readonly': True,\n",
       "  'required': True,\n",
       "  'selectable': True,\n",
       "  'selection': [['manual', 'On Demand'],\n",
       "   ['picking', 'On Delivery Order'],\n",
       "   ['prepaid', 'Before Delivery']],\n",
       "  'states': {'draft': [['readonly', False]], 'sent': [['readonly', False]]},\n",
       "  'string': 'Create Invoice',\n",
       "  'type': 'selection'},\n",
       " 'origin': {'help': 'Reference of the document that generated this sales order request.',\n",
       "  'selectable': True,\n",
       "  'size': 64,\n",
       "  'string': 'Source Document',\n",
       "  'type': 'char'},\n",
       " 'partner_id': {'change_default': True,\n",
       "  'context': {},\n",
       "  'domain': [],\n",
       "  'readonly': True,\n",
       "  'relation': 'res.partner',\n",
       "  'required': True,\n",
       "  'select': True,\n",
       "  'selectable': True,\n",
       "  'states': {'draft': [['readonly', False]], 'sent': [['readonly', False]]},\n",
       "  'string': 'Customer',\n",
       "  'type': 'many2one'},\n",
       " 'partner_invoice_id': {'context': {},\n",
       "  'domain': [],\n",
       "  'help': 'Invoice address for current sales order.',\n",
       "  'readonly': True,\n",
       "  'relation': 'res.partner',\n",
       "  'required': True,\n",
       "  'selectable': True,\n",
       "  'states': {'draft': [['readonly', False]], 'sent': [['readonly', False]]},\n",
       "  'string': 'Invoice Address',\n",
       "  'type': 'many2one'},\n",
       " 'partner_shipping_id': {'context': {},\n",
       "  'domain': [],\n",
       "  'help': 'Delivery address for current sales order.',\n",
       "  'readonly': True,\n",
       "  'relation': 'res.partner',\n",
       "  'required': True,\n",
       "  'selectable': True,\n",
       "  'states': {'draft': [['readonly', False]], 'sent': [['readonly', False]]},\n",
       "  'string': 'Delivery Address',\n",
       "  'type': 'many2one'},\n",
       " 'payment_term': {'context': {},\n",
       "  'domain': [],\n",
       "  'relation': 'account.payment.term',\n",
       "  'selectable': True,\n",
       "  'string': 'Payment Term',\n",
       "  'type': 'many2one'},\n",
       " 'paypal_url': {'digits': [16, 2],\n",
       "  'fnct_inv': False,\n",
       "  'fnct_inv_arg': False,\n",
       "  'fnct_search': False,\n",
       "  'function': '_edi_paypal_url',\n",
       "  'readonly': 1,\n",
       "  'store': False,\n",
       "  'string': 'Paypal Url',\n",
       "  'type': 'char'},\n",
       " 'picked_rate': {'digits': [16, 2],\n",
       "  'fnct_inv': False,\n",
       "  'fnct_inv_arg': False,\n",
       "  'fnct_search': False,\n",
       "  'function': '_picked_rate',\n",
       "  'readonly': 1,\n",
       "  'store': False,\n",
       "  'string': 'Picked',\n",
       "  'type': 'float'},\n",
       " 'picking_ids': {'context': {},\n",
       "  'domain': [],\n",
       "  'help': 'This is a list of delivery orders that has been generated for this sales order.',\n",
       "  'readonly': True,\n",
       "  'relation': 'stock.picking.out',\n",
       "  'relation_field': 'sale_id',\n",
       "  'selectable': True,\n",
       "  'string': 'Related Picking',\n",
       "  'type': 'one2many'},\n",
       " 'picking_policy': {'help': \"Pick 'Deliver each product when available' if you allow partial delivery.\",\n",
       "  'readonly': True,\n",
       "  'required': True,\n",
       "  'selectable': True,\n",
       "  'selection': [['direct', 'Deliver each product when available'],\n",
       "   ['one', 'Deliver all products at once']],\n",
       "  'states': {'draft': [['readonly', False]], 'sent': [['readonly', False]]},\n",
       "  'string': 'Shipping Policy',\n",
       "  'type': 'selection'},\n",
       " 'portal_payment_options': {'digits': [16, 2],\n",
       "  'fnct_inv': False,\n",
       "  'fnct_inv_arg': False,\n",
       "  'fnct_search': False,\n",
       "  'function': '<lambda>',\n",
       "  'readonly': 1,\n",
       "  'store': False,\n",
       "  'string': 'Portal Payment Options',\n",
       "  'type': 'html'},\n",
       " 'pricelist_id': {'context': {},\n",
       "  'domain': [],\n",
       "  'help': 'Pricelist for current sales order.',\n",
       "  'readonly': True,\n",
       "  'relation': 'product.pricelist',\n",
       "  'required': True,\n",
       "  'selectable': True,\n",
       "  'states': {'draft': [['readonly', False]], 'sent': [['readonly', False]]},\n",
       "  'string': 'Pricelist',\n",
       "  'type': 'many2one'},\n",
       " 'project_id': {'context': {},\n",
       "  'domain': [],\n",
       "  'help': 'The analytic account related to a sales order.',\n",
       "  'readonly': True,\n",
       "  'relation': 'account.analytic.account',\n",
       "  'selectable': True,\n",
       "  'states': {'draft': [['readonly', False]], 'sent': [['readonly', False]]},\n",
       "  'string': 'Contract / Analytic',\n",
       "  'type': 'many2one'},\n",
       " 'section_id': {'context': {},\n",
       "  'domain': [],\n",
       "  'relation': 'crm.case.section',\n",
       "  'selectable': True,\n",
       "  'string': 'Sales Team',\n",
       "  'type': 'many2one'},\n",
       " 'shipped': {'help': 'It indicates that the sales order has been delivered. This field is updated only after the scheduler(s) have been launched.',\n",
       "  'readonly': True,\n",
       "  'selectable': True,\n",
       "  'string': 'Delivered',\n",
       "  'type': 'boolean'},\n",
       " 'shop_id': {'context': {},\n",
       "  'domain': [],\n",
       "  'readonly': True,\n",
       "  'relation': 'sale.shop',\n",
       "  'required': True,\n",
       "  'selectable': True,\n",
       "  'states': {'draft': [['readonly', False]], 'sent': [['readonly', False]]},\n",
       "  'string': 'Shop',\n",
       "  'type': 'many2one'},\n",
       " 'state': {'help': \"Gives the status of the quotation or sales order.\\nThe exception status is automatically set when a cancel operation occurs in the invoice validation (Invoice Exception) or in the picking list process (Shipping Exception).\\nThe 'Waiting Schedule' status is set when the invoice is confirmed but waiting for the scheduler to run on the order date.\",\n",
       "  'readonly': True,\n",
       "  'select': True,\n",
       "  'selectable': True,\n",
       "  'selection': [['draft', 'Draft Quotation'],\n",
       "   ['reserved', 'Reserved'],\n",
       "   ['sent', 'Quotation Sent'],\n",
       "   ['cancel', 'Cancelled'],\n",
       "   ['waiting_date', 'Waiting Schedule'],\n",
       "   ['progress', 'Sales Order'],\n",
       "   ['manual', 'Sale to Invoice'],\n",
       "   ['shipping_except', 'Shipping Exception'],\n",
       "   ['invoice_except', 'Invoice Exception'],\n",
       "   ['done', 'Done']],\n",
       "  'string': 'Status',\n",
       "  'type': 'selection'},\n",
       " 'user_id': {'context': {},\n",
       "  'domain': [],\n",
       "  'relation': 'res.users',\n",
       "  'select': True,\n",
       "  'selectable': True,\n",
       "  'states': {'draft': [['readonly', False]], 'sent': [['readonly', False]]},\n",
       "  'string': 'Salesperson',\n",
       "  'type': 'many2one'}}"
      ]
     },
     "execution_count": 6,
     "metadata": {},
     "output_type": "execute_result"
    }
   ],
   "source": [
    "so.columns_info"
   ]
  },
  {
   "cell_type": "markdown",
   "metadata": {},
   "source": [
    "## Search for sale orders"
   ]
  },
  {
   "cell_type": "code",
   "execution_count": 7,
   "metadata": {
    "collapsed": false,
    "scrolled": true
   },
   "outputs": [
    {
     "data": {
      "text/html": [
       "<div><table style='display:inline-block'><caption>RecordList(sale.order): length=11</caption><tr><th>Object</th><td>Object ('sale.order')</td></tr><tr><th>Proxy</th><td>xml-rpc://admin@localhost:8169/oev7-test4</td></tr><tr><th>Record count</th><td>11</td></tr></table><div style='display:inline-block;vertical-align:top;margin-left:10px;'>To get table representation of data call method<br/>&nbsp;<i>.as_html_table</i><br/>passing as arguments fields You want to see in resulting table<br/>for better information get doc on as_html_table method:<br/>&nbsp;<i>.as_html_table?</i><br/>example of using this mehtod:<br/>&nbsp;<i>.as_html_table('id','name','_name')</i><br/>Here <i>_name</i> field is aliase for result of <i>name_get</i> methodcalled on record</div></div>"
      ],
      "text/plain": [
       "RecordList(sale.order): length=11"
      ]
     },
     "execution_count": 7,
     "metadata": {},
     "output_type": "execute_result"
    }
   ],
   "source": [
    "# Standard search .search_records(domain)\n",
    "so_list = so.search_records([])\n",
    "so_list"
   ]
  },
  {
   "cell_type": "markdown",
   "metadata": {},
   "source": [
    "Also there are shorter syntax provided by [*openerp_proxy.ext.sugar*](http://pythonhosted.org/openerp_proxy/module_ref/openerp_proxy.ext.html#module-openerp_proxy.ext.sugar) extension:"
   ]
  },
  {
   "cell_type": "code",
   "execution_count": 8,
   "metadata": {
    "collapsed": false
   },
   "outputs": [
    {
     "data": {
      "text/html": [
       "<div><table style='display:inline-block'><caption>RecordList(sale.order): length=11</caption><tr><th>Object</th><td>Object ('sale.order')</td></tr><tr><th>Proxy</th><td>xml-rpc://admin@localhost:8169/oev7-test4</td></tr><tr><th>Record count</th><td>11</td></tr></table><div style='display:inline-block;vertical-align:top;margin-left:10px;'>To get table representation of data call method<br/>&nbsp;<i>.as_html_table</i><br/>passing as arguments fields You want to see in resulting table<br/>for better information get doc on as_html_table method:<br/>&nbsp;<i>.as_html_table?</i><br/>example of using this mehtod:<br/>&nbsp;<i>.as_html_table('id','name','_name')</i><br/>Here <i>_name</i> field is aliase for result of <i>name_get</i> methodcalled on record</div></div>"
      ],
      "text/plain": [
       "RecordList(sale.order): length=11"
      ]
     },
     "execution_count": 8,
     "metadata": {},
     "output_type": "execute_result"
    }
   ],
   "source": [
    "so_list = so([])\n",
    "so_list"
   ]
  },
  {
   "cell_type": "markdown",
   "metadata": {},
   "source": [
    "## Display Sale orders as HTML table"
   ]
  },
  {
   "cell_type": "markdown",
   "metadata": {},
   "source": [
    "It is posible to represent RecordList as HTML table, with ability to highlight rows by specified conditions.\n",
    "Also, when building result table, it is posible to display values of related fields, and even method calls. This functionality is implemented in [*openerp_proxy.ext.repr*](http://pythonhosted.org/openerp_proxy/module_ref/openerp_proxy.ext.html#module-openerp_proxy.ext.repr) module"
   ]
  },
  {
   "cell_type": "code",
   "execution_count": 9,
   "metadata": {
    "collapsed": false
   },
   "outputs": [
    {
     "data": {
      "text/html": [
       "<div><table><caption>RecordList(sale.order): length=11</caption><tr><th>id</th><th>name</th><th>Partner name</th><th>order_line.as_html_list</th><th>Related Invoices</th><th>state</th></tr><tr><td>11</td><td>SO011</td><td>Administrator</td><td><div><ul><li><i>11</i>: [x-product-13] xproduct-13</li></ul></div></td><td><div><ul></ul></div></td><td>manual</td></tr><tr><td>10</td><td>SO010</td><td>Customer 1</td><td><div><ul><li><i>10</i>: [product1] Product1</li></ul></div></td><td><div><ul><li><i>30</i>: Повернення P-CARGO-00015</li><li><i>29</i>: Повернення постачальнику P-CARGO-00015</li></ul></div></td><td>manual</td></tr><tr style=\"background: #FFFF99\"><td>9</td><td>SO009</td><td>Customer 1</td><td><div><ul><li><i>9</i>: Product 2</li></ul></div></td><td><div><ul><li><i>24</i>: Інвойс </li></ul></div></td><td>progress</td></tr><tr style=\"background: #FFFF99\"><td>8</td><td>SO008</td><td>Customer 1</td><td><div><ul><li><i>8</i>: Product 2</li></ul></div></td><td><div><ul><li><i>25</i>: Інвойс P-CARGO-00007</li><li><i>23</i>: Інвойс </li></ul></div></td><td>progress</td></tr><tr><td>7</td><td>SO007</td><td>Customer 1</td><td><div><ul><li><i>7</i>: Product1</li></ul></div></td><td><div><ul><li><i>38</i>: Повернення постачальнику P-CARGO-00008</li><li><i>26</i>: Повернення постачальнику P-CARGO-00008</li><li><i>19</i>: Повернення постачальнику P-CARGO-00008</li><li><i>18</i>: Повернення постачальнику P-CARGO-00008</li><li><i>16</i>: Інвойс P-CARGO-00006</li></ul></div></td><td>manual</td></tr><tr><td>6</td><td>SO006</td><td>Customer 1</td><td><div><ul><li><i>6</i>: Product1</li></ul></div></td><td><div><ul><li><i>37</i>: Інвойс P-CARGO-00005</li><li><i>36</i>: Інвойс P-CARGO-00005</li><li><i>35</i>: Інвойс P-CARGO-00005</li><li><i>34</i>: Інвойс P-CARGO-00005</li><li><i>15</i>: Інвойс P-CARGO-00005</li></ul></div></td><td>manual</td></tr><tr><td>5</td><td>SO005</td><td>Customer 1</td><td><div><ul><li><i>5</i>: Product1</li></ul></div></td><td><div><ul><li><i>12</i>: SAJ/2014/0002 P-CARGO-00004</li></ul></div></td><td>manual</td></tr><tr><td>4</td><td>SO004</td><td>Customer 1</td><td><div><ul><li><i>4</i>: Product1</li></ul></div></td><td><div><ul><li><i>9</i>: Інвойс P-CARGO-00003</li><li><i>6</i>: Інвойс P-CARGO-00002</li></ul></div></td><td>manual</td></tr><tr><td>3</td><td>SO003</td><td>Customer 1</td><td><div><ul><li><i>3</i>: Product1</li></ul></div></td><td><div><ul><li><i>28</i>: Інвойс постачальника P-CARGO-00014</li><li><i>27</i>: Інвойс P-CARGO-00014</li></ul></div></td><td>manual</td></tr><tr style=\"background: #99FF99\"><td>2</td><td>SO002</td><td>Customer 1</td><td><div><ul><li><i>2</i>: Product1</li></ul></div></td><td><div><ul><li><i>1</i>: SAJ/2014/0001 </li></ul></div></td><td>done</td></tr><tr><td>1</td><td>SO001</td><td>Customer 1</td><td><div><ul><li><i>1</i>: Product1</li></ul></div></td><td><div><ul></ul></div></td><td>manual</td></tr></table><div>"
      ],
      "text/plain": [
       "<openerp_proxy.ext.repr.HTMLTable object>"
      ]
     },
     "execution_count": 9,
     "metadata": {},
     "output_type": "execute_result"
    }
   ],
   "source": [
    "# High light rows by condition\n",
    "highlighters = {\n",
    "    '#99FF99': lambda x: x.state == 'done',\n",
    "    '#9999FF': lambda x: x.state == 'draft',\n",
    "    '#FFFF99': lambda x: x.state == 'progress',\n",
    "}\n",
    "\n",
    "# Display as table.\n",
    "# Note that prefetch method is used to fetch some set of fields via one RPC call.\n",
    "# on big datasets it may speed up performance signifiantly.\n",
    "# Each RecordList instance have related cache, which reduce need of reading data on each field get.\n",
    "so_list.prefetch('id', 'name', 'partner_id', 'state')\n",
    "so_table = so_list.as_html_table('id',\n",
    "                                 'name',\n",
    "                                 # _name attribute provides result of *name_search method:\n",
    "                                 HField('partner_id._name', name='Partner name'),\n",
    "                                 # Also it is posible to display result of method calls\n",
    "                                 # 'as_html_list()' is method of RecordList.\n",
    "                                 'order_line.as_html_list',\n",
    "                                 # Argument can be passed as tuple, (field, field name)\n",
    "                                 ('invoice_ids.as_html_list', 'Related Invoices'),\n",
    "                                 'state',\n",
    "                                 highlighters=highlighters,\n",
    ")\n",
    "so_table"
   ]
  },
  {
   "cell_type": "markdown",
   "metadata": {},
   "source": [
    "There also available to_csv method, which allow to represent table in csv format"
   ]
  },
  {
   "cell_type": "code",
   "execution_count": 10,
   "metadata": {
    "collapsed": false
   },
   "outputs": [
    {
     "data": {
      "text/html": [
       "<a href='tmp/tmpugbsV8.csv' target='_blank'>tmp/tmpugbsV8.csv</a><br>"
      ],
      "text/plain": [
       "/home/katyukha/projects/erp-proxy/examples/tmp/tmpugbsV8.csv"
      ]
     },
     "execution_count": 10,
     "metadata": {},
     "output_type": "execute_result"
    }
   ],
   "source": [
    "so_table.to_csv()"
   ]
  },
  {
   "cell_type": "markdown",
   "metadata": {},
   "source": [
    "## Access one element of recordlist via index"
   ]
  },
  {
   "cell_type": "code",
   "execution_count": 11,
   "metadata": {
    "collapsed": false
   },
   "outputs": [
    {
     "data": {
      "text/html": [
       "<div><table style='display:inline-block'><caption>R(sale.order, 11)[SO011]</caption><tr><th>Object</th><td>Object ('sale.order')</td></tr><tr><th>Proxy</th><td>xml-rpc://admin@localhost:8169/oev7-test4</td></tr><tr><th>Name</th><td>SO011</td></tr></table><div style='display:inline-block;vertical-align:top;margin-left:10px;'>To get HTML Table representation of this record call method:<br/>&nbsp;<i>.as_html()</i><br/>Optionaly You can pass list of fields You want to see:<br/>&nbsp;<i>.as_html('name', 'origin')</i><br/>for better information get doc on <i>as_html</i> method:<br/>&nbsp;<i>.as_html?</i><br/></div></div>"
      ],
      "text/plain": [
       "R(sale.order, 11)[SO011]"
      ]
     },
     "execution_count": 11,
     "metadata": {},
     "output_type": "execute_result"
    }
   ],
   "source": [
    "so_list[0]\n"
   ]
  },
  {
   "cell_type": "markdown",
   "metadata": {},
   "source": [
    "## Display one sale order as HTML Table"
   ]
  },
  {
   "cell_type": "code",
   "execution_count": 12,
   "metadata": {
    "collapsed": false
   },
   "outputs": [
    {
     "data": {
      "text/html": [
       "<table><caption>Record SO011</caption><tr><th>Column</th><th>Value</th></tr><tr><th>name</th><td>SO011</td></tr><tr><th>origin</th><td>False</td></tr><tr><th>partner_id</th><td>R(res.partner, 3)[Administrator]</td></tr><tr><th>partner_id._name</th><td>Administrator</td></tr><tr><th>partner_id.sale_order_ids.length</th><td>1</td></tr></table>"
      ],
      "text/plain": [
       "<IPython.core.display.HTML object>"
      ]
     },
     "execution_count": 12,
     "metadata": {},
     "output_type": "execute_result"
    }
   ],
   "source": [
    "so_list[0].as_html('name',\n",
    "                   'origin',\n",
    "                   'partner_id',        # Will display Reacord instance representing partner related to this sale order\n",
    "                   'partner_id._name',  # Will display result of 'name_get' called on partner\n",
    "                   'partner_id.sale_order_ids.length')  # Display how many sale orders have this partner"
   ]
  },
  {
   "cell_type": "code",
   "execution_count": 13,
   "metadata": {
    "collapsed": false
   },
   "outputs": [
    {
     "data": {
      "text/html": [
       "<table><caption>Record SO011</caption><tr><th>Column</th><th>Value</th></tr><tr><th>Categories</th><td>RecordList(crm.case.categ): length=0</td></tr><tr><th>Confirmation Date</th><td>2014-08-08</td></tr><tr><th>Contract / Analytic</th><td>False</td></tr><tr><th>Create Invoice</th><td>manual</td></tr><tr><th>Creation Date</th><td>2014-08-08 15:05:43</td></tr><tr><th>Customer</th><td>R(res.partner, 3)[Administrator]</td></tr><tr><th>Customer Reference</th><td>False</td></tr><tr><th>Date</th><td>2014-08-08</td></tr><tr><th>Delivered</th><td>False</td></tr><tr><th>Delivery Address</th><td>R(res.partner, 3)[Administrator]</td></tr><tr><th>Delivery Method</th><td>False</td></tr><tr><th>Fiscal Position</th><td>False</td></tr><tr><th>Incoterm</th><td>False</td></tr><tr><th>Invoice Address</th><td>R(res.partner, 3)[Administrator]</td></tr><tr><th>Invoice on</th><td>order</td></tr><tr><th>Invoices</th><td>RecordList(account.invoice): length=0</td></tr><tr><th>Messages</th><td>RecordList(mail.message): length=3</td></tr><tr><th>Order Lines</th><td>RecordList(sale.order.line): length=1</td></tr><tr><th>Order Reference</th><td>SO011</td></tr><tr><th>Payment Term</th><td>False</td></tr><tr><th>Pricelist</th><td>R(product.pricelist, 1)[Public Pricelist (UAH)]</td></tr><tr><th>Related Picking</th><td>RecordList(stock.picking.out): length=1</td></tr><tr><th>Sales Team</th><td>False</td></tr><tr><th>Salesperson</th><td>R(res.users, 1)[Administrator]</td></tr><tr><th>Shipping Policy</th><td>direct</td></tr><tr><th>Shop</th><td>R(sale.shop, 1)[Your Company]</td></tr><tr><th>Source Document</th><td>False</td></tr><tr><th>Status</th><td>manual</td></tr><tr><th>Terms and conditions</th><td>False</td></tr></table>"
      ],
      "text/plain": [
       "<IPython.core.display.HTML object>"
      ]
     },
     "execution_count": 13,
     "metadata": {},
     "output_type": "execute_result"
    }
   ],
   "source": [
    "so_list[0].as_html()  # Display all fields for firest sale order record"
   ]
  }
 ],
 "metadata": {
  "kernelspec": {
   "display_name": "Python 2",
   "language": "python",
   "name": "python2"
  },
  "language_info": {
   "codemirror_mode": {
    "name": "ipython",
    "version": 2
   },
   "file_extension": ".py",
   "mimetype": "text/x-python",
   "name": "python",
   "nbconvert_exporter": "python",
   "pygments_lexer": "ipython2",
   "version": "2.7.3"
  }
 },
 "nbformat": 4,
 "nbformat_minor": 0
}
