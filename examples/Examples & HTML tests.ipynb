{
 "cells": [
  {
   "cell_type": "markdown",
   "metadata": {},
   "source": [
    "# Example of HTML capabilities of project inside IPython / Jupyter notebook"
   ]
  },
  {
   "cell_type": "markdown",
   "metadata": {},
   "source": [
    "Note, this file used in tests, so it may contain additional test related logic."
   ]
  },
  {
   "cell_type": "markdown",
   "metadata": {},
   "source": [
    "## Initializing Environment"
   ]
  },
  {
   "cell_type": "code",
   "execution_count": 1,
   "metadata": {
    "collapsed": false
   },
   "outputs": [],
   "source": [
    "# import extensions first (they modify Session and Client classes)\n",
    "from openerp_proxy.ext.all import HField\n",
    "\n",
    "# Enable module_utils plugin\n",
    "import openerp_proxy.plugins.module_utils\n",
    "\n",
    "# Import Client and Session classes\n",
    "from openerp_proxy import (Client,\n",
    "                           Session)"
   ]
  },
  {
   "cell_type": "markdown",
   "metadata": {},
   "source": [
    "## Connect to odoo database"
   ]
  },
  {
   "cell_type": "markdown",
   "metadata": {},
   "source": [
    "For connection to Odoo ```Client``` class is used. Below is example of it's usage."
   ]
  },
  {
   "cell_type": "code",
   "execution_count": 2,
   "metadata": {
    "collapsed": false
   },
   "outputs": [
    {
     "data": {
      "text/html": [
       "\n",
       "<div class=\"container-fluid\">\n",
       "    <div class=\"row\">\n",
       "        <div class=\"col-md-7 col-lg-7\">\n",
       "<table class=\"table table-bordered table-condensed \" style=\"margin-left:0;\">\n",
       "<caption>RPC Client</caption>\n",
       "<tr><th>login</th><td>None</td></tr><tr><th>Host</th><td>localhost</td></tr><tr><th>Protocol</th><td>xml-rpc</td></tr><tr><th>Port</th><td>8069</td></tr><tr><th>Database</th><td>None</td></tr>\n",
       "</table>\n",
       "</div>\n",
       "        <div style=\"display:inline-block\" class=\"panel panel-default col-md-5 col-lg-5\">\n",
       "            <div class=\"panel-heading\">Info</div>\n",
       "            <div class=\"panel-body\">To get list of registered objects for thist database<br/>access <i>registered_objects</i> property:<br/>&nbsp;<i>.registered_objects</i>To get Object instance just call <i>get_obj</i> method<br/>&nbsp;<i>.get_obj(name)</i><br/>where <i>name</i> is name of Object You want to get<br/>or use get item syntax instead:</br>&nbsp;<i>[name]</i></div>\n",
       "        </div>\n",
       "    </div>\n",
       "</div>\n"
      ],
      "text/plain": [
       "Client: xml-rpc://None@localhost:8069/None"
      ]
     },
     "execution_count": 2,
     "metadata": {},
     "output_type": "execute_result"
    }
   ],
   "source": [
    "cl = Client('localhost')  # connect to local instance of server\n",
    "cl"
   ]
  },
  {
   "cell_type": "markdown",
   "metadata": {},
   "source": [
    "Next we should check if database we would like to connect to is present on server.\n",
    "For this purpose we should use Odoo's database service, which could be accessed via ```Client.services.db```.\n",
    "And if database does not exists, we can create it."
   ]
  },
  {
   "cell_type": "code",
   "execution_count": 3,
   "metadata": {
    "collapsed": true
   },
   "outputs": [],
   "source": [
    "# check if our demo database exists\n",
    "if 'openerp_proxy_test_db' not in cl.services.db:\n",
    "    # create demo database\n",
    "    cl.services.db.create_db('admin', 'openerp_proxy_test_db', demo=True, lang='en_US')"
   ]
  },
  {
   "cell_type": "markdown",
   "metadata": {},
   "source": [
    "And now we can login to our database."
   ]
  },
  {
   "cell_type": "code",
   "execution_count": 4,
   "metadata": {
    "collapsed": false
   },
   "outputs": [
    {
     "data": {
      "text/html": [
       "\n",
       "<div class=\"container-fluid\">\n",
       "    <div class=\"row\">\n",
       "        <div class=\"col-md-7 col-lg-7\">\n",
       "<table class=\"table table-bordered table-condensed \" style=\"margin-left:0;\">\n",
       "<caption>RPC Client</caption>\n",
       "<tr><th>login</th><td>admin</td></tr><tr><th>Host</th><td>localhost</td></tr><tr><th>Protocol</th><td>xml-rpc</td></tr><tr><th>Port</th><td>8069</td></tr><tr><th>Database</th><td>openerp_proxy_test_db</td></tr>\n",
       "</table>\n",
       "</div>\n",
       "        <div style=\"display:inline-block\" class=\"panel panel-default col-md-5 col-lg-5\">\n",
       "            <div class=\"panel-heading\">Info</div>\n",
       "            <div class=\"panel-body\">To get list of registered objects for thist database<br/>access <i>registered_objects</i> property:<br/>&nbsp;<i>.registered_objects</i>To get Object instance just call <i>get_obj</i> method<br/>&nbsp;<i>.get_obj(name)</i><br/>where <i>name</i> is name of Object You want to get<br/>or use get item syntax instead:</br>&nbsp;<i>[name]</i></div>\n",
       "        </div>\n",
       "    </div>\n",
       "</div>\n"
      ],
      "text/plain": [
       "Client: xml-rpc://admin@localhost:8069/openerp_proxy_test_db"
      ]
     },
     "execution_count": 4,
     "metadata": {},
     "output_type": "execute_result"
    }
   ],
   "source": [
    "# login to created database\n",
    "ldb = cl.login('openerp_proxy_test_db', 'admin', 'admin')  # all this arguments could be passed directly to Client constructor.\n",
    "\n",
    "# and let's look how it is displayed in IPython\n",
    "ldb"
   ]
  },
  {
   "cell_type": "markdown",
   "metadata": {},
   "source": [
    "*Note*, that ```ldb``` is new instance of ```Client``` class, but with login credential. it can be used to interact with object service (models, documents, logic, ...)"
   ]
  },
  {
   "cell_type": "markdown",
   "metadata": {},
   "source": [
    "## Session class"
   ]
  },
  {
   "cell_type": "markdown",
   "metadata": {},
   "source": [
    "If You often need to connect to same databases, there are a ```openerp_proxy.Session``` class,\n",
    "which automaticaly save, most of your connections, made via ```Session.connect``` method in specified file."
   ]
  },
  {
   "cell_type": "code",
   "execution_count": 5,
   "metadata": {
    "collapsed": false
   },
   "outputs": [],
   "source": [
    "# create session instance\n",
    "session = Session('~/.openerp_proxy.local.json')  # default file path is '~/.openerp_proxy.json'"
   ]
  },
  {
   "cell_type": "markdown",
   "metadata": {},
   "source": [
    "And there are option You may be interested in. It is 'store_passwords', which automaticaly saves password You have used for connection."
   ]
  },
  {
   "cell_type": "code",
   "execution_count": 6,
   "metadata": {
    "collapsed": false
   },
   "outputs": [
    {
     "data": {
      "text/plain": [
       "True"
      ]
     },
     "execution_count": 6,
     "metadata": {},
     "output_type": "execute_result"
    }
   ],
   "source": [
    "session.option('store_passwords', True)"
   ]
  },
  {
   "cell_type": "markdown",
   "metadata": {},
   "source": [
    "We used ```openerp_proxy.Client``` class to create connection to database, so our session does not know anything about it. Let's add our connection to our session:"
   ]
  },
  {
   "cell_type": "code",
   "execution_count": 7,
   "metadata": {
    "collapsed": false
   },
   "outputs": [
    {
     "data": {
      "text/html": [
       "\n",
       "<div class=\"container-fluid\">\n",
       "    <div class=\"row\">\n",
       "        <div class=\"col-md-7 col-lg-7\">\n",
       "<table class=\"table table-bordered table-condensed table-striped\" style=\"margin-left:0;\">\n",
       "<caption>Previous connections</caption>\n",
       "<tr><th>DB URL</th><th>DB Index</th><th>DB Aliases</th></tr><tr><td>xml-rpc://admin@localhost:8069/openerp_proxy_test_db</td><td>1</td><td></td></tr>\n",
       "</table>\n",
       "</div>\n",
       "        <div style=\"display:inline-block\" class=\"panel panel-default col-md-5 col-lg-5\">\n",
       "            <div class=\"panel-heading\">Info</div>\n",
       "            <div class=\"panel-body\">To get connection just call<br/> <ul><li>session.<b>aliase</b></li><li>session[<b>index</b>]</li><li>session[<b>aliase</b>]</li> <li>session[<b>url</b>]</li><li>session.get_db(<b>url</b>|<b>index</b>|<b>aliase</b>)</li></ul></div>\n",
       "        </div>\n",
       "    </div>\n",
       "</div>\n"
      ],
      "text/plain": [
       "<extend_me.Session at 0x3697390>"
      ]
     },
     "execution_count": 7,
     "metadata": {},
     "output_type": "execute_result"
    }
   ],
   "source": [
    "session.add_db(ldb)\n",
    "session"
   ]
  },
  {
   "cell_type": "markdown",
   "metadata": {},
   "source": [
    "And now we can get this connection from session by index, or by URL (look at the table above). But to simplify next connections, we may add aliase to this connection"
   ]
  },
  {
   "cell_type": "code",
   "execution_count": 8,
   "metadata": {
    "collapsed": false
   },
   "outputs": [
    {
     "data": {
      "text/html": [
       "\n",
       "<div class=\"container-fluid\">\n",
       "    <div class=\"row\">\n",
       "        <div class=\"col-md-7 col-lg-7\">\n",
       "<table class=\"table table-bordered table-condensed table-striped\" style=\"margin-left:0;\">\n",
       "<caption>Previous connections</caption>\n",
       "<tr><th>DB URL</th><th>DB Index</th><th>DB Aliases</th></tr><tr><td>xml-rpc://admin@localhost:8069/openerp_proxy_test_db</td><td>1</td><td>ldb</td></tr>\n",
       "</table>\n",
       "</div>\n",
       "        <div style=\"display:inline-block\" class=\"panel panel-default col-md-5 col-lg-5\">\n",
       "            <div class=\"panel-heading\">Info</div>\n",
       "            <div class=\"panel-body\">To get connection just call<br/> <ul><li>session.<b>aliase</b></li><li>session[<b>index</b>]</li><li>session[<b>aliase</b>]</li> <li>session[<b>url</b>]</li><li>session.get_db(<b>url</b>|<b>index</b>|<b>aliase</b>)</li></ul></div>\n",
       "        </div>\n",
       "    </div>\n",
       "</div>\n"
      ],
      "text/plain": [
       "<extend_me.Session at 0x3697390>"
      ]
     },
     "execution_count": 8,
     "metadata": {},
     "output_type": "execute_result"
    }
   ],
   "source": [
    "session.aliase('ldb', ldb)\n",
    "session"
   ]
  },
  {
   "cell_type": "markdown",
   "metadata": {},
   "source": [
    "So, now, to get connection again we could just type ```session.ldb```.\n",
    "\n",
    "Ok. initialization is done, and now we could save it."
   ]
  },
  {
   "cell_type": "code",
   "execution_count": 9,
   "metadata": {
    "collapsed": true
   },
   "outputs": [],
   "source": [
    "session.save()"
   ]
  },
  {
   "cell_type": "markdown",
   "metadata": {},
   "source": [
    "## Connect to odoo database  (via session)"
   ]
  },
  {
   "cell_type": "markdown",
   "metadata": {},
   "source": [
    "Let's now create new instance of session, and connect to created above database"
   ]
  },
  {
   "cell_type": "code",
   "execution_count": 10,
   "metadata": {
    "collapsed": false
   },
   "outputs": [
    {
     "data": {
      "text/html": [
       "\n",
       "<div class=\"container-fluid\">\n",
       "    <div class=\"row\">\n",
       "        <div class=\"col-md-7 col-lg-7\">\n",
       "<table class=\"table table-bordered table-condensed \" style=\"margin-left:0;\">\n",
       "<caption>RPC Client</caption>\n",
       "<tr><th>login</th><td>admin</td></tr><tr><th>Host</th><td>localhost</td></tr><tr><th>Protocol</th><td>xml-rpc</td></tr><tr><th>Port</th><td>8069</td></tr><tr><th>Database</th><td>openerp_proxy_test_db</td></tr>\n",
       "</table>\n",
       "</div>\n",
       "        <div style=\"display:inline-block\" class=\"panel panel-default col-md-5 col-lg-5\">\n",
       "            <div class=\"panel-heading\">Info</div>\n",
       "            <div class=\"panel-body\">To get list of registered objects for thist database<br/>access <i>registered_objects</i> property:<br/>&nbsp;<i>.registered_objects</i>To get Object instance just call <i>get_obj</i> method<br/>&nbsp;<i>.get_obj(name)</i><br/>where <i>name</i> is name of Object You want to get<br/>or use get item syntax instead:</br>&nbsp;<i>[name]</i></div>\n",
       "        </div>\n",
       "    </div>\n",
       "</div>\n"
      ],
      "text/plain": [
       "Client: xml-rpc://admin@localhost:8069/openerp_proxy_test_db"
      ]
     },
     "execution_count": 10,
     "metadata": {},
     "output_type": "execute_result"
    }
   ],
   "source": [
    "session = Session('~/.openerp_proxy.local.json')  # default file path is '~/.openerp_proxy.json'\n",
    "ldb = session.ldb\n",
    "ldb"
   ]
  },
  {
   "cell_type": "markdown",
   "metadata": {},
   "source": [
    "## Module Utils plugin"
   ]
  },
  {
   "cell_type": "markdown",
   "metadata": {},
   "source": [
    "Our database is clean, for next code, we need to install ```sale``` addon. For this, we have ```module_utils``` plugin, out-of-the box, which simplyfies work with modules. To enable this plugin, we just need to import it, and then we will have it in ```ldb.plugins``` property. This plugin was imported above.\n",
    "This plugin extends ```ir.module.module``` model from client side, adding simple methods: ```install``` and ```upgrade``` to it for shorter syntax. If You're interested for code, look [here](https://github.com/katyukha/openerp-proxy/blob/master/openerp_proxy/plugins/module_utils.py), it is very simple!\n",
    "\n",
    "So now, let's install ```sale``` module.  (Note that in most cases, **IPython autocompletition** work's fine)"
   ]
  },
  {
   "cell_type": "code",
   "execution_count": 11,
   "metadata": {
    "collapsed": false
   },
   "outputs": [
    {
     "data": {
      "text/plain": [
       "{'tag': 'reload', 'type': 'ir.actions.client'}"
      ]
     },
     "execution_count": 11,
     "metadata": {},
     "output_type": "execute_result"
    }
   ],
   "source": [
    "ldb.plugins.module_utils.m_sale.install()"
   ]
  },
  {
   "cell_type": "markdown",
   "metadata": {},
   "source": [
    "Congratulation! module was installed! Now we need only to refresh caches, to see new models in database."
   ]
  },
  {
   "cell_type": "code",
   "execution_count": 12,
   "metadata": {
    "collapsed": true
   },
   "outputs": [],
   "source": [
    "ldb.clean_caches()"
   ]
  },
  {
   "cell_type": "markdown",
   "metadata": {},
   "source": [
    "## Get object / model"
   ]
  },
  {
   "cell_type": "markdown",
   "metadata": {},
   "source": [
    "*ldb* here represents database connection (*Client* class instance)\n",
    "As told in help message above *.get_obj* method allows to get instance of specified\n",
    "*Object* proxy, where Object means *model*, *document*."
   ]
  },
  {
   "cell_type": "code",
   "execution_count": 13,
   "metadata": {
    "collapsed": false
   },
   "outputs": [
    {
     "data": {
      "text/html": [
       "\n",
       "<div class=\"container-fluid\">\n",
       "    <div class=\"row\">\n",
       "        <div class=\"col-md-7 col-lg-7\">\n",
       "<table class=\"table table-bordered table-condensed \" style=\"margin-left:0;\">\n",
       "<caption>Sales Order</caption>\n",
       "<tr><th>Model</th><td>sale.order</td></tr><tr><th>Client</th><td>xml-rpc://admin@localhost:8069/openerp_proxy_test_db</td></tr><tr><th>Name</th><td>Sales Order</td></tr><tr><th>Record count</th><td>9</td></tr>\n",
       "</table>\n",
       "</div>\n",
       "        <div style=\"display:inline-block\" class=\"panel panel-default col-md-5 col-lg-5\">\n",
       "            <div class=\"panel-heading\">Info</div>\n",
       "            <div class=\"panel-body\">To get information about columns access property<br/>&nbsp;<i>.columns_info</i><br/>Also there are available standard server-side methods:<br/>&nbsp;<i>search</i>, <i>read</i>, <i>write</i>, <i>unlink</i></br>And special methods provided <i>openerp_proxy's orm</i>:<ul style='margin-top:1px'><li><i>search_records</i> - same as <i>search</i> but returns <i>RecordList</i> instance</li><li><i>read_records</i> - same as <i>read</i> but returns <i>Record</i> or <i>RecordList</i> instance</li><ul><br/></div>\n",
       "        </div>\n",
       "    </div>\n",
       "</div>\n"
      ],
      "text/plain": [
       "Object ('sale.order')"
      ]
     },
     "execution_count": 13,
     "metadata": {},
     "output_type": "execute_result"
    }
   ],
   "source": [
    "so = ldb.get_obj('sale.order')\n",
    "so"
   ]
  },
  {
   "cell_type": "markdown",
   "metadata": {},
   "source": [
    "Also it is posible to use shorter (dictionary style) syntax:"
   ]
  },
  {
   "cell_type": "code",
   "execution_count": 14,
   "metadata": {
    "collapsed": false
   },
   "outputs": [
    {
     "data": {
      "text/html": [
       "\n",
       "<div class=\"container-fluid\">\n",
       "    <div class=\"row\">\n",
       "        <div class=\"col-md-7 col-lg-7\">\n",
       "<table class=\"table table-bordered table-condensed \" style=\"margin-left:0;\">\n",
       "<caption>Sales Order</caption>\n",
       "<tr><th>Model</th><td>sale.order</td></tr><tr><th>Client</th><td>xml-rpc://admin@localhost:8069/openerp_proxy_test_db</td></tr><tr><th>Name</th><td>Sales Order</td></tr><tr><th>Record count</th><td>9</td></tr>\n",
       "</table>\n",
       "</div>\n",
       "        <div style=\"display:inline-block\" class=\"panel panel-default col-md-5 col-lg-5\">\n",
       "            <div class=\"panel-heading\">Info</div>\n",
       "            <div class=\"panel-body\">To get information about columns access property<br/>&nbsp;<i>.columns_info</i><br/>Also there are available standard server-side methods:<br/>&nbsp;<i>search</i>, <i>read</i>, <i>write</i>, <i>unlink</i></br>And special methods provided <i>openerp_proxy's orm</i>:<ul style='margin-top:1px'><li><i>search_records</i> - same as <i>search</i> but returns <i>RecordList</i> instance</li><li><i>read_records</i> - same as <i>read</i> but returns <i>Record</i> or <i>RecordList</i> instance</li><ul><br/></div>\n",
       "        </div>\n",
       "    </div>\n",
       "</div>\n"
      ],
      "text/plain": [
       "Object ('sale.order')"
      ]
     },
     "execution_count": 14,
     "metadata": {},
     "output_type": "execute_result"
    }
   ],
   "source": [
    "so = ldb['sale.order']\n",
    "so"
   ]
  },
  {
   "cell_type": "markdown",
   "metadata": {},
   "source": [
    "And as result of using [*openerp_proxy.ext.sugar*](http://pythonhosted.org/openerp_proxy/module_ref/openerp_proxy.ext.html#module-openerp_proxy.ext.sugar) extension\n",
    "(which is automaticaly imported in 'openerp_proxy.ext.all')\n",
    "there are attribute-style access (which also support's IPython auto-completition):"
   ]
  },
  {
   "cell_type": "code",
   "execution_count": 15,
   "metadata": {
    "collapsed": false
   },
   "outputs": [
    {
     "data": {
      "text/html": [
       "\n",
       "<div class=\"container-fluid\">\n",
       "    <div class=\"row\">\n",
       "        <div class=\"col-md-7 col-lg-7\">\n",
       "<table class=\"table table-bordered table-condensed \" style=\"margin-left:0;\">\n",
       "<caption>Sales Order</caption>\n",
       "<tr><th>Model</th><td>sale.order</td></tr><tr><th>Client</th><td>xml-rpc://admin@localhost:8069/openerp_proxy_test_db</td></tr><tr><th>Name</th><td>Sales Order</td></tr><tr><th>Record count</th><td>9</td></tr>\n",
       "</table>\n",
       "</div>\n",
       "        <div style=\"display:inline-block\" class=\"panel panel-default col-md-5 col-lg-5\">\n",
       "            <div class=\"panel-heading\">Info</div>\n",
       "            <div class=\"panel-body\">To get information about columns access property<br/>&nbsp;<i>.columns_info</i><br/>Also there are available standard server-side methods:<br/>&nbsp;<i>search</i>, <i>read</i>, <i>write</i>, <i>unlink</i></br>And special methods provided <i>openerp_proxy's orm</i>:<ul style='margin-top:1px'><li><i>search_records</i> - same as <i>search</i> but returns <i>RecordList</i> instance</li><li><i>read_records</i> - same as <i>read</i> but returns <i>Record</i> or <i>RecordList</i> instance</li><ul><br/></div>\n",
       "        </div>\n",
       "    </div>\n",
       "</div>\n"
      ],
      "text/plain": [
       "Object ('sale.order')"
      ]
     },
     "execution_count": 15,
     "metadata": {},
     "output_type": "execute_result"
    }
   ],
   "source": [
    "so = ldb._sale_order\n",
    "so"
   ]
  },
  {
   "cell_type": "markdown",
   "metadata": {},
   "source": [
    "## Getting information about available columns for Object"
   ]
  },
  {
   "cell_type": "code",
   "execution_count": 16,
   "metadata": {
    "collapsed": false,
    "scrolled": false
   },
   "outputs": [
    {
     "data": {
      "text/html": [
       "<div><div>Note, that You may use <i>.to_csv()</i> method of this table to export it to CSV format</div><table class='table table-bordered table-condensed table-striped'><caption>Fields for sale.order</caption><tr><th>name</th><th>info.string</th><th>info.type</th><th>info.readonly</th><th>info.required</th><th>info.help</th></tr><tr><td>amount_tax</td><td>Taxes</td><td>float</td><td>1</td><td>None</td><td>The tax amount.</td></tr><tr><td>amount_total</td><td>Total</td><td>float</td><td>1</td><td>None</td><td>The total amount.</td></tr><tr><td>amount_untaxed</td><td>Untaxed Amount</td><td>float</td><td>1</td><td>None</td><td>The amount without tax.</td></tr><tr><td>client_order_ref</td><td>Customer Reference</td><td>char</td><td>None</td><td>None</td><td>None</td></tr><tr><td>company_id</td><td>Company</td><td>many2one</td><td>True</td><td>None</td><td>None</td></tr><tr><td>create_date</td><td>Creation Date</td><td>datetime</td><td>True</td><td>None</td><td>Date on which sales order is created.</td></tr><tr><td>currency_id</td><td>Currency</td><td>many2one</td><td>True</td><td>True</td><td>None</td></tr><tr><td>date_confirm</td><td>Confirmation Date</td><td>date</td><td>True</td><td>None</td><td>Date on which sales order is confirmed.</td></tr><tr><td>date_order</td><td>Date</td><td>date</td><td>True</td><td>True</td><td>None</td></tr><tr><td>fiscal_position</td><td>Fiscal Position</td><td>many2one</td><td>None</td><td>None</td><td>None</td></tr><tr><td>invoice_exists</td><td>Invoiced</td><td>boolean</td><td>1</td><td>None</td><td>It indicates that sales order has at least one invoice.</td></tr><tr><td>invoice_ids</td><td>Invoices</td><td>many2many</td><td>True</td><td>None</td><td>This is the list of invoices that have been generated for this sales order. The same sales order may have been invoiced in several times (by line for example).</td></tr><tr><td>invoice_quantity</td><td>Invoice on</td><td>selection</td><td>True</td><td>True</td><td>The sales order will automatically create the invoice proposition (draft invoice).</td></tr><tr><td>invoiced</td><td>Paid</td><td>boolean</td><td>1</td><td>None</td><td>It indicates that an invoice has been paid.</td></tr><tr><td>invoiced_rate</td><td>Invoiced Ratio</td><td>float</td><td>1</td><td>None</td><td>None</td></tr><tr><td>message_follower_ids</td><td>Followers</td><td>many2many</td><td>None</td><td>None</td><td>None</td></tr><tr><td>message_ids</td><td>Messages</td><td>one2many</td><td>None</td><td>None</td><td>Messages and communication history</td></tr><tr><td>message_is_follower</td><td>Is a Follower</td><td>boolean</td><td>1</td><td>None</td><td>None</td></tr><tr><td>message_summary</td><td>Summary</td><td>text</td><td>1</td><td>None</td><td>Holds the Chatter summary (number of messages, ...). This summary is directly in html format in order to be inserted in kanban views.</td></tr><tr><td>message_unread</td><td>Unread Messages</td><td>boolean</td><td>1</td><td>None</td><td>If checked new messages require your attention.</td></tr><tr><td>name</td><td>Order Reference</td><td>char</td><td>True</td><td>True</td><td>None</td></tr><tr><td>note</td><td>Terms and conditions</td><td>text</td><td>None</td><td>None</td><td>None</td></tr><tr><td>order_line</td><td>Order Lines</td><td>one2many</td><td>True</td><td>None</td><td>None</td></tr><tr><td>order_policy</td><td>Create Invoice</td><td>selection</td><td>True</td><td>True</td><td>This field controls how invoice and delivery operations are synchronized.</td></tr><tr><td>origin</td><td>Source Document</td><td>char</td><td>None</td><td>None</td><td>Reference of the document that generated this sales order request.</td></tr><tr><td>partner_id</td><td>Customer</td><td>many2one</td><td>True</td><td>True</td><td>None</td></tr><tr><td>partner_invoice_id</td><td>Invoice Address</td><td>many2one</td><td>True</td><td>True</td><td>Invoice address for current sales order.</td></tr><tr><td>partner_shipping_id</td><td>Delivery Address</td><td>many2one</td><td>True</td><td>True</td><td>Delivery address for current sales order.</td></tr><tr><td>payment_term</td><td>Payment Term</td><td>many2one</td><td>None</td><td>None</td><td>None</td></tr><tr><td>paypal_url</td><td>Paypal Url</td><td>char</td><td>1</td><td>None</td><td>None</td></tr><tr><td>portal_payment_options</td><td>Portal Payment Options</td><td>html</td><td>1</td><td>None</td><td>None</td></tr><tr><td>pricelist_id</td><td>Pricelist</td><td>many2one</td><td>True</td><td>True</td><td>Pricelist for current sales order.</td></tr><tr><td>project_id</td><td>Contract / Analytic</td><td>many2one</td><td>True</td><td>None</td><td>The analytic account related to a sales order.</td></tr><tr><td>shop_id</td><td>Shop</td><td>many2one</td><td>True</td><td>True</td><td>None</td></tr><tr><td>state</td><td>Status</td><td>selection</td><td>True</td><td>None</td><td>Gives the status of the quotation or sales order. \n",
       "The exception status is automatically set when a cancel operation occurs in the processing of a document linked to the sales order. \n",
       "The 'Waiting Schedule' status is set when the invoice is confirmed but waiting for the scheduler to run on the order date.</td></tr><tr><td>user_id</td><td>Salesperson</td><td>many2one</td><td>None</td><td>None</td><td>None</td></tr></table><div>"
      ],
      "text/plain": [
       "name                    info.string             info.type      info.readonly    info.required  info.help\n",
       "----------------------  ----------------------  -----------  ---------------  ---------------  ------------------------------------------------------------------------------------------------------------------------------------------------------------------------------------------------------------------------------------------------------------------------------------------------------------------\n",
       "amount_tax              Taxes                   float                      1                   The tax amount.\n",
       "amount_total            Total                   float                      1                   The total amount.\n",
       "amount_untaxed          Untaxed Amount          float                      1                   The amount without tax.\n",
       "client_order_ref        Customer Reference      char\n",
       "company_id              Company                 many2one                   1\n",
       "create_date             Creation Date           datetime                   1                   Date on which sales order is created.\n",
       "currency_id             Currency                many2one                   1                1\n",
       "date_confirm            Confirmation Date       date                       1                   Date on which sales order is confirmed.\n",
       "date_order              Date                    date                       1                1\n",
       "fiscal_position         Fiscal Position         many2one\n",
       "invoice_exists          Invoiced                boolean                    1                   It indicates that sales order has at least one invoice.\n",
       "invoice_ids             Invoices                many2many                  1                   This is the list of invoices that have been generated for this sales order. The same sales order may have been invoiced in several times (by line for example).\n",
       "invoice_quantity        Invoice on              selection                  1                1  The sales order will automatically create the invoice proposition (draft invoice).\n",
       "invoiced                Paid                    boolean                    1                   It indicates that an invoice has been paid.\n",
       "invoiced_rate           Invoiced Ratio          float                      1\n",
       "message_follower_ids    Followers               many2many\n",
       "message_ids             Messages                one2many                                       Messages and communication history\n",
       "message_is_follower     Is a Follower           boolean                    1\n",
       "message_summary         Summary                 text                       1                   Holds the Chatter summary (number of messages, ...). This summary is directly in html format in order to be inserted in kanban views.\n",
       "message_unread          Unread Messages         boolean                    1                   If checked new messages require your attention.\n",
       "name                    Order Reference         char                       1                1\n",
       "note                    Terms and conditions    text\n",
       "order_line              Order Lines             one2many                   1\n",
       "order_policy            Create Invoice          selection                  1                1  This field controls how invoice and delivery operations are synchronized.\n",
       "origin                  Source Document         char                                           Reference of the document that generated this sales order request.\n",
       "partner_id              Customer                many2one                   1                1\n",
       "partner_invoice_id      Invoice Address         many2one                   1                1  Invoice address for current sales order.\n",
       "partner_shipping_id     Delivery Address        many2one                   1                1  Delivery address for current sales order.\n",
       "payment_term            Payment Term            many2one\n",
       "paypal_url              Paypal Url              char                       1\n",
       "portal_payment_options  Portal Payment Options  html                       1\n",
       "pricelist_id            Pricelist               many2one                   1                1  Pricelist for current sales order.\n",
       "project_id              Contract / Analytic     many2one                   1                   The analytic account related to a sales order.\n",
       "shop_id                 Shop                    many2one                   1                1\n",
       "state                   Status                  selection                  1                   Gives the status of the quotation or sales order. \n",
       "The exception status is automatically set when a cancel operation occurs in the processing of a document linked to the sales order. \n",
       "The 'Waiting Schedule' status is set when the invoice is confirmed but waiting for the scheduler to run on the order date.\n",
       "user_id                 Salesperson             many2one"
      ]
     },
     "execution_count": 16,
     "metadata": {},
     "output_type": "execute_result"
    }
   ],
   "source": [
    "so.columns_info"
   ]
  },
  {
   "cell_type": "markdown",
   "metadata": {},
   "source": [
    "## Search for sale orders"
   ]
  },
  {
   "cell_type": "code",
   "execution_count": 17,
   "metadata": {
    "collapsed": false,
    "scrolled": true
   },
   "outputs": [
    {
     "data": {
      "text/html": [
       "\n",
       "<div class=\"container-fluid\">\n",
       "    <div class=\"row\">\n",
       "        <div class=\"col-md-7 col-lg-7\">\n",
       "<table class=\"table table-bordered table-condensed \" style=\"margin-left:0;\">\n",
       "<caption>RecordList(sale.order): length=9</caption>\n",
       "<tr><th>Client</th><td>xml-rpc://admin@localhost:8069/openerp_proxy_test_db</td></tr><tr><th>Object</th><td>Object ('sale.order')</td></tr><tr><th>Record count</th><td>9</td></tr>\n",
       "</table>\n",
       "</div>\n",
       "        <div style=\"display:inline-block\" class=\"panel panel-default col-md-5 col-lg-5\">\n",
       "            <div class=\"panel-heading\">Info</div>\n",
       "            <div class=\"panel-body\">To get table representation of data call method<br/>&nbsp;<i>.as_html_table</i><br/>passing as arguments fields You want to see in resulting table<br/>for better information get doc on as_html_table method:<br/>&nbsp;<i>.as_html_table?</i><br/>example of using this mehtod:<br/>&nbsp;<i>.as_html_table('id','name','_name')</i><br/>Here <i>_name</i> field is aliase for result of <i>name_get</i> methodcalled on record</div>\n",
       "        </div>\n",
       "    </div>\n",
       "</div>\n"
      ],
      "text/plain": [
       "RecordList(sale.order): length=9"
      ]
     },
     "execution_count": 17,
     "metadata": {},
     "output_type": "execute_result"
    }
   ],
   "source": [
    "# Standard search .search_records(domain)\n",
    "so_list = so.search_records([])\n",
    "so_list"
   ]
  },
  {
   "cell_type": "markdown",
   "metadata": {},
   "source": [
    "Also there are shorter syntax provided by [*openerp_proxy.ext.sugar*](http://pythonhosted.org/openerp_proxy/module_ref/openerp_proxy.ext.html#module-openerp_proxy.ext.sugar) extension:"
   ]
  },
  {
   "cell_type": "code",
   "execution_count": 18,
   "metadata": {
    "collapsed": false
   },
   "outputs": [
    {
     "data": {
      "text/html": [
       "\n",
       "<div class=\"container-fluid\">\n",
       "    <div class=\"row\">\n",
       "        <div class=\"col-md-7 col-lg-7\">\n",
       "<table class=\"table table-bordered table-condensed \" style=\"margin-left:0;\">\n",
       "<caption>RecordList(sale.order): length=9</caption>\n",
       "<tr><th>Client</th><td>xml-rpc://admin@localhost:8069/openerp_proxy_test_db</td></tr><tr><th>Object</th><td>Object ('sale.order')</td></tr><tr><th>Record count</th><td>9</td></tr>\n",
       "</table>\n",
       "</div>\n",
       "        <div style=\"display:inline-block\" class=\"panel panel-default col-md-5 col-lg-5\">\n",
       "            <div class=\"panel-heading\">Info</div>\n",
       "            <div class=\"panel-body\">To get table representation of data call method<br/>&nbsp;<i>.as_html_table</i><br/>passing as arguments fields You want to see in resulting table<br/>for better information get doc on as_html_table method:<br/>&nbsp;<i>.as_html_table?</i><br/>example of using this mehtod:<br/>&nbsp;<i>.as_html_table('id','name','_name')</i><br/>Here <i>_name</i> field is aliase for result of <i>name_get</i> methodcalled on record</div>\n",
       "        </div>\n",
       "    </div>\n",
       "</div>\n"
      ],
      "text/plain": [
       "RecordList(sale.order): length=9"
      ]
     },
     "execution_count": 18,
     "metadata": {},
     "output_type": "execute_result"
    }
   ],
   "source": [
    "so_list = so([])\n",
    "so_list"
   ]
  },
  {
   "cell_type": "markdown",
   "metadata": {},
   "source": [
    "## Display Sale orders as HTML table"
   ]
  },
  {
   "cell_type": "markdown",
   "metadata": {},
   "source": [
    "It is posible to represent RecordList as HTML table, with ability to highlight rows by specified conditions.\n",
    "Also, when building result table, it is posible to display values of related fields, and even method calls. This functionality is implemented in [*openerp_proxy.ext.repr*](http://pythonhosted.org/openerp_proxy/module_ref/openerp_proxy.ext.html#module-openerp_proxy.ext.repr) module"
   ]
  },
  {
   "cell_type": "code",
   "execution_count": 19,
   "metadata": {
    "collapsed": false
   },
   "outputs": [
    {
     "data": {
      "text/html": [
       "<div><div>Note, that You may use <i>.to_csv()</i> method of this table to export it to CSV format</div><table class='table table-bordered table-condensed table-striped'><caption>RecordList(sale.order): length=9</caption><tr><th>id</th><th>name</th><th>Partner name</th><th>Partner email</th><th>Order lines</th><th>state</th></tr><tr><td>9</td><td>SO009</td><td>ASUSTeK, Tang Tsui</td><td>tang@asustek.com</td><td><IPython.core.display.HTML object></td><td>manual</td></tr><tr style=\"background: #9999FF\"><td>8</td><td>SO008</td><td>Millennium Industries</td><td>False</td><td><IPython.core.display.HTML object></td><td>draft</td></tr><tr><td>7</td><td>SO007</td><td>Luminous Technologies</td><td>False</td><td><IPython.core.display.HTML object></td><td>manual</td></tr><tr style=\"background: #9999FF\"><td>6</td><td>SO006</td><td>Think Big Systems</td><td>info@thinkbig.com</td><td><IPython.core.display.HTML object></td><td>draft</td></tr><tr style=\"background: #9999FF\"><td>5</td><td>SO005</td><td>Agrolait</td><td>info@agrolait.com</td><td><IPython.core.display.HTML object></td><td>draft</td></tr><tr style=\"background: #9999FF\"><td>4</td><td>SO004</td><td>Millennium Industries</td><td>False</td><td><IPython.core.display.HTML object></td><td>draft</td></tr><tr style=\"background: #9999FF\"><td>3</td><td>SO003</td><td>Chamber Works</td><td>info@chamberworks.com</td><td><IPython.core.display.HTML object></td><td>draft</td></tr><tr style=\"background: #9999FF\"><td>2</td><td>SO002</td><td>Bank Wealthy and sons</td><td>email@wealthyandsons.com</td><td><IPython.core.display.HTML object></td><td>draft</td></tr><tr style=\"background: #99FF99\"><td>1</td><td>SO001</td><td>Agrolait</td><td>info@agrolait.com</td><td><IPython.core.display.HTML object></td><td>done</td></tr></table><div>"
      ],
      "text/plain": [
       "  id  name    Partner name           Partner email             Order lines                         state\n",
       "----  ------  ---------------------  ------------------------  ----------------------------------  -------\n",
       "   9  SO009   ASUSTeK, Tang Tsui     tang@asustek.com          <IPython.core.display.HTML object>  manual\n",
       "   8  SO008   Millennium Industries  False                     <IPython.core.display.HTML object>  draft\n",
       "   7  SO007   Luminous Technologies  False                     <IPython.core.display.HTML object>  manual\n",
       "   6  SO006   Think Big Systems      info@thinkbig.com         <IPython.core.display.HTML object>  draft\n",
       "   5  SO005   Agrolait               info@agrolait.com         <IPython.core.display.HTML object>  draft\n",
       "   4  SO004   Millennium Industries  False                     <IPython.core.display.HTML object>  draft\n",
       "   3  SO003   Chamber Works          info@chamberworks.com     <IPython.core.display.HTML object>  draft\n",
       "   2  SO002   Bank Wealthy and sons  email@wealthyandsons.com  <IPython.core.display.HTML object>  draft\n",
       "   1  SO001   Agrolait               info@agrolait.com         <IPython.core.display.HTML object>  done"
      ]
     },
     "execution_count": 19,
     "metadata": {},
     "output_type": "execute_result"
    }
   ],
   "source": [
    "# High light rows by condition\n",
    "highlighters = {\n",
    "    '#99FF99': lambda x: x.state == 'done',\n",
    "    '#9999FF': lambda x: x.state == 'draft',\n",
    "    '#FFFF99': lambda x: x.state == 'progress',\n",
    "}\n",
    "\n",
    "# Display as table.\n",
    "# Note that prefetch method is used to fetch some set of fields with less RPC call.\n",
    "# on big datasets it may speed up performance signifiantly.\n",
    "# Each RecordList instance have related cache, which reduce need of reading data on each field get.\n",
    "so_list.prefetch('id', 'name', 'partner_id', 'partner_id.email', 'state')\n",
    "so_table = so_list.as_html_table(\n",
    "    'id',\n",
    "    'name',\n",
    "    # _name attribute provides result of *name_search method:\n",
    "    HField('partner_id._name', name='Partner name'),\n",
    "    # silent=True means, if field cannot be found, not throw error\n",
    "    HField('partner_id.email', name='Partner email', silent=True),\n",
    "    # Also it is posible to display result of method calls\n",
    "    # 'as_html_list()' is method of RecordList.\n",
    "    ('order_line.as_html_list', 'Order lines'),\n",
    "    'state',\n",
    "    highlighters=highlighters,\n",
    ")\n",
    "so_table"
   ]
  },
  {
   "cell_type": "markdown",
   "metadata": {},
   "source": [
    "There also available to_csv method, which allow to represent table in csv format"
   ]
  },
  {
   "cell_type": "code",
   "execution_count": 20,
   "metadata": {
    "collapsed": false
   },
   "outputs": [
    {
     "data": {
      "text/html": [
       "<a href='tmp/csv/tmprrTFbg.csv' target='_blank'>tmp/csv/tmprrTFbg.csv</a><br>"
      ],
      "text/plain": [
       "/home/katyukha/projects/erp-proxy/examples/tmp/csv/tmprrTFbg.csv"
      ]
     },
     "execution_count": 20,
     "metadata": {},
     "output_type": "execute_result"
    }
   ],
   "source": [
    "so_table.to_csv()"
   ]
  },
  {
   "cell_type": "markdown",
   "metadata": {},
   "source": [
    "## Access one element of recordlist via index"
   ]
  },
  {
   "cell_type": "code",
   "execution_count": 21,
   "metadata": {
    "collapsed": false
   },
   "outputs": [
    {
     "data": {
      "text/html": [
       "\n",
       "<div class=\"container-fluid\">\n",
       "    <div class=\"row\">\n",
       "        <div class=\"col-md-7 col-lg-7\">\n",
       "<table class=\"table table-bordered table-condensed \" style=\"margin-left:0;\">\n",
       "<caption>R(sale.order, 9)[SO009]</caption>\n",
       "<tr><th>Client</th><td>xml-rpc://admin@localhost:8069/openerp_proxy_test_db</td></tr><tr><th>Object</th><td>Object ('sale.order')</td></tr><tr><th>ID</th><td>9</td></tr><tr><th>Name</th><td>SO009</td></tr>\n",
       "</table>\n",
       "</div>\n",
       "        <div style=\"display:inline-block\" class=\"panel panel-default col-md-5 col-lg-5\">\n",
       "            <div class=\"panel-heading\">Info</div>\n",
       "            <div class=\"panel-body\">To get HTML Table representation of this record call method:<br/>&nbsp;<i>.as_html()</i><br/>Optionaly You can pass list of fields You want to see:<br/>&nbsp;<i>.as_html('name', 'origin')</i><br/>for better information get doc on <i>as_html</i> method:<br/>&nbsp;<i>.as_html?</i><br/></div>\n",
       "        </div>\n",
       "    </div>\n",
       "</div>\n"
      ],
      "text/plain": [
       "R(sale.order, 9)[SO009]"
      ]
     },
     "execution_count": 21,
     "metadata": {},
     "output_type": "execute_result"
    }
   ],
   "source": [
    "so_list[0]\n"
   ]
  },
  {
   "cell_type": "markdown",
   "metadata": {},
   "source": [
    "## Display one sale order as HTML Table"
   ]
  },
  {
   "cell_type": "code",
   "execution_count": 22,
   "metadata": {
    "collapsed": false
   },
   "outputs": [
    {
     "data": {
      "text/html": [
       "<table><caption>Record SO009</caption><tr><th>Column</th><th>Value</th></tr><tr><th>name</th><td>SO009</td></tr><tr><th>origin</th><td>False</td></tr><tr><th>partner_id</th><td>R(res.partner, 28)[ASUSTeK, Tang Tsui]</td></tr><tr><th>partner_id._name</th><td>ASUSTeK, Tang Tsui</td></tr><tr><th>partner_id.sale_order_ids.length</th><td>1</td></tr></table>"
      ],
      "text/plain": [
       "<IPython.core.display.HTML object>"
      ]
     },
     "execution_count": 22,
     "metadata": {},
     "output_type": "execute_result"
    }
   ],
   "source": [
    "so_list[0].as_html('name',\n",
    "                   'origin',\n",
    "                   'partner_id',        # Will display Reacord instance representing partner related to this sale order\n",
    "                   'partner_id._name',  # Will display result of 'name_get' called on partner\n",
    "                   'partner_id.sale_order_ids.length')  # Display how many sale orders have this partner"
   ]
  },
  {
   "cell_type": "code",
   "execution_count": 23,
   "metadata": {
    "collapsed": false
   },
   "outputs": [
    {
     "data": {
      "text/html": [
       "<table><caption>Record SO009</caption><tr><th>Column</th><th>Value</th></tr><tr><th>Confirmation Date</th><td>2015-11-03</td></tr><tr><th>Contract / Analytic</th><td>False</td></tr><tr><th>Create Invoice</th><td>manual</td></tr><tr><th>Creation Date</th><td>2015-11-03 09:18:40</td></tr><tr><th>Customer</th><td>R(res.partner, 28)[ASUSTeK, Tang Tsui]</td></tr><tr><th>Customer Reference</th><td>False</td></tr><tr><th>Date</th><td>2015-11-03</td></tr><tr><th>Delivery Address</th><td>R(res.partner, 28)[ASUSTeK, Tang Tsui]</td></tr><tr><th>Fiscal Position</th><td>False</td></tr><tr><th>Invoice Address</th><td>R(res.partner, 28)[ASUSTeK, Tang Tsui]</td></tr><tr><th>Invoice on</th><td>order</td></tr><tr><th>Invoices</th><td>RecordList(account.invoice): length=0</td></tr><tr><th>Messages</th><td>RecordList(mail.message): length=4</td></tr><tr><th>Order Lines</th><td>RecordList(sale.order.line): length=1</td></tr><tr><th>Order Reference</th><td>SO009</td></tr><tr><th>Payment Term</th><td>False</td></tr><tr><th>Pricelist</th><td>R(product.pricelist, 1)[Public Pricelist (EUR)]</td></tr><tr><th>Salesperson</th><td>R(res.users, 1)[Administrator]</td></tr><tr><th>Shop</th><td>R(sale.shop, 1)[Your Company]</td></tr><tr><th>Source Document</th><td>False</td></tr><tr><th>Status</th><td>manual</td></tr><tr><th>Terms and conditions</th><td>False</td></tr></table>"
      ],
      "text/plain": [
       "<IPython.core.display.HTML object>"
      ]
     },
     "execution_count": 23,
     "metadata": {},
     "output_type": "execute_result"
    }
   ],
   "source": [
    "so_list[0].as_html()  # Display all fields for firest sale order record"
   ]
  },
  {
   "cell_type": "markdown",
   "metadata": {},
   "source": [
    "## Report service"
   ]
  },
  {
   "cell_type": "markdown",
   "metadata": {},
   "source": [
    "There is ``reports`` service available in Odoo, which allows to print reports.\n",
    "Below example usage of it."
   ]
  },
  {
   "cell_type": "markdown",
   "metadata": {},
   "source": [
    "Access the service:"
   ]
  },
  {
   "cell_type": "code",
   "execution_count": 24,
   "metadata": {
    "collapsed": false
   },
   "outputs": [
    {
     "data": {
      "text/html": [
       "<div>This is report service. <br/>To get list of available reports<br/>You can access <i>available_reports</i><br/>property of this service: <pre>.available_reports</pre></div>"
      ],
      "text/plain": [
       "<extend_me.Service at 0x36dc250>"
      ]
     },
     "execution_count": 24,
     "metadata": {},
     "output_type": "execute_result"
    }
   ],
   "source": [
    "ldb.services.report"
   ]
  },
  {
   "cell_type": "markdown",
   "metadata": {},
   "source": [
    "Get list of available reports:"
   ]
  },
  {
   "cell_type": "code",
   "execution_count": 25,
   "metadata": {
    "collapsed": false
   },
   "outputs": [
    {
     "data": {
      "text/html": [
       "<div><div>Note, that You may use <i>.to_csv()</i> method of this table to export it to CSV format</div><table class='table table-bordered table-condensed table-striped'><caption>Available reports</caption><tr><th>report service name</th><th>report name</th><th>report model</th><th>report help info</th></tr><tr><td>account.account.balance</td><td>Trial Balance</td><td>account.account</td><td>False</td></tr><tr><td>account.analytic.account.balance</td><td>Analytic Balance</td><td>account.analytic.account</td><td>False</td></tr><tr><td>account.analytic.account.cost_ledger</td><td>Cost Ledger</td><td>account.analytic.account</td><td>False</td></tr><tr><td>account.analytic.account.inverted.balance</td><td>Inverted Analytic Balance</td><td>account.analytic.account</td><td>False</td></tr><tr><td>account.analytic.account.journal</td><td>Analytic Journal</td><td>account.analytic.journal</td><td>False</td></tr><tr><td>account.analytic.account.quantity_cost_ledger</td><td>Cost Ledger (Only quantities)</td><td>account.analytic.account</td><td>False</td></tr><tr><td>account.central.journal</td><td>Central Journal</td><td>account.journal.period</td><td>False</td></tr><tr><td>account.general.journal</td><td>General Journal</td><td>account.journal.period</td><td>False</td></tr><tr><td>account.general.ledger</td><td>General Ledger</td><td>account.account</td><td>False</td></tr><tr><td>account.general.ledger_landscape</td><td>General Ledger</td><td>account.account</td><td>False</td></tr><tr><td>account.intracom</td><td>IntraCom</td><td>account.move.line</td><td>False</td></tr><tr><td>account.invoice</td><td>Invoices</td><td>account.invoice</td><td>False</td></tr><tr><td>account.journal.period.print</td><td>Journal</td><td>account.journal.period</td><td>False</td></tr><tr><td>account.journal.period.print.sale.purchase</td><td>Sale/Purchase Journal</td><td>account.journal.period</td><td>False</td></tr><tr><td>account.overdue</td><td>Due Payments</td><td>res.partner</td><td>False</td></tr><tr><td>account.partner.balance</td><td>Partner Balance</td><td>account.account</td><td>False</td></tr><tr><td>account.third_party_ledger</td><td>Partner Ledger</td><td>res.partner</td><td>False</td></tr><tr><td>account.third_party_ledger_other</td><td>Partner Ledger</td><td>res.partner</td><td>False</td></tr><tr><td>account.transfer</td><td>Transfers</td><td>account.transfer</td><td>False</td></tr><tr><td>account.vat.declaration</td><td>Taxes Report</td><td>account.tax.code</td><td>False</td></tr><tr><td>ir.model.overview</td><td>Model Overview</td><td>ir.model</td><td>False</td></tr><tr><td>ir.module.reference</td><td>Technical guide</td><td>ir.module.module</td><td>False</td></tr><tr><td>preview.report</td><td>Preview Report</td><td>res.company</td><td>False</td></tr><tr><td>product.pricelist</td><td>Pricelist</td><td>product.product</td><td>False</td></tr><tr><td>product.product.label</td><td>Products Labels</td><td>product.product</td><td>False</td></tr><tr><td>res.partner</td><td>Labels</td><td>res.partner</td><td>False</td></tr><tr><td>sale.order</td><td>Quotation / Order</td><td>sale.order</td><td>False</td></tr></table><div>"
      ],
      "text/plain": [
       "report service name                            report name                    report model                report help info\n",
       "---------------------------------------------  -----------------------------  ------------------------  ------------------\n",
       "account.account.balance                        Trial Balance                  account.account                            0\n",
       "account.analytic.account.balance               Analytic Balance               account.analytic.account                   0\n",
       "account.analytic.account.cost_ledger           Cost Ledger                    account.analytic.account                   0\n",
       "account.analytic.account.inverted.balance      Inverted Analytic Balance      account.analytic.account                   0\n",
       "account.analytic.account.journal               Analytic Journal               account.analytic.journal                   0\n",
       "account.analytic.account.quantity_cost_ledger  Cost Ledger (Only quantities)  account.analytic.account                   0\n",
       "account.central.journal                        Central Journal                account.journal.period                     0\n",
       "account.general.journal                        General Journal                account.journal.period                     0\n",
       "account.general.ledger                         General Ledger                 account.account                            0\n",
       "account.general.ledger_landscape               General Ledger                 account.account                            0\n",
       "account.intracom                               IntraCom                       account.move.line                          0\n",
       "account.invoice                                Invoices                       account.invoice                            0\n",
       "account.journal.period.print                   Journal                        account.journal.period                     0\n",
       "account.journal.period.print.sale.purchase     Sale/Purchase Journal          account.journal.period                     0\n",
       "account.overdue                                Due Payments                   res.partner                                0\n",
       "account.partner.balance                        Partner Balance                account.account                            0\n",
       "account.third_party_ledger                     Partner Ledger                 res.partner                                0\n",
       "account.third_party_ledger_other               Partner Ledger                 res.partner                                0\n",
       "account.transfer                               Transfers                      account.transfer                           0\n",
       "account.vat.declaration                        Taxes Report                   account.tax.code                           0\n",
       "ir.model.overview                              Model Overview                 ir.model                                   0\n",
       "ir.module.reference                            Technical guide                ir.module.module                           0\n",
       "preview.report                                 Preview Report                 res.company                                0\n",
       "product.pricelist                              Pricelist                      product.product                            0\n",
       "product.product.label                          Products Labels                product.product                            0\n",
       "res.partner                                    Labels                         res.partner                                0\n",
       "sale.order                                     Quotation / Order              sale.order                                 0"
      ]
     },
     "execution_count": 25,
     "metadata": {},
     "output_type": "execute_result"
    }
   ],
   "source": [
    "ldb.services.report.available_reports"
   ]
  },
  {
   "cell_type": "markdown",
   "metadata": {},
   "source": [
    "Choose report name for current Odoo server version"
   ]
  },
  {
   "cell_type": "code",
   "execution_count": 26,
   "metadata": {
    "collapsed": false
   },
   "outputs": [
    {
     "data": {
      "text/plain": [
       "'sale.order'"
      ]
     },
     "execution_count": 26,
     "metadata": {},
     "output_type": "execute_result"
    }
   ],
   "source": [
    "from pkg_resources import parse_version as V\n",
    "if ldb.server_version >= V(\"8.0\"):\n",
    "    report_name = 'sale.report_saleorder'\n",
    "else:\n",
    "    report_name = 'sale.order'\n",
    "\n",
    "report_name"
   ]
  },
  {
   "cell_type": "markdown",
   "metadata": {},
   "source": [
    "Take a look on report object. It also has it's own HTML representation."
   ]
  },
  {
   "cell_type": "code",
   "execution_count": 27,
   "metadata": {
    "collapsed": false
   },
   "outputs": [
    {
     "data": {
      "text/html": [
       "\n",
       "<div class=\"container-fluid\">\n",
       "    <div class=\"row\">\n",
       "        <div class=\"col-md-7 col-lg-7\">\n",
       "<table class=\"table table-bordered table-condensed \" style=\"margin-left:0;\">\n",
       "<caption>Report Quotation / Order</caption>\n",
       "<tr><th>Model</th><td>sale.order</td></tr><tr><th>Service name</th><td>sale.order</td></tr><tr><th>Name</th><td>Quotation / Order</td></tr>\n",
       "</table>\n",
       "</div>\n",
       "        <div style=\"display:inline-block\" class=\"panel panel-default col-md-5 col-lg-5\">\n",
       "            <div class=\"panel-heading\">Info</div>\n",
       "            <div class=\"panel-body\">This is report representation.<br/>call <i>generate<i> method to generate new report<br/>&nbsp;<i>.generate([1, 2, 3])</i><br/>Also <i>generate</i> method can receive <br/>RecordList or Record instance as first argument.<br/>For more information look in <a href='http://pythonhosted.org/openerp_proxy/module_ref/openerp_proxy.service.html#module-openerp_proxy.service.report'>documentation</a></div>\n",
       "        </div>\n",
       "    </div>\n",
       "</div>\n"
      ],
      "text/plain": [
       "<extend_me.Report at 0x36c9ed0>"
      ]
     },
     "execution_count": 27,
     "metadata": {},
     "output_type": "execute_result"
    }
   ],
   "source": [
    "report = ldb.services.report[report_name]\n",
    "report"
   ]
  },
  {
   "cell_type": "markdown",
   "metadata": {},
   "source": [
    "And generate new report:"
   ]
  },
  {
   "cell_type": "code",
   "execution_count": 28,
   "metadata": {
    "collapsed": false
   },
   "outputs": [
    {
     "data": {
      "text/html": [
       "<a href='tmp/reports/Quotation - Orderd581f9a5c241ccd6024560bb2e04ae51587575930d2f2b589fd626ee9d584f8b.pdf' target='_blank'>tmp/reports/Quotation - Orderd581f9a5c241ccd6024560bb2e04ae51587575930d2f2b589fd626ee9d584f8b.pdf</a><br>"
      ],
      "text/plain": [
       "<extend_me.ReportResult at 0x36c4290>"
      ]
     },
     "execution_count": 28,
     "metadata": {},
     "output_type": "execute_result"
    }
   ],
   "source": [
    "report_result = report.generate(so_list)\n",
    "report_result"
   ]
  }
 ],
 "metadata": {
  "kernelspec": {
   "display_name": "Python 2",
   "language": "python",
   "name": "python2"
  },
  "language_info": {
   "codemirror_mode": {
    "name": "ipython",
    "version": 2
   },
   "file_extension": ".py",
   "mimetype": "text/x-python",
   "name": "python",
   "nbconvert_exporter": "python",
   "pygments_lexer": "ipython2",
   "version": "2.7.3"
  }
 },
 "nbformat": 4,
 "nbformat_minor": 0
}
